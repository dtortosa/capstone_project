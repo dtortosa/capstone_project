{
 "cells": [
  {
   "cell_type": "markdown",
   "id": "7e735800",
   "metadata": {},
   "source": [
    "# Scrapping Twitter data"
   ]
  },
  {
   "cell_type": "markdown",
   "id": "8c732e7c",
   "metadata": {},
   "source": [
    "I will try to collect the sentiment around the European economy and use it as a proxy of the expectations of the economic agents about the Euro, which can influence the demand of this currency and hence its value (see 02_data_preparation.ipynb for further details). \n",
    "\n",
    "In order to do that, I will use snscrape:\n",
    "\n",
    "- In order to get the json argument we need the github version of snscrap ([link](https://github.com/JustAnotherArchivist/snscrape/issues/77))\n",
    "\n",
    "- Installation command: `pip3.8 install --upgrade git+https://github.com/JustAnotherArchivist/snscrape@master`\n",
    "\n",
    "- snscrape info\n",
    "    - https://github.com/JustAnotherArchivist/snscrape\n",
    "\t- https://pypi.org/project/snscrape/\n",
    "\n",
    "- tutorials\n",
    "\t- https://medium.com/dataseries/how-to-scrape-millions-of-tweets-using-snscrape-195ee3594721\n",
    "    - https://betterprogramming.pub/how-to-scrape-tweets-with-snscrape-90124ed006af\n"
   ]
  },
  {
   "cell_type": "code",
   "execution_count": 3,
   "id": "d4f62bd0",
   "metadata": {},
   "outputs": [],
   "source": [
    "%%bash \n",
    "#set working directory\n",
    "cd /media/dftortosa/Windows/Users/dftor/Documents/diego_docs/industry/data_incubator/capstone_project/data/json_files"
   ]
  },
  {
   "cell_type": "markdown",
   "id": "21621224",
   "metadata": {},
   "source": [
    "Download tweets about the European Central Bank"
   ]
  },
  {
   "cell_type": "code",
   "execution_count": 13,
   "id": "8f6ce675",
   "metadata": {},
   "outputs": [
    {
     "name": "stdout",
     "output_type": "stream",
     "text": [
      "Process is interrupted.\n"
     ]
    }
   ],
   "source": [
    "%%bash\n",
    "#get tweets searching \"european central bank\"\n",
    "snscrape --jsonl --progress --since 1999-1-1 twitter-search \"european central bank until:2022-07-17\" > search_euro_bank_twitter_1999_1_1.json\n",
    "snscrape --jsonl --progress --since 1999-1-1 twitter-hashtag \"ecb until:2022-07-17\" > hashtag_euro_bank_twitter_1999_1_1.json\n",
    "    #[GLOBAL-OPTIONS]\n",
    "            #--jsonl: get the output as JSON\n",
    "            #--progress: show progress on stderr\n",
    "            #--max-results: return only the first N results\n",
    "            #--since DATETIME: Only return newer than DATETIME\n",
    "        #SCRAPER NAME\n",
    "            #twitter-search\n",
    "            #twitter-hashtag\n",
    "            #reddit-search\n",
    "            #etc...\n",
    "        #[SCRAPER-OPTIONS]\n",
    "            #Note that --since is an optional argument you can use, but until: is an operator used inside the twitter-search query. This seems to give me more consistent results than putting both arguments inside the query.\n",
    "                #https://betterprogramming.pub/how-to-scrape-tweets-with-snscrape-90124ed006af"
   ]
  },
  {
   "cell_type": "markdown",
   "id": "dd45ca4f",
   "metadata": {},
   "source": [
    "Download tweets about the economiy of different European countries"
   ]
  },
  {
   "cell_type": "code",
   "execution_count": null,
   "id": "20cb592f",
   "metadata": {},
   "outputs": [],
   "source": [
    "%%bash\n",
    "snscrape --jsonl --progress --since 1999-1-1 twitter-search \"EU debt crisis until:2022-07-17\" > search_eu_debt_crisis_twitter_1999_1_1.json\n",
    "snscrape --jsonl --progress --since 1999-1-1 twitter-search \"european union economy until:2022-07-17\" > search_european_union_economy_twitter_1999_1_1.json\n",
    "snscrape --jsonl --progress --since 1999-1-1 twitter-search \"Iceland economy until:2022-07-17\" > search_iceland_economy_twitter_1999_1_1.json\n",
    "snscrape --jsonl --progress --since 1999-1-1 twitter-search \"Portugal economy until:2022-07-17\" > search_portugal_economy_twitter_1999_1_1.json\n",
    "snscrape --jsonl --progress --since 1999-1-1 twitter-search \"Italy economy until:2022-07-17\" > search_italy_economy_twitter_1999_1_1.json\n",
    "snscrape --jsonl --progress --since 1999-1-1 twitter-search \"Ireland economy until:2022-07-17\" > search_ireland_economy_twitter_1999_1_1.json\n",
    "snscrape --jsonl --progress --since 1999-1-1 twitter-search \"Greece economy until:2022-07-17\" > search_greece_economy_twitter_1999_1_1.json\n",
    "snscrape --jsonl --progress --since 1999-1-1 twitter-search \"Spain economy until:2022-07-17\" > search_spain_economy_twitter_1999_1_1.json\n",
    "snscrape --jsonl --progress --since 1999-1-1 twitter-search \"Cyprus economy until:2022-07-17\" > search_cyprus_economy_twitter_1999_1_1.json\n",
    "snscrape --jsonl --progress --since 1999-1-1 twitter-search \"Slovenia economy until:2022-07-17\" > search_slovenia_economy_twitter_1999_1_1.json\n",
    "snscrape --jsonl --progress --since 1999-1-1 twitter-search \"France economy until:2022-07-17\" > search_france_economy_twitter_1999_1_1.json\n",
    "snscrape --jsonl --progress --since 1999-1-1 twitter-search \"Belgium economy until:2022-07-17\" > search_belgium_economy_twitter_1999_1_1.json\n",
    "snscrape --jsonl --progress --since 1999-1-1 twitter-search \"Croatia economy until:2022-07-17\" > search_croatia_economy_twitter_1999_1_1.json"
   ]
  },
  {
   "cell_type": "markdown",
   "id": "59281ac8",
   "metadata": {},
   "source": [
    "Download tweets about the presidents of the ECB"
   ]
  },
  {
   "cell_type": "code",
   "execution_count": 5,
   "id": "f9931559",
   "metadata": {},
   "outputs": [
    {
     "name": "stderr",
     "output_type": "stream",
     "text": [
      "Scraping, 100 results so far\n",
      "Scraping, 200 results so far\n",
      "Scraping, 300 results so far\n",
      "2022-08-02 21:17:07.899  CRITICAL  snscrape._cli  Dumped stack and locals to /tmp/snscrape_locals_446h61gg\n",
      "Traceback (most recent call last):\n",
      "  File \"/home/dftortosa/.local/bin/snscrape\", line 8, in <module>\n",
      "    sys.exit(main())\n",
      "  File \"/home/dftortosa/.local/lib/python3.8/site-packages/snscrape/_cli.py\", line 318, in main\n",
      "    for i, item in enumerate(scraper.get_items(), start = 1):\n",
      "  File \"/home/dftortosa/.local/lib/python3.8/site-packages/snscrape/modules/twitter.py\", line 1447, in get_items\n",
      "    yield from self._v2_timeline_instructions_to_tweets(obj)\n",
      "  File \"/home/dftortosa/.local/lib/python3.8/site-packages/snscrape/modules/twitter.py\", line 804, in _v2_timeline_instructions_to_tweets\n",
      "    yield from self._v2_instruction_tweet_entry_to_tweet(entry['entryId'], entry['content'], obj)\n",
      "  File \"/home/dftortosa/.local/lib/python3.8/site-packages/snscrape/modules/twitter.py\", line 827, in _v2_instruction_tweet_entry_to_tweet\n",
      "    yield self._tweet_to_tweet(tweet, obj)\n",
      "  File \"/home/dftortosa/.local/lib/python3.8/site-packages/snscrape/modules/twitter.py\", line 1269, in _tweet_to_tweet\n",
      "    kwargs['card'] = self._make_card(tweet['card'], _TwitterAPIType.V2, self._get_tweet_id(tweet))\n",
      "  File \"/home/dftortosa/.local/lib/python3.8/site-packages/snscrape/modules/twitter.py\", line 1085, in _make_card\n",
      "    return PeriscopeBroadcastCard(**kwargs)\n",
      "TypeError: __init__() missing 1 required positional argument: 'thumbnailUrl'\n"
     ]
    },
    {
     "ename": "CalledProcessError",
     "evalue": "Command 'b'#snscrape --jsonl --progress --since 2003-11-1 twitter-search \"Jean-Claude Trichet until:2011-10-31\" > search_trichet_twitter.json\\nsnscrape --jsonl --progress --since 2011-06-24 twitter-search \"Mario Draghi until:2019-10-31\" > search_draghi_twitter.json\\n    #starting when Draghi was finally selected as president.\\n#snscrape --jsonl --progress --since 2019-09-17 twitter-search \"Christine Lagarde until:2022-07-17\" > search_lagarde_twitter.json\\n    #starting when Lagarde was finally selected as president.\\n'' returned non-zero exit status 1.",
     "output_type": "error",
     "traceback": [
      "\u001b[0;31m---------------------------------------------------------------------------\u001b[0m",
      "\u001b[0;31mCalledProcessError\u001b[0m                        Traceback (most recent call last)",
      "\u001b[0;32m<ipython-input-5-75b2ded1c131>\u001b[0m in \u001b[0;36m<module>\u001b[0;34m\u001b[0m\n\u001b[0;32m----> 1\u001b[0;31m \u001b[0mget_ipython\u001b[0m\u001b[0;34m(\u001b[0m\u001b[0;34m)\u001b[0m\u001b[0;34m.\u001b[0m\u001b[0mrun_cell_magic\u001b[0m\u001b[0;34m(\u001b[0m\u001b[0;34m'bash'\u001b[0m\u001b[0;34m,\u001b[0m \u001b[0;34m''\u001b[0m\u001b[0;34m,\u001b[0m \u001b[0;34m'#snscrape --jsonl --progress --since 2003-11-1 twitter-search \"Jean-Claude Trichet until:2011-10-31\" > search_trichet_twitter.json\\nsnscrape --jsonl --progress --since 2011-06-24 twitter-search \"Mario Draghi until:2019-10-31\" > search_draghi_twitter.json\\n    #starting when Draghi was finally selected as president.\\n#snscrape --jsonl --progress --since 2019-09-17 twitter-search \"Christine Lagarde until:2022-07-17\" > search_lagarde_twitter.json\\n    #starting when Lagarde was finally selected as president.\\n'\u001b[0m\u001b[0;34m)\u001b[0m\u001b[0;34m\u001b[0m\u001b[0;34m\u001b[0m\u001b[0m\n\u001b[0m",
      "\u001b[0;32m~/.local/lib/python3.6/site-packages/IPython/core/interactiveshell.py\u001b[0m in \u001b[0;36mrun_cell_magic\u001b[0;34m(self, magic_name, line, cell)\u001b[0m\n\u001b[1;32m   2369\u001b[0m             \u001b[0;32mwith\u001b[0m \u001b[0mself\u001b[0m\u001b[0;34m.\u001b[0m\u001b[0mbuiltin_trap\u001b[0m\u001b[0;34m:\u001b[0m\u001b[0;34m\u001b[0m\u001b[0;34m\u001b[0m\u001b[0m\n\u001b[1;32m   2370\u001b[0m                 \u001b[0margs\u001b[0m \u001b[0;34m=\u001b[0m \u001b[0;34m(\u001b[0m\u001b[0mmagic_arg_s\u001b[0m\u001b[0;34m,\u001b[0m \u001b[0mcell\u001b[0m\u001b[0;34m)\u001b[0m\u001b[0;34m\u001b[0m\u001b[0;34m\u001b[0m\u001b[0m\n\u001b[0;32m-> 2371\u001b[0;31m                 \u001b[0mresult\u001b[0m \u001b[0;34m=\u001b[0m \u001b[0mfn\u001b[0m\u001b[0;34m(\u001b[0m\u001b[0;34m*\u001b[0m\u001b[0margs\u001b[0m\u001b[0;34m,\u001b[0m \u001b[0;34m**\u001b[0m\u001b[0mkwargs\u001b[0m\u001b[0;34m)\u001b[0m\u001b[0;34m\u001b[0m\u001b[0;34m\u001b[0m\u001b[0m\n\u001b[0m\u001b[1;32m   2372\u001b[0m             \u001b[0;32mreturn\u001b[0m \u001b[0mresult\u001b[0m\u001b[0;34m\u001b[0m\u001b[0;34m\u001b[0m\u001b[0m\n\u001b[1;32m   2373\u001b[0m \u001b[0;34m\u001b[0m\u001b[0m\n",
      "\u001b[0;32m~/.local/lib/python3.6/site-packages/IPython/core/magics/script.py\u001b[0m in \u001b[0;36mnamed_script_magic\u001b[0;34m(line, cell)\u001b[0m\n\u001b[1;32m    140\u001b[0m             \u001b[0;32melse\u001b[0m\u001b[0;34m:\u001b[0m\u001b[0;34m\u001b[0m\u001b[0;34m\u001b[0m\u001b[0m\n\u001b[1;32m    141\u001b[0m                 \u001b[0mline\u001b[0m \u001b[0;34m=\u001b[0m \u001b[0mscript\u001b[0m\u001b[0;34m\u001b[0m\u001b[0;34m\u001b[0m\u001b[0m\n\u001b[0;32m--> 142\u001b[0;31m             \u001b[0;32mreturn\u001b[0m \u001b[0mself\u001b[0m\u001b[0;34m.\u001b[0m\u001b[0mshebang\u001b[0m\u001b[0;34m(\u001b[0m\u001b[0mline\u001b[0m\u001b[0;34m,\u001b[0m \u001b[0mcell\u001b[0m\u001b[0;34m)\u001b[0m\u001b[0;34m\u001b[0m\u001b[0;34m\u001b[0m\u001b[0m\n\u001b[0m\u001b[1;32m    143\u001b[0m \u001b[0;34m\u001b[0m\u001b[0m\n\u001b[1;32m    144\u001b[0m         \u001b[0;31m# write a basic docstring:\u001b[0m\u001b[0;34m\u001b[0m\u001b[0;34m\u001b[0m\u001b[0;34m\u001b[0m\u001b[0m\n",
      "\u001b[0;32m~/.local/lib/python3.6/site-packages/decorator.py\u001b[0m in \u001b[0;36mfun\u001b[0;34m(*args, **kw)\u001b[0m\n\u001b[1;32m    230\u001b[0m             \u001b[0;32mif\u001b[0m \u001b[0;32mnot\u001b[0m \u001b[0mkwsyntax\u001b[0m\u001b[0;34m:\u001b[0m\u001b[0;34m\u001b[0m\u001b[0;34m\u001b[0m\u001b[0m\n\u001b[1;32m    231\u001b[0m                 \u001b[0margs\u001b[0m\u001b[0;34m,\u001b[0m \u001b[0mkw\u001b[0m \u001b[0;34m=\u001b[0m \u001b[0mfix\u001b[0m\u001b[0;34m(\u001b[0m\u001b[0margs\u001b[0m\u001b[0;34m,\u001b[0m \u001b[0mkw\u001b[0m\u001b[0;34m,\u001b[0m \u001b[0msig\u001b[0m\u001b[0;34m)\u001b[0m\u001b[0;34m\u001b[0m\u001b[0;34m\u001b[0m\u001b[0m\n\u001b[0;32m--> 232\u001b[0;31m             \u001b[0;32mreturn\u001b[0m \u001b[0mcaller\u001b[0m\u001b[0;34m(\u001b[0m\u001b[0mfunc\u001b[0m\u001b[0;34m,\u001b[0m \u001b[0;34m*\u001b[0m\u001b[0;34m(\u001b[0m\u001b[0mextras\u001b[0m \u001b[0;34m+\u001b[0m \u001b[0margs\u001b[0m\u001b[0;34m)\u001b[0m\u001b[0;34m,\u001b[0m \u001b[0;34m**\u001b[0m\u001b[0mkw\u001b[0m\u001b[0;34m)\u001b[0m\u001b[0;34m\u001b[0m\u001b[0;34m\u001b[0m\u001b[0m\n\u001b[0m\u001b[1;32m    233\u001b[0m     \u001b[0mfun\u001b[0m\u001b[0;34m.\u001b[0m\u001b[0m__name__\u001b[0m \u001b[0;34m=\u001b[0m \u001b[0mfunc\u001b[0m\u001b[0;34m.\u001b[0m\u001b[0m__name__\u001b[0m\u001b[0;34m\u001b[0m\u001b[0;34m\u001b[0m\u001b[0m\n\u001b[1;32m    234\u001b[0m     \u001b[0mfun\u001b[0m\u001b[0;34m.\u001b[0m\u001b[0m__doc__\u001b[0m \u001b[0;34m=\u001b[0m \u001b[0mfunc\u001b[0m\u001b[0;34m.\u001b[0m\u001b[0m__doc__\u001b[0m\u001b[0;34m\u001b[0m\u001b[0;34m\u001b[0m\u001b[0m\n",
      "\u001b[0;32m~/.local/lib/python3.6/site-packages/IPython/core/magic.py\u001b[0m in \u001b[0;36m<lambda>\u001b[0;34m(f, *a, **k)\u001b[0m\n\u001b[1;32m    185\u001b[0m     \u001b[0;31m# but it's overkill for just that one bit of state.\u001b[0m\u001b[0;34m\u001b[0m\u001b[0;34m\u001b[0m\u001b[0;34m\u001b[0m\u001b[0m\n\u001b[1;32m    186\u001b[0m     \u001b[0;32mdef\u001b[0m \u001b[0mmagic_deco\u001b[0m\u001b[0;34m(\u001b[0m\u001b[0marg\u001b[0m\u001b[0;34m)\u001b[0m\u001b[0;34m:\u001b[0m\u001b[0;34m\u001b[0m\u001b[0;34m\u001b[0m\u001b[0m\n\u001b[0;32m--> 187\u001b[0;31m         \u001b[0mcall\u001b[0m \u001b[0;34m=\u001b[0m \u001b[0;32mlambda\u001b[0m \u001b[0mf\u001b[0m\u001b[0;34m,\u001b[0m \u001b[0;34m*\u001b[0m\u001b[0ma\u001b[0m\u001b[0;34m,\u001b[0m \u001b[0;34m**\u001b[0m\u001b[0mk\u001b[0m\u001b[0;34m:\u001b[0m \u001b[0mf\u001b[0m\u001b[0;34m(\u001b[0m\u001b[0;34m*\u001b[0m\u001b[0ma\u001b[0m\u001b[0;34m,\u001b[0m \u001b[0;34m**\u001b[0m\u001b[0mk\u001b[0m\u001b[0;34m)\u001b[0m\u001b[0;34m\u001b[0m\u001b[0;34m\u001b[0m\u001b[0m\n\u001b[0m\u001b[1;32m    188\u001b[0m \u001b[0;34m\u001b[0m\u001b[0m\n\u001b[1;32m    189\u001b[0m         \u001b[0;32mif\u001b[0m \u001b[0mcallable\u001b[0m\u001b[0;34m(\u001b[0m\u001b[0marg\u001b[0m\u001b[0;34m)\u001b[0m\u001b[0;34m:\u001b[0m\u001b[0;34m\u001b[0m\u001b[0;34m\u001b[0m\u001b[0m\n",
      "\u001b[0;32m~/.local/lib/python3.6/site-packages/IPython/core/magics/script.py\u001b[0m in \u001b[0;36mshebang\u001b[0;34m(self, line, cell)\u001b[0m\n\u001b[1;32m    243\u001b[0m             \u001b[0msys\u001b[0m\u001b[0;34m.\u001b[0m\u001b[0mstderr\u001b[0m\u001b[0;34m.\u001b[0m\u001b[0mflush\u001b[0m\u001b[0;34m(\u001b[0m\u001b[0;34m)\u001b[0m\u001b[0;34m\u001b[0m\u001b[0;34m\u001b[0m\u001b[0m\n\u001b[1;32m    244\u001b[0m         \u001b[0;32mif\u001b[0m \u001b[0margs\u001b[0m\u001b[0;34m.\u001b[0m\u001b[0mraise_error\u001b[0m \u001b[0;32mand\u001b[0m \u001b[0mp\u001b[0m\u001b[0;34m.\u001b[0m\u001b[0mreturncode\u001b[0m\u001b[0;34m!=\u001b[0m\u001b[0;36m0\u001b[0m\u001b[0;34m:\u001b[0m\u001b[0;34m\u001b[0m\u001b[0;34m\u001b[0m\u001b[0m\n\u001b[0;32m--> 245\u001b[0;31m             \u001b[0;32mraise\u001b[0m \u001b[0mCalledProcessError\u001b[0m\u001b[0;34m(\u001b[0m\u001b[0mp\u001b[0m\u001b[0;34m.\u001b[0m\u001b[0mreturncode\u001b[0m\u001b[0;34m,\u001b[0m \u001b[0mcell\u001b[0m\u001b[0;34m,\u001b[0m \u001b[0moutput\u001b[0m\u001b[0;34m=\u001b[0m\u001b[0mout\u001b[0m\u001b[0;34m,\u001b[0m \u001b[0mstderr\u001b[0m\u001b[0;34m=\u001b[0m\u001b[0merr\u001b[0m\u001b[0;34m)\u001b[0m\u001b[0;34m\u001b[0m\u001b[0;34m\u001b[0m\u001b[0m\n\u001b[0m\u001b[1;32m    246\u001b[0m \u001b[0;34m\u001b[0m\u001b[0m\n\u001b[1;32m    247\u001b[0m     \u001b[0;32mdef\u001b[0m \u001b[0m_run_script\u001b[0m\u001b[0;34m(\u001b[0m\u001b[0mself\u001b[0m\u001b[0;34m,\u001b[0m \u001b[0mp\u001b[0m\u001b[0;34m,\u001b[0m \u001b[0mcell\u001b[0m\u001b[0;34m,\u001b[0m \u001b[0mto_close\u001b[0m\u001b[0;34m)\u001b[0m\u001b[0;34m:\u001b[0m\u001b[0;34m\u001b[0m\u001b[0;34m\u001b[0m\u001b[0m\n",
      "\u001b[0;31mCalledProcessError\u001b[0m: Command 'b'#snscrape --jsonl --progress --since 2003-11-1 twitter-search \"Jean-Claude Trichet until:2011-10-31\" > search_trichet_twitter.json\\nsnscrape --jsonl --progress --since 2011-06-24 twitter-search \"Mario Draghi until:2019-10-31\" > search_draghi_twitter.json\\n    #starting when Draghi was finally selected as president.\\n#snscrape --jsonl --progress --since 2019-09-17 twitter-search \"Christine Lagarde until:2022-07-17\" > search_lagarde_twitter.json\\n    #starting when Lagarde was finally selected as president.\\n'' returned non-zero exit status 1."
     ]
    }
   ],
   "source": [
    "%%bash\n",
    "snscrape --jsonl --progress --since 2003-11-1 twitter-search \"Jean-Claude Trichet until:2011-10-31\" > search_trichet_twitter.json\n",
    "snscrape --jsonl --progress --since 2011-06-24 twitter-search \"Mario Draghi until:2019-10-31\" > search_draghi_twitter.json\n",
    "    #starting when Draghi was finally selected as president.\n",
    "snscrape --jsonl --progress --since 2019-09-17 twitter-search \"Christine Lagarde until:2022-07-17\" > search_lagarde_twitter.json\n",
    "    #starting when Lagarde was finally selected as president."
   ]
  }
 ],
 "metadata": {
  "kernelspec": {
   "display_name": "Python 3",
   "language": "python",
   "name": "python3"
  },
  "language_info": {
   "codemirror_mode": {
    "name": "ipython",
    "version": 3
   },
   "file_extension": ".py",
   "mimetype": "text/x-python",
   "name": "python",
   "nbconvert_exporter": "python",
   "pygments_lexer": "ipython3",
   "version": "3.6.9"
  }
 },
 "nbformat": 4,
 "nbformat_minor": 5
}
