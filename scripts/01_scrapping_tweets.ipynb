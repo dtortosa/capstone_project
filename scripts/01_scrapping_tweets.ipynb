{
 "cells": [
  {
   "cell_type": "markdown",
   "id": "7e735800",
   "metadata": {},
   "source": [
    "# Scrapping Twitter data"
   ]
  },
  {
   "cell_type": "code",
   "execution_count": null,
   "id": "387534c8",
   "metadata": {},
   "outputs": [],
   "source": [
    "#set the working directory\n",
    "import os\n",
    "os.chdir(\"/media/dftortosa/Windows/Users/dftor/Documents/diego_docs/industry/data_incubator/capstone_project/data/json_files\")\n",
    "\n",
    "#check\n",
    "os.getcwd()"
   ]
  },
  {
   "cell_type": "markdown",
   "id": "8c732e7c",
   "metadata": {},
   "source": [
    "I will try to collect the sentiment around the European economy and use it as a proxy of the expectations of the economic agents about the Euro, which can influence the demand of this currency and hence its value (see 02_data_preparation.ipynb for further details). \n",
    "\n",
    "In order to do that, I will use snscrape:\n",
    "\n",
    "- In order to get the json argument we need the github version of snscrap ([link](https://github.com/JustAnotherArchivist/snscrape/issues/77))\n",
    "\n",
    "- Installation command: `pip3.8 install --upgrade git+https://github.com/JustAnotherArchivist/snscrape@master`\n",
    "\n",
    "- snscrape info\n",
    "    - https://github.com/JustAnotherArchivist/snscrape\n",
    "\t- https://pypi.org/project/snscrape/\n",
    "\n",
    "- tutorials\n",
    "\t- https://medium.com/dataseries/how-to-scrape-millions-of-tweets-using-snscrape-195ee3594721\n",
    "    - https://betterprogramming.pub/how-to-scrape-tweets-with-snscrape-90124ed006af\n"
   ]
  },
  {
   "cell_type": "markdown",
   "id": "21621224",
   "metadata": {},
   "source": [
    "Download tweets about the European Central Bank"
   ]
  },
  {
   "cell_type": "code",
   "execution_count": null,
   "id": "8f6ce675",
   "metadata": {},
   "outputs": [],
   "source": [
    "%%bash\n",
    "#get tweets searching \"european central bank\"\n",
    "snscrape --jsonl --progress --since 1999-1-1 twitter-search \"european central bank until:2022-07-17\" > search_euro_bank_twitter_1999_1_1.json\n",
    "snscrape --jsonl --progress --since 1999-1-1 twitter-hashtag \"ecb until:2022-07-17\" > hashtag_euro_bank_twitter_1999_1_1.json\n",
    "    #[GLOBAL-OPTIONS]\n",
    "            #--jsonl: get the output as JSON\n",
    "            #--progress: show progress on stderr\n",
    "            #--max-results: return only the first N results\n",
    "            #--since DATETIME: Only return newer than DATETIME\n",
    "        #SCRAPER NAME\n",
    "            #twitter-search\n",
    "            #twitter-hashtag\n",
    "            #reddit-search\n",
    "            #etc...\n",
    "        #[SCRAPER-OPTIONS]\n",
    "            #Note that --since is an optional argument you can use, but until: is an operator used inside the twitter-search query. This seems to give me more consistent results than putting both arguments inside the query.\n",
    "                #https://betterprogramming.pub/how-to-scrape-tweets-with-snscrape-90124ed006af"
   ]
  },
  {
   "cell_type": "markdown",
   "id": "dd45ca4f",
   "metadata": {},
   "source": [
    "Download tweets about the economiy of different European countries"
   ]
  },
  {
   "cell_type": "code",
   "execution_count": null,
   "id": "20cb592f",
   "metadata": {},
   "outputs": [],
   "source": [
    "%%bash\n",
    "snscrape --jsonl --progress --since 1999-1-1 twitter-search \"EU debt crisis until:2022-07-17\" > search_eu_debt_crisis_twitter_1999_1_1.json\n",
    "snscrape --jsonl --progress --since 1999-1-1 twitter-search \"european union economy until:2022-07-17\" > search_european_union_economy_twitter_1999_1_1.json\n",
    "snscrape --jsonl --progress --since 1999-1-1 twitter-search \"Iceland economy until:2022-07-17\" > search_iceland_economy_twitter_1999_1_1.json\n",
    "snscrape --jsonl --progress --since 1999-1-1 twitter-search \"Portugal economy until:2022-07-17\" > search_portugal_economy_twitter_1999_1_1.json\n",
    "snscrape --jsonl --progress --since 1999-1-1 twitter-search \"Italy economy until:2022-07-17\" > search_italy_economy_twitter_1999_1_1.json\n",
    "snscrape --jsonl --progress --since 1999-1-1 twitter-search \"Ireland economy until:2022-07-17\" > search_ireland_economy_twitter_1999_1_1.json\n",
    "snscrape --jsonl --progress --since 1999-1-1 twitter-search \"Greece economy until:2022-07-17\" > search_greece_economy_twitter_1999_1_1.json\n",
    "snscrape --jsonl --progress --since 1999-1-1 twitter-search \"Spain economy until:2022-07-17\" > search_spain_economy_twitter_1999_1_1.json\n",
    "snscrape --jsonl --progress --since 1999-1-1 twitter-search \"Cyprus economy until:2022-07-17\" > search_cyprus_economy_twitter_1999_1_1.json\n",
    "snscrape --jsonl --progress --since 1999-1-1 twitter-search \"Slovenia economy until:2022-07-17\" > search_slovenia_economy_twitter_1999_1_1.json\n",
    "snscrape --jsonl --progress --since 1999-1-1 twitter-search \"France economy until:2022-07-17\" > search_france_economy_twitter_1999_1_1.json\n",
    "snscrape --jsonl --progress --since 1999-1-1 twitter-search \"Belgium economy until:2022-07-17\" > search_belgium_economy_twitter_1999_1_1.json\n",
    "snscrape --jsonl --progress --since 1999-1-1 twitter-search \"Croatia economy until:2022-07-17\" > search_croatia_economy_twitter_1999_1_1.json"
   ]
  },
  {
   "cell_type": "markdown",
   "id": "59281ac8",
   "metadata": {},
   "source": [
    "Download tweets about the presidents of the ECB"
   ]
  },
  {
   "cell_type": "code",
   "execution_count": null,
   "id": "f9931559",
   "metadata": {},
   "outputs": [],
   "source": [
    "%%bash\n",
    "snscrape --jsonl --progress --since 2003-11-1 twitter-search \"Jean-Claude Trichet until:2011-10-31\" > search_trichet_twitter.json"
   ]
  },
  {
   "cell_type": "code",
   "execution_count": null,
   "id": "949bd353",
   "metadata": {
    "scrolled": true
   },
   "outputs": [],
   "source": [
    "%%bash\n",
    "snscrape --jsonl --progress --since 2011-06-24 twitter-hashtag \"Draghi until:2019-10-31\" > hashtag_draghi_twitter.json\n",
    "    #starting when Draghi was finally selected as president."
   ]
  },
  {
   "cell_type": "code",
   "execution_count": null,
   "id": "12c7f1ec",
   "metadata": {},
   "outputs": [],
   "source": [
    "%%bash\n",
    "snscrape --jsonl --progress --since 2019-09-17 twitter-hashtag \"Lagarde until:2022-08-25\" > hashtag_lagarde_twitter.json\n",
    "    #starting when Lagarde was finally selected as president."
   ]
  },
  {
   "cell_type": "markdown",
   "id": "9131434c",
   "metadata": {},
   "source": [
    "The searches for tweets about Draghi and Lagarde do not work, so I looked for hashtags instead."
   ]
  }
 ],
 "metadata": {
  "kernelspec": {
   "display_name": "Python 3",
   "language": "python",
   "name": "python3"
  },
  "language_info": {
   "codemirror_mode": {
    "name": "ipython",
    "version": 3
   },
   "file_extension": ".py",
   "mimetype": "text/x-python",
   "name": "python",
   "nbconvert_exporter": "python",
   "pygments_lexer": "ipython3",
   "version": "3.6.9"
  }
 },
 "nbformat": 4,
 "nbformat_minor": 5
}
