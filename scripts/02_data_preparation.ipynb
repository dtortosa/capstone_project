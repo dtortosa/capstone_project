{
 "cells": [
  {
   "cell_type": "markdown",
   "id": "4efc53a2",
   "metadata": {},
   "source": [
    "# Processing of EUR pricing and Twitter sentiment"
   ]
  },
  {
   "cell_type": "code",
   "execution_count": 1,
   "id": "251dbaba",
   "metadata": {},
   "outputs": [
    {
     "data": {
      "text/plain": [
       "'/media/dftortosa/Windows/Users/dftor/Documents/diego_docs/industry/data_incubator/capstone_project'"
      ]
     },
     "execution_count": 1,
     "metadata": {},
     "output_type": "execute_result"
    }
   ],
   "source": [
    "#set the working directory\n",
    "import os\n",
    "os.chdir(\"/media/dftortosa/Windows/Users/dftor/Documents/diego_docs/industry/data_incubator/capstone_project/\")\n",
    "\n",
    "#check\n",
    "os.getcwd()"
   ]
  },
  {
   "cell_type": "markdown",
   "id": "dd2f3b84",
   "metadata": {},
   "source": [
    "## Loading EUR pricing "
   ]
  },
  {
   "cell_type": "code",
   "execution_count": 2,
   "id": "14462af1",
   "metadata": {
    "scrolled": false
   },
   "outputs": [],
   "source": [
    "import xmltodict\n",
    "import pandas as pd\n",
    "\n",
    "xml_data = open('data/eur_pricing/euro_usd_until_july_2022.xml', 'r').read()\n",
    "    #https://www.ecb.europa.eu/stats/policy_and_exchange_rates/euro_reference_exchange_rates/html/eurofxref-graph-usd.en.html\n",
    "xmlDict = xmltodict.parse(xml_data)\n",
    "    #https://stackabuse.com/reading-and-writing-xml-files-in-python-with-pandas/"
   ]
  },
  {
   "cell_type": "code",
   "execution_count": 3,
   "id": "ff8c91a4",
   "metadata": {},
   "outputs": [
    {
     "data": {
      "text/plain": [
       "[OrderedDict([('@TIME_PERIOD', '1999-01-04'),\n",
       "              ('@OBS_VALUE', '1.1789'),\n",
       "              ('@OBS_STATUS', 'A'),\n",
       "              ('@OBS_CONF', 'F')]),\n",
       " OrderedDict([('@TIME_PERIOD', '1999-01-05'),\n",
       "              ('@OBS_VALUE', '1.1790'),\n",
       "              ('@OBS_STATUS', 'A'),\n",
       "              ('@OBS_CONF', 'F')]),\n",
       " OrderedDict([('@TIME_PERIOD', '1999-01-06'),\n",
       "              ('@OBS_VALUE', '1.1743'),\n",
       "              ('@OBS_STATUS', 'A'),\n",
       "              ('@OBS_CONF', 'F')])]"
      ]
     },
     "execution_count": 3,
     "metadata": {},
     "output_type": "execute_result"
    }
   ],
   "source": [
    "#get dicts containing the value for Euro across time\n",
    "dicts_pricing = xmlDict[\"CompactData\"][\"DataSet\"][\"Series\"][\"Obs\"]\n",
    "dicts_pricing[0:3]\n",
    "    #CHECK THE REST OF KEYS, STATUS?"
   ]
  },
  {
   "cell_type": "code",
   "execution_count": 4,
   "id": "8a5e3086",
   "metadata": {},
   "outputs": [
    {
     "data": {
      "text/html": [
       "<div>\n",
       "<style scoped>\n",
       "    .dataframe tbody tr th:only-of-type {\n",
       "        vertical-align: middle;\n",
       "    }\n",
       "\n",
       "    .dataframe tbody tr th {\n",
       "        vertical-align: top;\n",
       "    }\n",
       "\n",
       "    .dataframe thead th {\n",
       "        text-align: right;\n",
       "    }\n",
       "</style>\n",
       "<table border=\"1\" class=\"dataframe\">\n",
       "  <thead>\n",
       "    <tr style=\"text-align: right;\">\n",
       "      <th></th>\n",
       "      <th>0</th>\n",
       "      <th>1</th>\n",
       "    </tr>\n",
       "  </thead>\n",
       "  <tbody>\n",
       "    <tr>\n",
       "      <th>0</th>\n",
       "      <td>1999-01-04</td>\n",
       "      <td>1.1789</td>\n",
       "    </tr>\n",
       "    <tr>\n",
       "      <th>1</th>\n",
       "      <td>1999-01-05</td>\n",
       "      <td>1.1790</td>\n",
       "    </tr>\n",
       "    <tr>\n",
       "      <th>2</th>\n",
       "      <td>1999-01-06</td>\n",
       "      <td>1.1743</td>\n",
       "    </tr>\n",
       "    <tr>\n",
       "      <th>3</th>\n",
       "      <td>1999-01-07</td>\n",
       "      <td>1.1632</td>\n",
       "    </tr>\n",
       "    <tr>\n",
       "      <th>4</th>\n",
       "      <td>1999-01-08</td>\n",
       "      <td>1.1659</td>\n",
       "    </tr>\n",
       "    <tr>\n",
       "      <th>...</th>\n",
       "      <td>...</td>\n",
       "      <td>...</td>\n",
       "    </tr>\n",
       "    <tr>\n",
       "      <th>6025</th>\n",
       "      <td>2022-07-13</td>\n",
       "      <td>1.0067</td>\n",
       "    </tr>\n",
       "    <tr>\n",
       "      <th>6026</th>\n",
       "      <td>2022-07-14</td>\n",
       "      <td>1.0005</td>\n",
       "    </tr>\n",
       "    <tr>\n",
       "      <th>6027</th>\n",
       "      <td>2022-07-15</td>\n",
       "      <td>1.0059</td>\n",
       "    </tr>\n",
       "    <tr>\n",
       "      <th>6028</th>\n",
       "      <td>2022-07-18</td>\n",
       "      <td>1.0131</td>\n",
       "    </tr>\n",
       "    <tr>\n",
       "      <th>6029</th>\n",
       "      <td>2022-07-19</td>\n",
       "      <td>1.0245</td>\n",
       "    </tr>\n",
       "  </tbody>\n",
       "</table>\n",
       "<p>6030 rows × 2 columns</p>\n",
       "</div>"
      ],
      "text/plain": [
       "               0       1\n",
       "0     1999-01-04  1.1789\n",
       "1     1999-01-05  1.1790\n",
       "2     1999-01-06  1.1743\n",
       "3     1999-01-07  1.1632\n",
       "4     1999-01-08  1.1659\n",
       "...          ...     ...\n",
       "6025  2022-07-13  1.0067\n",
       "6026  2022-07-14  1.0005\n",
       "6027  2022-07-15  1.0059\n",
       "6028  2022-07-18  1.0131\n",
       "6029  2022-07-19  1.0245\n",
       "\n",
       "[6030 rows x 2 columns]"
      ]
     },
     "execution_count": 4,
     "metadata": {},
     "output_type": "execute_result"
    }
   ],
   "source": [
    "#get the value and date for each date\n",
    "eur_pricing_pd = pd.DataFrame([(dict[\"@TIME_PERIOD\"], dict[\"@OBS_VALUE\"]) for dict in dicts_pricing])\n",
    "eur_pricing_pd"
   ]
  },
  {
   "cell_type": "code",
   "execution_count": 5,
   "id": "d697c60b",
   "metadata": {},
   "outputs": [
    {
     "data": {
      "text/html": [
       "<div>\n",
       "<style scoped>\n",
       "    .dataframe tbody tr th:only-of-type {\n",
       "        vertical-align: middle;\n",
       "    }\n",
       "\n",
       "    .dataframe tbody tr th {\n",
       "        vertical-align: top;\n",
       "    }\n",
       "\n",
       "    .dataframe thead th {\n",
       "        text-align: right;\n",
       "    }\n",
       "</style>\n",
       "<table border=\"1\" class=\"dataframe\">\n",
       "  <thead>\n",
       "    <tr style=\"text-align: right;\">\n",
       "      <th></th>\n",
       "      <th>date</th>\n",
       "      <th>eur_usd_rate</th>\n",
       "    </tr>\n",
       "  </thead>\n",
       "  <tbody>\n",
       "    <tr>\n",
       "      <th>0</th>\n",
       "      <td>1999-01-04</td>\n",
       "      <td>1.1789</td>\n",
       "    </tr>\n",
       "    <tr>\n",
       "      <th>1</th>\n",
       "      <td>1999-01-05</td>\n",
       "      <td>1.1790</td>\n",
       "    </tr>\n",
       "    <tr>\n",
       "      <th>2</th>\n",
       "      <td>1999-01-06</td>\n",
       "      <td>1.1743</td>\n",
       "    </tr>\n",
       "    <tr>\n",
       "      <th>3</th>\n",
       "      <td>1999-01-07</td>\n",
       "      <td>1.1632</td>\n",
       "    </tr>\n",
       "    <tr>\n",
       "      <th>4</th>\n",
       "      <td>1999-01-08</td>\n",
       "      <td>1.1659</td>\n",
       "    </tr>\n",
       "    <tr>\n",
       "      <th>...</th>\n",
       "      <td>...</td>\n",
       "      <td>...</td>\n",
       "    </tr>\n",
       "    <tr>\n",
       "      <th>6025</th>\n",
       "      <td>2022-07-13</td>\n",
       "      <td>1.0067</td>\n",
       "    </tr>\n",
       "    <tr>\n",
       "      <th>6026</th>\n",
       "      <td>2022-07-14</td>\n",
       "      <td>1.0005</td>\n",
       "    </tr>\n",
       "    <tr>\n",
       "      <th>6027</th>\n",
       "      <td>2022-07-15</td>\n",
       "      <td>1.0059</td>\n",
       "    </tr>\n",
       "    <tr>\n",
       "      <th>6028</th>\n",
       "      <td>2022-07-18</td>\n",
       "      <td>1.0131</td>\n",
       "    </tr>\n",
       "    <tr>\n",
       "      <th>6029</th>\n",
       "      <td>2022-07-19</td>\n",
       "      <td>1.0245</td>\n",
       "    </tr>\n",
       "  </tbody>\n",
       "</table>\n",
       "<p>6030 rows × 2 columns</p>\n",
       "</div>"
      ],
      "text/plain": [
       "            date eur_usd_rate\n",
       "0     1999-01-04       1.1789\n",
       "1     1999-01-05       1.1790\n",
       "2     1999-01-06       1.1743\n",
       "3     1999-01-07       1.1632\n",
       "4     1999-01-08       1.1659\n",
       "...          ...          ...\n",
       "6025  2022-07-13       1.0067\n",
       "6026  2022-07-14       1.0005\n",
       "6027  2022-07-15       1.0059\n",
       "6028  2022-07-18       1.0131\n",
       "6029  2022-07-19       1.0245\n",
       "\n",
       "[6030 rows x 2 columns]"
      ]
     },
     "execution_count": 5,
     "metadata": {},
     "output_type": "execute_result"
    }
   ],
   "source": [
    "#name the columns\n",
    "eur_pricing_pd = eur_pricing_pd.set_axis([\"date\", \"eur_usd_rate\"], axis=1, inplace=False)\n",
    "    #https://stackoverflow.com/questions/11346283/renaming-column-names-in-pandas\n",
    "eur_pricing_pd"
   ]
  },
  {
   "cell_type": "code",
   "execution_count": 6,
   "id": "bf867e19",
   "metadata": {
    "scrolled": true
   },
   "outputs": [
    {
     "data": {
      "text/html": [
       "<div>\n",
       "<style scoped>\n",
       "    .dataframe tbody tr th:only-of-type {\n",
       "        vertical-align: middle;\n",
       "    }\n",
       "\n",
       "    .dataframe tbody tr th {\n",
       "        vertical-align: top;\n",
       "    }\n",
       "\n",
       "    .dataframe thead th {\n",
       "        text-align: right;\n",
       "    }\n",
       "</style>\n",
       "<table border=\"1\" class=\"dataframe\">\n",
       "  <thead>\n",
       "    <tr style=\"text-align: right;\">\n",
       "      <th></th>\n",
       "      <th>date</th>\n",
       "      <th>eur_usd_rate</th>\n",
       "    </tr>\n",
       "  </thead>\n",
       "  <tbody>\n",
       "    <tr>\n",
       "      <th>0</th>\n",
       "      <td>1999-01-04</td>\n",
       "      <td>1.1789</td>\n",
       "    </tr>\n",
       "    <tr>\n",
       "      <th>1</th>\n",
       "      <td>1999-01-05</td>\n",
       "      <td>1.1790</td>\n",
       "    </tr>\n",
       "    <tr>\n",
       "      <th>2</th>\n",
       "      <td>1999-01-06</td>\n",
       "      <td>1.1743</td>\n",
       "    </tr>\n",
       "    <tr>\n",
       "      <th>3</th>\n",
       "      <td>1999-01-07</td>\n",
       "      <td>1.1632</td>\n",
       "    </tr>\n",
       "    <tr>\n",
       "      <th>4</th>\n",
       "      <td>1999-01-08</td>\n",
       "      <td>1.1659</td>\n",
       "    </tr>\n",
       "    <tr>\n",
       "      <th>...</th>\n",
       "      <td>...</td>\n",
       "      <td>...</td>\n",
       "    </tr>\n",
       "    <tr>\n",
       "      <th>6025</th>\n",
       "      <td>2022-07-13</td>\n",
       "      <td>1.0067</td>\n",
       "    </tr>\n",
       "    <tr>\n",
       "      <th>6026</th>\n",
       "      <td>2022-07-14</td>\n",
       "      <td>1.0005</td>\n",
       "    </tr>\n",
       "    <tr>\n",
       "      <th>6027</th>\n",
       "      <td>2022-07-15</td>\n",
       "      <td>1.0059</td>\n",
       "    </tr>\n",
       "    <tr>\n",
       "      <th>6028</th>\n",
       "      <td>2022-07-18</td>\n",
       "      <td>1.0131</td>\n",
       "    </tr>\n",
       "    <tr>\n",
       "      <th>6029</th>\n",
       "      <td>2022-07-19</td>\n",
       "      <td>1.0245</td>\n",
       "    </tr>\n",
       "  </tbody>\n",
       "</table>\n",
       "<p>6030 rows × 2 columns</p>\n",
       "</div>"
      ],
      "text/plain": [
       "           date  eur_usd_rate\n",
       "0    1999-01-04        1.1789\n",
       "1    1999-01-05        1.1790\n",
       "2    1999-01-06        1.1743\n",
       "3    1999-01-07        1.1632\n",
       "4    1999-01-08        1.1659\n",
       "...         ...           ...\n",
       "6025 2022-07-13        1.0067\n",
       "6026 2022-07-14        1.0005\n",
       "6027 2022-07-15        1.0059\n",
       "6028 2022-07-18        1.0131\n",
       "6029 2022-07-19        1.0245\n",
       "\n",
       "[6030 rows x 2 columns]"
      ]
     },
     "execution_count": 6,
     "metadata": {},
     "output_type": "execute_result"
    }
   ],
   "source": [
    "#convert pricing to numeric\n",
    "eur_pricing_pd[\"eur_usd_rate\"] = pd.to_numeric(eur_pricing_pd[\"eur_usd_rate\"])\n",
    "    #https://stackoverflow.com/questions/15891038/change-column-type-in-pandas\n",
    "    \n",
    "#convert date to datetime\n",
    "eur_pricing_pd[\"date\"] = pd.to_datetime(eur_pricing_pd[\"date\"])\n",
    "\n",
    "#look\n",
    "eur_pricing_pd"
   ]
  },
  {
   "cell_type": "code",
   "execution_count": 7,
   "id": "bebe951c",
   "metadata": {
    "scrolled": false
   },
   "outputs": [
    {
     "data": {
      "image/png": "[encoded data removed]",
      "text/plain": [
       "<Figure size 432x288 with 1 Axes>"
      ]
     },
     "metadata": {
      "needs_background": "light"
     },
     "output_type": "display_data"
    }
   ],
   "source": [
    "import matplotlib.pyplot as plt\n",
    "plt.plot(eur_pricing_pd[\"date\"], eur_pricing_pd[\"eur_usd_rate\"])\n",
    "plt.axhline(y=1, color='r', linestyle='-') #red line for EUR/USD parity\n",
    "plt.ylabel('EUR/USD exchange rate')\n",
    "plt.show()"
   ]
  },
  {
   "cell_type": "markdown",
   "id": "9dd0021d",
   "metadata": {},
   "source": [
    "Probably the most interesting thing is the peak in 2008 and hten the continuous decrease. Some economists say that until 2008, the euro was a strong candidate disputing the position of global currency of the dollar, but in the debt crisis of 2008-2012, the ECB made clear that they would what ever it takes to avoid default of European countries, and this means purchasing low-quality assets like bonds of Greece or Spain. In that moment, the economy agents decreased their expectations about the Euro."
   ]
  },
  {
   "cell_type": "markdown",
   "id": "210a4478",
   "metadata": {},
   "source": [
    "Now, we are going to create a new column with the eur pricing of the previous day. We have to do this right here before merging with the sentiment data, because here have continous data, one day per row without gaps, so we can easily calculate the eur pricing of the exact previous day."
   ]
  },
  {
   "cell_type": "code",
   "execution_count": 8,
   "id": "f819eeef",
   "metadata": {},
   "outputs": [
    {
     "data": {
      "text/plain": [
       "0   NaN\n",
       "dtype: float64"
      ]
     },
     "execution_count": 8,
     "metadata": {},
     "output_type": "execute_result"
    }
   ],
   "source": [
    "#create a pd series with just NaN\n",
    "import numpy as np\n",
    "nan_series = pd.Series(np.NaN)\n",
    "nan_series"
   ]
  },
  {
   "cell_type": "code",
   "execution_count": 9,
   "id": "c668fdae",
   "metadata": {},
   "outputs": [
    {
     "data": {
      "text/plain": [
       "0       1.1789\n",
       "1       1.1790\n",
       "2       1.1743\n",
       "3       1.1632\n",
       "4       1.1659\n",
       "         ...  \n",
       "6024    1.0042\n",
       "6025    1.0067\n",
       "6026    1.0005\n",
       "6027    1.0059\n",
       "6028    1.0131\n",
       "Name: eur_usd_rate, Length: 6029, dtype: float64"
      ]
     },
     "execution_count": 9,
     "metadata": {},
     "output_type": "execute_result"
    }
   ],
   "source": [
    "#select all eur values except the last one\n",
    "eur_pricing_no_last = eur_pricing_pd[\"eur_usd_rate\"].iloc[0:-1]\n",
    "eur_pricing_no_last"
   ]
  },
  {
   "cell_type": "code",
   "execution_count": 10,
   "id": "a7102d39",
   "metadata": {},
   "outputs": [
    {
     "data": {
      "text/plain": [
       "0          NaN\n",
       "1       1.1789\n",
       "2       1.1790\n",
       "3       1.1743\n",
       "4       1.1632\n",
       "         ...  \n",
       "6025    1.0042\n",
       "6026    1.0067\n",
       "6027    1.0005\n",
       "6028    1.0059\n",
       "6029    1.0131\n",
       "Length: 6030, dtype: float64"
      ]
     },
     "execution_count": 10,
     "metadata": {},
     "output_type": "execute_result"
    }
   ],
   "source": [
    "#to the NaN series, add the eur prices except the last one\n",
    "previous_pricing = nan_series.append(eur_pricing_no_last)\n",
    "\n",
    "#reset the index\n",
    "previous_pricing = previous_pricing.reset_index(drop=True)\n",
    "previous_pricing"
   ]
  },
  {
   "cell_type": "code",
   "execution_count": 11,
   "id": "c5286bf4",
   "metadata": {
    "scrolled": true
   },
   "outputs": [
    {
     "data": {
      "text/html": [
       "<div>\n",
       "<style scoped>\n",
       "    .dataframe tbody tr th:only-of-type {\n",
       "        vertical-align: middle;\n",
       "    }\n",
       "\n",
       "    .dataframe tbody tr th {\n",
       "        vertical-align: top;\n",
       "    }\n",
       "\n",
       "    .dataframe thead th {\n",
       "        text-align: right;\n",
       "    }\n",
       "</style>\n",
       "<table border=\"1\" class=\"dataframe\">\n",
       "  <thead>\n",
       "    <tr style=\"text-align: right;\">\n",
       "      <th></th>\n",
       "      <th>date</th>\n",
       "      <th>eur_usd_rate</th>\n",
       "      <th>previous_eur_pricing</th>\n",
       "    </tr>\n",
       "  </thead>\n",
       "  <tbody>\n",
       "    <tr>\n",
       "      <th>0</th>\n",
       "      <td>1999-01-04</td>\n",
       "      <td>1.1789</td>\n",
       "      <td>NaN</td>\n",
       "    </tr>\n",
       "    <tr>\n",
       "      <th>1</th>\n",
       "      <td>1999-01-05</td>\n",
       "      <td>1.1790</td>\n",
       "      <td>1.1789</td>\n",
       "    </tr>\n",
       "    <tr>\n",
       "      <th>2</th>\n",
       "      <td>1999-01-06</td>\n",
       "      <td>1.1743</td>\n",
       "      <td>1.1790</td>\n",
       "    </tr>\n",
       "    <tr>\n",
       "      <th>3</th>\n",
       "      <td>1999-01-07</td>\n",
       "      <td>1.1632</td>\n",
       "      <td>1.1743</td>\n",
       "    </tr>\n",
       "    <tr>\n",
       "      <th>4</th>\n",
       "      <td>1999-01-08</td>\n",
       "      <td>1.1659</td>\n",
       "      <td>1.1632</td>\n",
       "    </tr>\n",
       "    <tr>\n",
       "      <th>...</th>\n",
       "      <td>...</td>\n",
       "      <td>...</td>\n",
       "      <td>...</td>\n",
       "    </tr>\n",
       "    <tr>\n",
       "      <th>6025</th>\n",
       "      <td>2022-07-13</td>\n",
       "      <td>1.0067</td>\n",
       "      <td>1.0042</td>\n",
       "    </tr>\n",
       "    <tr>\n",
       "      <th>6026</th>\n",
       "      <td>2022-07-14</td>\n",
       "      <td>1.0005</td>\n",
       "      <td>1.0067</td>\n",
       "    </tr>\n",
       "    <tr>\n",
       "      <th>6027</th>\n",
       "      <td>2022-07-15</td>\n",
       "      <td>1.0059</td>\n",
       "      <td>1.0005</td>\n",
       "    </tr>\n",
       "    <tr>\n",
       "      <th>6028</th>\n",
       "      <td>2022-07-18</td>\n",
       "      <td>1.0131</td>\n",
       "      <td>1.0059</td>\n",
       "    </tr>\n",
       "    <tr>\n",
       "      <th>6029</th>\n",
       "      <td>2022-07-19</td>\n",
       "      <td>1.0245</td>\n",
       "      <td>1.0131</td>\n",
       "    </tr>\n",
       "  </tbody>\n",
       "</table>\n",
       "<p>6030 rows × 3 columns</p>\n",
       "</div>"
      ],
      "text/plain": [
       "           date  eur_usd_rate  previous_eur_pricing\n",
       "0    1999-01-04        1.1789                   NaN\n",
       "1    1999-01-05        1.1790                1.1789\n",
       "2    1999-01-06        1.1743                1.1790\n",
       "3    1999-01-07        1.1632                1.1743\n",
       "4    1999-01-08        1.1659                1.1632\n",
       "...         ...           ...                   ...\n",
       "6025 2022-07-13        1.0067                1.0042\n",
       "6026 2022-07-14        1.0005                1.0067\n",
       "6027 2022-07-15        1.0059                1.0005\n",
       "6028 2022-07-18        1.0131                1.0059\n",
       "6029 2022-07-19        1.0245                1.0131\n",
       "\n",
       "[6030 rows x 3 columns]"
      ]
     },
     "execution_count": 11,
     "metadata": {},
     "output_type": "execute_result"
    }
   ],
   "source": [
    "#save\n",
    "eur_pricing_pd[\"previous_eur_pricing\"] = previous_pricing\n",
    "    #reset the index in the new variable\n",
    "eur_pricing_pd"
   ]
  },
  {
   "cell_type": "code",
   "execution_count": 12,
   "id": "f7eb9525",
   "metadata": {},
   "outputs": [
    {
     "data": {
      "text/plain": [
       "True"
      ]
     },
     "execution_count": 12,
     "metadata": {},
     "output_type": "execute_result"
    }
   ],
   "source": [
    "#check that for each row, the value in \"previous_eur_pricing\" is equal to \"eur_usd_rate\" of the previous row\n",
    "check = [] #empty list to save results\n",
    "\n",
    "#iterate across the pandas df\n",
    "for index, row in eur_pricing_pd.T.iteritems():\n",
    "    \n",
    "    #avoid the first row that obviously has no previous eur value\n",
    "    if index > 0:\n",
    "        check.append(row[\"previous_eur_pricing\"] == eur_pricing_pd[\"eur_usd_rate\"].iloc[index-1])\n",
    "\n",
    "#see that all True\n",
    "all(check)"
   ]
  },
  {
   "cell_type": "code",
   "execution_count": 13,
   "id": "af58567a",
   "metadata": {
    "scrolled": true
   },
   "outputs": [
    {
     "data": {
      "text/html": [
       "<div>\n",
       "<style scoped>\n",
       "    .dataframe tbody tr th:only-of-type {\n",
       "        vertical-align: middle;\n",
       "    }\n",
       "\n",
       "    .dataframe tbody tr th {\n",
       "        vertical-align: top;\n",
       "    }\n",
       "\n",
       "    .dataframe thead th {\n",
       "        text-align: right;\n",
       "    }\n",
       "</style>\n",
       "<table border=\"1\" class=\"dataframe\">\n",
       "  <thead>\n",
       "    <tr style=\"text-align: right;\">\n",
       "      <th></th>\n",
       "      <th>date</th>\n",
       "      <th>eur_usd_rate</th>\n",
       "      <th>previous_eur_pricing</th>\n",
       "    </tr>\n",
       "  </thead>\n",
       "  <tbody>\n",
       "    <tr>\n",
       "      <th>0</th>\n",
       "      <td>1999-01-04</td>\n",
       "      <td>1.1789</td>\n",
       "      <td>NaN</td>\n",
       "    </tr>\n",
       "    <tr>\n",
       "      <th>1</th>\n",
       "      <td>1999-01-05</td>\n",
       "      <td>1.1790</td>\n",
       "      <td>1.1789</td>\n",
       "    </tr>\n",
       "    <tr>\n",
       "      <th>2</th>\n",
       "      <td>1999-01-06</td>\n",
       "      <td>1.1743</td>\n",
       "      <td>1.1790</td>\n",
       "    </tr>\n",
       "    <tr>\n",
       "      <th>3</th>\n",
       "      <td>1999-01-07</td>\n",
       "      <td>1.1632</td>\n",
       "      <td>1.1743</td>\n",
       "    </tr>\n",
       "    <tr>\n",
       "      <th>4</th>\n",
       "      <td>1999-01-08</td>\n",
       "      <td>1.1659</td>\n",
       "      <td>1.1632</td>\n",
       "    </tr>\n",
       "    <tr>\n",
       "      <th>...</th>\n",
       "      <td>...</td>\n",
       "      <td>...</td>\n",
       "      <td>...</td>\n",
       "    </tr>\n",
       "    <tr>\n",
       "      <th>6025</th>\n",
       "      <td>2022-07-13</td>\n",
       "      <td>1.0067</td>\n",
       "      <td>1.0042</td>\n",
       "    </tr>\n",
       "    <tr>\n",
       "      <th>6026</th>\n",
       "      <td>2022-07-14</td>\n",
       "      <td>1.0005</td>\n",
       "      <td>1.0067</td>\n",
       "    </tr>\n",
       "    <tr>\n",
       "      <th>6027</th>\n",
       "      <td>2022-07-15</td>\n",
       "      <td>1.0059</td>\n",
       "      <td>1.0005</td>\n",
       "    </tr>\n",
       "    <tr>\n",
       "      <th>6028</th>\n",
       "      <td>2022-07-18</td>\n",
       "      <td>1.0131</td>\n",
       "      <td>1.0059</td>\n",
       "    </tr>\n",
       "    <tr>\n",
       "      <th>6029</th>\n",
       "      <td>2022-07-19</td>\n",
       "      <td>1.0245</td>\n",
       "      <td>1.0131</td>\n",
       "    </tr>\n",
       "  </tbody>\n",
       "</table>\n",
       "<p>6030 rows × 3 columns</p>\n",
       "</div>"
      ],
      "text/plain": [
       "           date  eur_usd_rate  previous_eur_pricing\n",
       "0    1999-01-04        1.1789                   NaN\n",
       "1    1999-01-05        1.1790                1.1789\n",
       "2    1999-01-06        1.1743                1.1790\n",
       "3    1999-01-07        1.1632                1.1743\n",
       "4    1999-01-08        1.1659                1.1632\n",
       "...         ...           ...                   ...\n",
       "6025 2022-07-13        1.0067                1.0042\n",
       "6026 2022-07-14        1.0005                1.0067\n",
       "6027 2022-07-15        1.0059                1.0005\n",
       "6028 2022-07-18        1.0131                1.0059\n",
       "6029 2022-07-19        1.0245                1.0131\n",
       "\n",
       "[6030 rows x 3 columns]"
      ]
     },
     "execution_count": 13,
     "metadata": {},
     "output_type": "execute_result"
    }
   ],
   "source": [
    "eur_pricing_pd"
   ]
  },
  {
   "cell_type": "markdown",
   "id": "faf91060",
   "metadata": {},
   "source": [
    "We are going to calculate the percentage of change of EUR/UDS exchange rate respect to the previous day. We are interested in predict if the currency is going to devaluate 5%, 1%...."
   ]
  },
  {
   "cell_type": "code",
   "execution_count": 14,
   "id": "cf6dc3d5",
   "metadata": {
    "scrolled": true
   },
   "outputs": [
    {
     "data": {
      "text/html": [
       "<div>\n",
       "<style scoped>\n",
       "    .dataframe tbody tr th:only-of-type {\n",
       "        vertical-align: middle;\n",
       "    }\n",
       "\n",
       "    .dataframe tbody tr th {\n",
       "        vertical-align: top;\n",
       "    }\n",
       "\n",
       "    .dataframe thead th {\n",
       "        text-align: right;\n",
       "    }\n",
       "</style>\n",
       "<table border=\"1\" class=\"dataframe\">\n",
       "  <thead>\n",
       "    <tr style=\"text-align: right;\">\n",
       "      <th></th>\n",
       "      <th>date</th>\n",
       "      <th>eur_usd_rate</th>\n",
       "      <th>previous_eur_pricing</th>\n",
       "      <th>percent_change_pricing</th>\n",
       "    </tr>\n",
       "  </thead>\n",
       "  <tbody>\n",
       "    <tr>\n",
       "      <th>0</th>\n",
       "      <td>1999-01-04</td>\n",
       "      <td>1.1789</td>\n",
       "      <td>NaN</td>\n",
       "      <td>NaN</td>\n",
       "    </tr>\n",
       "    <tr>\n",
       "      <th>1</th>\n",
       "      <td>1999-01-05</td>\n",
       "      <td>1.1790</td>\n",
       "      <td>1.1789</td>\n",
       "      <td>0.008482</td>\n",
       "    </tr>\n",
       "    <tr>\n",
       "      <th>2</th>\n",
       "      <td>1999-01-06</td>\n",
       "      <td>1.1743</td>\n",
       "      <td>1.1790</td>\n",
       "      <td>-0.398643</td>\n",
       "    </tr>\n",
       "    <tr>\n",
       "      <th>3</th>\n",
       "      <td>1999-01-07</td>\n",
       "      <td>1.1632</td>\n",
       "      <td>1.1743</td>\n",
       "      <td>-0.945244</td>\n",
       "    </tr>\n",
       "    <tr>\n",
       "      <th>4</th>\n",
       "      <td>1999-01-08</td>\n",
       "      <td>1.1659</td>\n",
       "      <td>1.1632</td>\n",
       "      <td>0.232118</td>\n",
       "    </tr>\n",
       "    <tr>\n",
       "      <th>...</th>\n",
       "      <td>...</td>\n",
       "      <td>...</td>\n",
       "      <td>...</td>\n",
       "      <td>...</td>\n",
       "    </tr>\n",
       "    <tr>\n",
       "      <th>6025</th>\n",
       "      <td>2022-07-13</td>\n",
       "      <td>1.0067</td>\n",
       "      <td>1.0042</td>\n",
       "      <td>0.248954</td>\n",
       "    </tr>\n",
       "    <tr>\n",
       "      <th>6026</th>\n",
       "      <td>2022-07-14</td>\n",
       "      <td>1.0005</td>\n",
       "      <td>1.0067</td>\n",
       "      <td>-0.615874</td>\n",
       "    </tr>\n",
       "    <tr>\n",
       "      <th>6027</th>\n",
       "      <td>2022-07-15</td>\n",
       "      <td>1.0059</td>\n",
       "      <td>1.0005</td>\n",
       "      <td>0.539730</td>\n",
       "    </tr>\n",
       "    <tr>\n",
       "      <th>6028</th>\n",
       "      <td>2022-07-18</td>\n",
       "      <td>1.0131</td>\n",
       "      <td>1.0059</td>\n",
       "      <td>0.715777</td>\n",
       "    </tr>\n",
       "    <tr>\n",
       "      <th>6029</th>\n",
       "      <td>2022-07-19</td>\n",
       "      <td>1.0245</td>\n",
       "      <td>1.0131</td>\n",
       "      <td>1.125259</td>\n",
       "    </tr>\n",
       "  </tbody>\n",
       "</table>\n",
       "<p>6030 rows × 4 columns</p>\n",
       "</div>"
      ],
      "text/plain": [
       "           date  eur_usd_rate  previous_eur_pricing  percent_change_pricing\n",
       "0    1999-01-04        1.1789                   NaN                     NaN\n",
       "1    1999-01-05        1.1790                1.1789                0.008482\n",
       "2    1999-01-06        1.1743                1.1790               -0.398643\n",
       "3    1999-01-07        1.1632                1.1743               -0.945244\n",
       "4    1999-01-08        1.1659                1.1632                0.232118\n",
       "...         ...           ...                   ...                     ...\n",
       "6025 2022-07-13        1.0067                1.0042                0.248954\n",
       "6026 2022-07-14        1.0005                1.0067               -0.615874\n",
       "6027 2022-07-15        1.0059                1.0005                0.539730\n",
       "6028 2022-07-18        1.0131                1.0059                0.715777\n",
       "6029 2022-07-19        1.0245                1.0131                1.125259\n",
       "\n",
       "[6030 rows x 4 columns]"
      ]
     },
     "execution_count": 14,
     "metadata": {},
     "output_type": "execute_result"
    }
   ],
   "source": [
    "#calcualte the percentage of change in one day respect to the previous day\n",
    "eur_pricing_pd[\"percent_change_pricing\"] = ((eur_pricing_pd[\"eur_usd_rate\"] - eur_pricing_pd[\"previous_eur_pricing\"])/eur_pricing_pd[\"previous_eur_pricing\"])*100\n",
    "eur_pricing_pd"
   ]
  },
  {
   "cell_type": "code",
   "execution_count": 15,
   "id": "2d8d8203",
   "metadata": {},
   "outputs": [],
   "source": [
    "#eur_pricing_pd[\"relative_diff\"] = (eur_pricing_pd[\"eur_usd_rate\"] - eur_pricing_pd[\"previous_eur_pricing\"]) / eur_pricing_pd[\"eur_usd_rate\"]\n",
    "#eur_pricing_pd\n",
    "    #if you want to predict the pricing of the currency or its change, you cannot use this metric because \n",
    "    #already includes the value of EUR in the present day! which is the thing you want to predict. "
   ]
  },
  {
   "cell_type": "markdown",
   "id": "375f8c33",
   "metadata": {},
   "source": [
    "We are going to include as predictors the rolling mean of previoes 60, 10 and 5 days. We are interested in checking if twitter is can improve predictions over the medium term tendencies. So then it would be useful for medium term predictions?"
   ]
  },
  {
   "cell_type": "code",
   "execution_count": 16,
   "id": "33f57ea4",
   "metadata": {},
   "outputs": [
    {
     "data": {
      "text/html": [
       "<div>\n",
       "<style scoped>\n",
       "    .dataframe tbody tr th:only-of-type {\n",
       "        vertical-align: middle;\n",
       "    }\n",
       "\n",
       "    .dataframe tbody tr th {\n",
       "        vertical-align: top;\n",
       "    }\n",
       "\n",
       "    .dataframe thead th {\n",
       "        text-align: right;\n",
       "    }\n",
       "</style>\n",
       "<table border=\"1\" class=\"dataframe\">\n",
       "  <thead>\n",
       "    <tr style=\"text-align: right;\">\n",
       "      <th></th>\n",
       "      <th>date</th>\n",
       "      <th>eur_usd_rate</th>\n",
       "      <th>previous_eur_pricing</th>\n",
       "      <th>percent_change_pricing</th>\n",
       "      <th>5_days_rolling_mean_pricing</th>\n",
       "      <th>10_days_rolling_mean_pricing</th>\n",
       "      <th>60_days_rolling_mean_pricing</th>\n",
       "      <th>120_days_rolling_mean_pricing</th>\n",
       "    </tr>\n",
       "  </thead>\n",
       "  <tbody>\n",
       "    <tr>\n",
       "      <th>0</th>\n",
       "      <td>1999-01-04</td>\n",
       "      <td>1.1789</td>\n",
       "      <td>NaN</td>\n",
       "      <td>NaN</td>\n",
       "      <td>NaN</td>\n",
       "      <td>NaN</td>\n",
       "      <td>NaN</td>\n",
       "      <td>NaN</td>\n",
       "    </tr>\n",
       "    <tr>\n",
       "      <th>1</th>\n",
       "      <td>1999-01-05</td>\n",
       "      <td>1.1790</td>\n",
       "      <td>1.1789</td>\n",
       "      <td>0.008482</td>\n",
       "      <td>NaN</td>\n",
       "      <td>NaN</td>\n",
       "      <td>NaN</td>\n",
       "      <td>NaN</td>\n",
       "    </tr>\n",
       "    <tr>\n",
       "      <th>2</th>\n",
       "      <td>1999-01-06</td>\n",
       "      <td>1.1743</td>\n",
       "      <td>1.1790</td>\n",
       "      <td>-0.398643</td>\n",
       "      <td>NaN</td>\n",
       "      <td>NaN</td>\n",
       "      <td>NaN</td>\n",
       "      <td>NaN</td>\n",
       "    </tr>\n",
       "    <tr>\n",
       "      <th>3</th>\n",
       "      <td>1999-01-07</td>\n",
       "      <td>1.1632</td>\n",
       "      <td>1.1743</td>\n",
       "      <td>-0.945244</td>\n",
       "      <td>NaN</td>\n",
       "      <td>NaN</td>\n",
       "      <td>NaN</td>\n",
       "      <td>NaN</td>\n",
       "    </tr>\n",
       "    <tr>\n",
       "      <th>4</th>\n",
       "      <td>1999-01-08</td>\n",
       "      <td>1.1659</td>\n",
       "      <td>1.1632</td>\n",
       "      <td>0.232118</td>\n",
       "      <td>1.17226</td>\n",
       "      <td>NaN</td>\n",
       "      <td>NaN</td>\n",
       "      <td>NaN</td>\n",
       "    </tr>\n",
       "    <tr>\n",
       "      <th>...</th>\n",
       "      <td>...</td>\n",
       "      <td>...</td>\n",
       "      <td>...</td>\n",
       "      <td>...</td>\n",
       "      <td>...</td>\n",
       "      <td>...</td>\n",
       "      <td>...</td>\n",
       "      <td>...</td>\n",
       "    </tr>\n",
       "    <tr>\n",
       "      <th>6025</th>\n",
       "      <td>2022-07-13</td>\n",
       "      <td>1.0067</td>\n",
       "      <td>1.0042</td>\n",
       "      <td>0.248954</td>\n",
       "      <td>1.01100</td>\n",
       "      <td>1.02284</td>\n",
       "      <td>1.053007</td>\n",
       "      <td>1.082417</td>\n",
       "    </tr>\n",
       "    <tr>\n",
       "      <th>6026</th>\n",
       "      <td>2022-07-14</td>\n",
       "      <td>1.0005</td>\n",
       "      <td>1.0067</td>\n",
       "      <td>-0.615874</td>\n",
       "      <td>1.00750</td>\n",
       "      <td>1.01902</td>\n",
       "      <td>1.051537</td>\n",
       "      <td>1.081365</td>\n",
       "    </tr>\n",
       "    <tr>\n",
       "      <th>6027</th>\n",
       "      <td>2022-07-15</td>\n",
       "      <td>1.0059</td>\n",
       "      <td>1.0005</td>\n",
       "      <td>0.539730</td>\n",
       "      <td>1.00542</td>\n",
       "      <td>1.01536</td>\n",
       "      <td>1.050273</td>\n",
       "      <td>1.080350</td>\n",
       "    </tr>\n",
       "    <tr>\n",
       "      <th>6028</th>\n",
       "      <td>2022-07-18</td>\n",
       "      <td>1.0131</td>\n",
       "      <td>1.0059</td>\n",
       "      <td>0.715777</td>\n",
       "      <td>1.00608</td>\n",
       "      <td>1.01212</td>\n",
       "      <td>1.049248</td>\n",
       "      <td>1.079492</td>\n",
       "    </tr>\n",
       "    <tr>\n",
       "      <th>6029</th>\n",
       "      <td>2022-07-19</td>\n",
       "      <td>1.0245</td>\n",
       "      <td>1.0131</td>\n",
       "      <td>1.125259</td>\n",
       "      <td>1.01014</td>\n",
       "      <td>1.01167</td>\n",
       "      <td>1.048533</td>\n",
       "      <td>1.078748</td>\n",
       "    </tr>\n",
       "  </tbody>\n",
       "</table>\n",
       "<p>6030 rows × 8 columns</p>\n",
       "</div>"
      ],
      "text/plain": [
       "           date  eur_usd_rate  previous_eur_pricing  percent_change_pricing  \\\n",
       "0    1999-01-04        1.1789                   NaN                     NaN   \n",
       "1    1999-01-05        1.1790                1.1789                0.008482   \n",
       "2    1999-01-06        1.1743                1.1790               -0.398643   \n",
       "3    1999-01-07        1.1632                1.1743               -0.945244   \n",
       "4    1999-01-08        1.1659                1.1632                0.232118   \n",
       "...         ...           ...                   ...                     ...   \n",
       "6025 2022-07-13        1.0067                1.0042                0.248954   \n",
       "6026 2022-07-14        1.0005                1.0067               -0.615874   \n",
       "6027 2022-07-15        1.0059                1.0005                0.539730   \n",
       "6028 2022-07-18        1.0131                1.0059                0.715777   \n",
       "6029 2022-07-19        1.0245                1.0131                1.125259   \n",
       "\n",
       "      5_days_rolling_mean_pricing  10_days_rolling_mean_pricing  \\\n",
       "0                             NaN                           NaN   \n",
       "1                             NaN                           NaN   \n",
       "2                             NaN                           NaN   \n",
       "3                             NaN                           NaN   \n",
       "4                         1.17226                           NaN   \n",
       "...                           ...                           ...   \n",
       "6025                      1.01100                       1.02284   \n",
       "6026                      1.00750                       1.01902   \n",
       "6027                      1.00542                       1.01536   \n",
       "6028                      1.00608                       1.01212   \n",
       "6029                      1.01014                       1.01167   \n",
       "\n",
       "      60_days_rolling_mean_pricing  120_days_rolling_mean_pricing  \n",
       "0                              NaN                            NaN  \n",
       "1                              NaN                            NaN  \n",
       "2                              NaN                            NaN  \n",
       "3                              NaN                            NaN  \n",
       "4                              NaN                            NaN  \n",
       "...                            ...                            ...  \n",
       "6025                      1.053007                       1.082417  \n",
       "6026                      1.051537                       1.081365  \n",
       "6027                      1.050273                       1.080350  \n",
       "6028                      1.049248                       1.079492  \n",
       "6029                      1.048533                       1.078748  \n",
       "\n",
       "[6030 rows x 8 columns]"
      ]
     },
     "execution_count": 16,
     "metadata": {},
     "output_type": "execute_result"
    }
   ],
   "source": [
    "eur_pricing_pd[\"5_days_rolling_mean_pricing\"] = eur_pricing_pd[\"eur_usd_rate\"].rolling(5).mean()\n",
    "eur_pricing_pd[\"10_days_rolling_mean_pricing\"] = eur_pricing_pd[\"eur_usd_rate\"].rolling(10).mean()\n",
    "eur_pricing_pd[\"60_days_rolling_mean_pricing\"] = eur_pricing_pd[\"eur_usd_rate\"].rolling(60).mean()\n",
    "eur_pricing_pd[\"120_days_rolling_mean_pricing\"] = eur_pricing_pd[\"eur_usd_rate\"].rolling(120).mean()\n",
    "eur_pricing_pd"
   ]
  },
  {
   "cell_type": "code",
   "execution_count": 17,
   "id": "e4f1ee84",
   "metadata": {},
   "outputs": [
    {
     "data": {
      "text/html": [
       "<div>\n",
       "<style scoped>\n",
       "    .dataframe tbody tr th:only-of-type {\n",
       "        vertical-align: middle;\n",
       "    }\n",
       "\n",
       "    .dataframe tbody tr th {\n",
       "        vertical-align: top;\n",
       "    }\n",
       "\n",
       "    .dataframe thead th {\n",
       "        text-align: right;\n",
       "    }\n",
       "</style>\n",
       "<table border=\"1\" class=\"dataframe\">\n",
       "  <thead>\n",
       "    <tr style=\"text-align: right;\">\n",
       "      <th></th>\n",
       "      <th>date</th>\n",
       "      <th>eur_usd_rate</th>\n",
       "      <th>previous_eur_pricing</th>\n",
       "      <th>percent_change_pricing</th>\n",
       "      <th>5_days_rolling_mean_pricing</th>\n",
       "      <th>10_days_rolling_mean_pricing</th>\n",
       "      <th>60_days_rolling_mean_pricing</th>\n",
       "      <th>120_days_rolling_mean_pricing</th>\n",
       "      <th>5_days_exp_rolling_mean_pricing</th>\n",
       "      <th>10_days_exp_rolling_mean_pricing</th>\n",
       "      <th>60_days_exp_rolling_mean_pricing</th>\n",
       "      <th>120_days_exp_rolling_mean_pricing</th>\n",
       "    </tr>\n",
       "  </thead>\n",
       "  <tbody>\n",
       "    <tr>\n",
       "      <th>0</th>\n",
       "      <td>1999-01-04</td>\n",
       "      <td>1.1789</td>\n",
       "      <td>NaN</td>\n",
       "      <td>NaN</td>\n",
       "      <td>NaN</td>\n",
       "      <td>NaN</td>\n",
       "      <td>NaN</td>\n",
       "      <td>NaN</td>\n",
       "      <td>1.178900</td>\n",
       "      <td>1.178900</td>\n",
       "      <td>1.178900</td>\n",
       "      <td>1.178900</td>\n",
       "    </tr>\n",
       "    <tr>\n",
       "      <th>1</th>\n",
       "      <td>1999-01-05</td>\n",
       "      <td>1.1790</td>\n",
       "      <td>1.1789</td>\n",
       "      <td>0.008482</td>\n",
       "      <td>NaN</td>\n",
       "      <td>NaN</td>\n",
       "      <td>NaN</td>\n",
       "      <td>NaN</td>\n",
       "      <td>1.178933</td>\n",
       "      <td>1.178918</td>\n",
       "      <td>1.178903</td>\n",
       "      <td>1.178902</td>\n",
       "    </tr>\n",
       "    <tr>\n",
       "      <th>2</th>\n",
       "      <td>1999-01-06</td>\n",
       "      <td>1.1743</td>\n",
       "      <td>1.1790</td>\n",
       "      <td>-0.398643</td>\n",
       "      <td>NaN</td>\n",
       "      <td>NaN</td>\n",
       "      <td>NaN</td>\n",
       "      <td>NaN</td>\n",
       "      <td>1.177389</td>\n",
       "      <td>1.178079</td>\n",
       "      <td>1.178752</td>\n",
       "      <td>1.178826</td>\n",
       "    </tr>\n",
       "    <tr>\n",
       "      <th>3</th>\n",
       "      <td>1999-01-07</td>\n",
       "      <td>1.1632</td>\n",
       "      <td>1.1743</td>\n",
       "      <td>-0.945244</td>\n",
       "      <td>NaN</td>\n",
       "      <td>NaN</td>\n",
       "      <td>NaN</td>\n",
       "      <td>NaN</td>\n",
       "      <td>1.172659</td>\n",
       "      <td>1.175373</td>\n",
       "      <td>1.178242</td>\n",
       "      <td>1.178567</td>\n",
       "    </tr>\n",
       "    <tr>\n",
       "      <th>4</th>\n",
       "      <td>1999-01-08</td>\n",
       "      <td>1.1659</td>\n",
       "      <td>1.1632</td>\n",
       "      <td>0.232118</td>\n",
       "      <td>1.17226</td>\n",
       "      <td>NaN</td>\n",
       "      <td>NaN</td>\n",
       "      <td>NaN</td>\n",
       "      <td>1.170406</td>\n",
       "      <td>1.173651</td>\n",
       "      <td>1.177838</td>\n",
       "      <td>1.178358</td>\n",
       "    </tr>\n",
       "    <tr>\n",
       "      <th>...</th>\n",
       "      <td>...</td>\n",
       "      <td>...</td>\n",
       "      <td>...</td>\n",
       "      <td>...</td>\n",
       "      <td>...</td>\n",
       "      <td>...</td>\n",
       "      <td>...</td>\n",
       "      <td>...</td>\n",
       "      <td>...</td>\n",
       "      <td>...</td>\n",
       "      <td>...</td>\n",
       "      <td>...</td>\n",
       "    </tr>\n",
       "    <tr>\n",
       "      <th>6025</th>\n",
       "      <td>2022-07-13</td>\n",
       "      <td>1.0067</td>\n",
       "      <td>1.0042</td>\n",
       "      <td>0.248954</td>\n",
       "      <td>1.01100</td>\n",
       "      <td>1.02284</td>\n",
       "      <td>1.053007</td>\n",
       "      <td>1.082417</td>\n",
       "      <td>1.011741</td>\n",
       "      <td>1.020807</td>\n",
       "      <td>1.054326</td>\n",
       "      <td>1.076699</td>\n",
       "    </tr>\n",
       "    <tr>\n",
       "      <th>6026</th>\n",
       "      <td>2022-07-14</td>\n",
       "      <td>1.0005</td>\n",
       "      <td>1.0067</td>\n",
       "      <td>-0.615874</td>\n",
       "      <td>1.00750</td>\n",
       "      <td>1.01902</td>\n",
       "      <td>1.051537</td>\n",
       "      <td>1.081365</td>\n",
       "      <td>1.007994</td>\n",
       "      <td>1.017115</td>\n",
       "      <td>1.052562</td>\n",
       "      <td>1.075439</td>\n",
       "    </tr>\n",
       "    <tr>\n",
       "      <th>6027</th>\n",
       "      <td>2022-07-15</td>\n",
       "      <td>1.0059</td>\n",
       "      <td>1.0005</td>\n",
       "      <td>0.539730</td>\n",
       "      <td>1.00542</td>\n",
       "      <td>1.01536</td>\n",
       "      <td>1.050273</td>\n",
       "      <td>1.080350</td>\n",
       "      <td>1.007296</td>\n",
       "      <td>1.015076</td>\n",
       "      <td>1.051032</td>\n",
       "      <td>1.074290</td>\n",
       "    </tr>\n",
       "    <tr>\n",
       "      <th>6028</th>\n",
       "      <td>2022-07-18</td>\n",
       "      <td>1.0131</td>\n",
       "      <td>1.0059</td>\n",
       "      <td>0.715777</td>\n",
       "      <td>1.00608</td>\n",
       "      <td>1.01212</td>\n",
       "      <td>1.049248</td>\n",
       "      <td>1.079492</td>\n",
       "      <td>1.009231</td>\n",
       "      <td>1.014717</td>\n",
       "      <td>1.049788</td>\n",
       "      <td>1.073278</td>\n",
       "    </tr>\n",
       "    <tr>\n",
       "      <th>6029</th>\n",
       "      <td>2022-07-19</td>\n",
       "      <td>1.0245</td>\n",
       "      <td>1.0131</td>\n",
       "      <td>1.125259</td>\n",
       "      <td>1.01014</td>\n",
       "      <td>1.01167</td>\n",
       "      <td>1.048533</td>\n",
       "      <td>1.078748</td>\n",
       "      <td>1.014320</td>\n",
       "      <td>1.016495</td>\n",
       "      <td>1.048959</td>\n",
       "      <td>1.072472</td>\n",
       "    </tr>\n",
       "  </tbody>\n",
       "</table>\n",
       "<p>6030 rows × 12 columns</p>\n",
       "</div>"
      ],
      "text/plain": [
       "           date  eur_usd_rate  previous_eur_pricing  percent_change_pricing  \\\n",
       "0    1999-01-04        1.1789                   NaN                     NaN   \n",
       "1    1999-01-05        1.1790                1.1789                0.008482   \n",
       "2    1999-01-06        1.1743                1.1790               -0.398643   \n",
       "3    1999-01-07        1.1632                1.1743               -0.945244   \n",
       "4    1999-01-08        1.1659                1.1632                0.232118   \n",
       "...         ...           ...                   ...                     ...   \n",
       "6025 2022-07-13        1.0067                1.0042                0.248954   \n",
       "6026 2022-07-14        1.0005                1.0067               -0.615874   \n",
       "6027 2022-07-15        1.0059                1.0005                0.539730   \n",
       "6028 2022-07-18        1.0131                1.0059                0.715777   \n",
       "6029 2022-07-19        1.0245                1.0131                1.125259   \n",
       "\n",
       "      5_days_rolling_mean_pricing  10_days_rolling_mean_pricing  \\\n",
       "0                             NaN                           NaN   \n",
       "1                             NaN                           NaN   \n",
       "2                             NaN                           NaN   \n",
       "3                             NaN                           NaN   \n",
       "4                         1.17226                           NaN   \n",
       "...                           ...                           ...   \n",
       "6025                      1.01100                       1.02284   \n",
       "6026                      1.00750                       1.01902   \n",
       "6027                      1.00542                       1.01536   \n",
       "6028                      1.00608                       1.01212   \n",
       "6029                      1.01014                       1.01167   \n",
       "\n",
       "      60_days_rolling_mean_pricing  120_days_rolling_mean_pricing  \\\n",
       "0                              NaN                            NaN   \n",
       "1                              NaN                            NaN   \n",
       "2                              NaN                            NaN   \n",
       "3                              NaN                            NaN   \n",
       "4                              NaN                            NaN   \n",
       "...                            ...                            ...   \n",
       "6025                      1.053007                       1.082417   \n",
       "6026                      1.051537                       1.081365   \n",
       "6027                      1.050273                       1.080350   \n",
       "6028                      1.049248                       1.079492   \n",
       "6029                      1.048533                       1.078748   \n",
       "\n",
       "      5_days_exp_rolling_mean_pricing  10_days_exp_rolling_mean_pricing  \\\n",
       "0                            1.178900                          1.178900   \n",
       "1                            1.178933                          1.178918   \n",
       "2                            1.177389                          1.178079   \n",
       "3                            1.172659                          1.175373   \n",
       "4                            1.170406                          1.173651   \n",
       "...                               ...                               ...   \n",
       "6025                         1.011741                          1.020807   \n",
       "6026                         1.007994                          1.017115   \n",
       "6027                         1.007296                          1.015076   \n",
       "6028                         1.009231                          1.014717   \n",
       "6029                         1.014320                          1.016495   \n",
       "\n",
       "      60_days_exp_rolling_mean_pricing  120_days_exp_rolling_mean_pricing  \n",
       "0                             1.178900                           1.178900  \n",
       "1                             1.178903                           1.178902  \n",
       "2                             1.178752                           1.178826  \n",
       "3                             1.178242                           1.178567  \n",
       "4                             1.177838                           1.178358  \n",
       "...                                ...                                ...  \n",
       "6025                          1.054326                           1.076699  \n",
       "6026                          1.052562                           1.075439  \n",
       "6027                          1.051032                           1.074290  \n",
       "6028                          1.049788                           1.073278  \n",
       "6029                          1.048959                           1.072472  \n",
       "\n",
       "[6030 rows x 12 columns]"
      ]
     },
     "execution_count": 17,
     "metadata": {},
     "output_type": "execute_result"
    }
   ],
   "source": [
    "eur_pricing_pd[\"5_days_exp_rolling_mean_pricing\"] = eur_pricing_pd[\"eur_usd_rate\"].ewm(span=5, adjust=False).mean()\n",
    "eur_pricing_pd[\"10_days_exp_rolling_mean_pricing\"] = eur_pricing_pd[\"eur_usd_rate\"].ewm(span=10, adjust=False).mean()\n",
    "eur_pricing_pd[\"60_days_exp_rolling_mean_pricing\"] = eur_pricing_pd[\"eur_usd_rate\"].ewm(span=60, adjust=False).mean()\n",
    "eur_pricing_pd[\"120_days_exp_rolling_mean_pricing\"] = eur_pricing_pd[\"eur_usd_rate\"].ewm(span=120, adjust=False).mean()\n",
    "    #https://www.statology.org/exponential-moving-average-pandas/\n",
    "eur_pricing_pd"
   ]
  },
  {
   "cell_type": "code",
   "execution_count": 18,
   "id": "336ae0ed",
   "metadata": {
    "scrolled": false
   },
   "outputs": [
    {
     "data": {
      "text/html": [
       "<div>\n",
       "<style scoped>\n",
       "    .dataframe tbody tr th:only-of-type {\n",
       "        vertical-align: middle;\n",
       "    }\n",
       "\n",
       "    .dataframe tbody tr th {\n",
       "        vertical-align: top;\n",
       "    }\n",
       "\n",
       "    .dataframe thead th {\n",
       "        text-align: right;\n",
       "    }\n",
       "</style>\n",
       "<table border=\"1\" class=\"dataframe\">\n",
       "  <thead>\n",
       "    <tr style=\"text-align: right;\">\n",
       "      <th></th>\n",
       "      <th>date</th>\n",
       "      <th>eur_usd_rate</th>\n",
       "      <th>previous_eur_pricing</th>\n",
       "      <th>percent_change_pricing</th>\n",
       "      <th>5_days_rolling_mean_pricing</th>\n",
       "      <th>10_days_rolling_mean_pricing</th>\n",
       "      <th>60_days_rolling_mean_pricing</th>\n",
       "      <th>120_days_rolling_mean_pricing</th>\n",
       "      <th>5_days_exp_rolling_mean_pricing</th>\n",
       "      <th>10_days_exp_rolling_mean_pricing</th>\n",
       "      <th>60_days_exp_rolling_mean_pricing</th>\n",
       "      <th>120_days_exp_rolling_mean_pricing</th>\n",
       "    </tr>\n",
       "  </thead>\n",
       "  <tbody>\n",
       "    <tr>\n",
       "      <th>119</th>\n",
       "      <td>1999-06-18</td>\n",
       "      <td>1.0388</td>\n",
       "      <td>1.0340</td>\n",
       "      <td>0.464217</td>\n",
       "      <td>1.03804</td>\n",
       "      <td>1.04017</td>\n",
       "      <td>1.060603</td>\n",
       "      <td>1.092362</td>\n",
       "      <td>1.038175</td>\n",
       "      <td>1.040002</td>\n",
       "      <td>1.062343</td>\n",
       "      <td>1.087234</td>\n",
       "    </tr>\n",
       "    <tr>\n",
       "      <th>120</th>\n",
       "      <td>1999-06-21</td>\n",
       "      <td>1.0339</td>\n",
       "      <td>1.0388</td>\n",
       "      <td>-0.471698</td>\n",
       "      <td>1.03608</td>\n",
       "      <td>1.04040</td>\n",
       "      <td>1.060015</td>\n",
       "      <td>1.091153</td>\n",
       "      <td>1.036750</td>\n",
       "      <td>1.038892</td>\n",
       "      <td>1.061410</td>\n",
       "      <td>1.086353</td>\n",
       "    </tr>\n",
       "    <tr>\n",
       "      <th>121</th>\n",
       "      <td>1999-06-22</td>\n",
       "      <td>1.0313</td>\n",
       "      <td>1.0339</td>\n",
       "      <td>-0.251475</td>\n",
       "      <td>1.03450</td>\n",
       "      <td>1.03968</td>\n",
       "      <td>1.059352</td>\n",
       "      <td>1.089922</td>\n",
       "      <td>1.034933</td>\n",
       "      <td>1.037512</td>\n",
       "      <td>1.060423</td>\n",
       "      <td>1.085443</td>\n",
       "    </tr>\n",
       "    <tr>\n",
       "      <th>122</th>\n",
       "      <td>1999-06-23</td>\n",
       "      <td>1.0280</td>\n",
       "      <td>1.0313</td>\n",
       "      <td>-0.319984</td>\n",
       "      <td>1.03320</td>\n",
       "      <td>1.03782</td>\n",
       "      <td>1.058582</td>\n",
       "      <td>1.088703</td>\n",
       "      <td>1.032622</td>\n",
       "      <td>1.035782</td>\n",
       "      <td>1.059360</td>\n",
       "      <td>1.084493</td>\n",
       "    </tr>\n",
       "    <tr>\n",
       "      <th>123</th>\n",
       "      <td>1999-06-24</td>\n",
       "      <td>1.0321</td>\n",
       "      <td>1.0280</td>\n",
       "      <td>0.398833</td>\n",
       "      <td>1.03282</td>\n",
       "      <td>1.03629</td>\n",
       "      <td>1.057830</td>\n",
       "      <td>1.087611</td>\n",
       "      <td>1.032448</td>\n",
       "      <td>1.035113</td>\n",
       "      <td>1.058466</td>\n",
       "      <td>1.083627</td>\n",
       "    </tr>\n",
       "    <tr>\n",
       "      <th>...</th>\n",
       "      <td>...</td>\n",
       "      <td>...</td>\n",
       "      <td>...</td>\n",
       "      <td>...</td>\n",
       "      <td>...</td>\n",
       "      <td>...</td>\n",
       "      <td>...</td>\n",
       "      <td>...</td>\n",
       "      <td>...</td>\n",
       "      <td>...</td>\n",
       "      <td>...</td>\n",
       "      <td>...</td>\n",
       "    </tr>\n",
       "    <tr>\n",
       "      <th>6025</th>\n",
       "      <td>2022-07-13</td>\n",
       "      <td>1.0067</td>\n",
       "      <td>1.0042</td>\n",
       "      <td>0.248954</td>\n",
       "      <td>1.01100</td>\n",
       "      <td>1.02284</td>\n",
       "      <td>1.053007</td>\n",
       "      <td>1.082417</td>\n",
       "      <td>1.011741</td>\n",
       "      <td>1.020807</td>\n",
       "      <td>1.054326</td>\n",
       "      <td>1.076699</td>\n",
       "    </tr>\n",
       "    <tr>\n",
       "      <th>6026</th>\n",
       "      <td>2022-07-14</td>\n",
       "      <td>1.0005</td>\n",
       "      <td>1.0067</td>\n",
       "      <td>-0.615874</td>\n",
       "      <td>1.00750</td>\n",
       "      <td>1.01902</td>\n",
       "      <td>1.051537</td>\n",
       "      <td>1.081365</td>\n",
       "      <td>1.007994</td>\n",
       "      <td>1.017115</td>\n",
       "      <td>1.052562</td>\n",
       "      <td>1.075439</td>\n",
       "    </tr>\n",
       "    <tr>\n",
       "      <th>6027</th>\n",
       "      <td>2022-07-15</td>\n",
       "      <td>1.0059</td>\n",
       "      <td>1.0005</td>\n",
       "      <td>0.539730</td>\n",
       "      <td>1.00542</td>\n",
       "      <td>1.01536</td>\n",
       "      <td>1.050273</td>\n",
       "      <td>1.080350</td>\n",
       "      <td>1.007296</td>\n",
       "      <td>1.015076</td>\n",
       "      <td>1.051032</td>\n",
       "      <td>1.074290</td>\n",
       "    </tr>\n",
       "    <tr>\n",
       "      <th>6028</th>\n",
       "      <td>2022-07-18</td>\n",
       "      <td>1.0131</td>\n",
       "      <td>1.0059</td>\n",
       "      <td>0.715777</td>\n",
       "      <td>1.00608</td>\n",
       "      <td>1.01212</td>\n",
       "      <td>1.049248</td>\n",
       "      <td>1.079492</td>\n",
       "      <td>1.009231</td>\n",
       "      <td>1.014717</td>\n",
       "      <td>1.049788</td>\n",
       "      <td>1.073278</td>\n",
       "    </tr>\n",
       "    <tr>\n",
       "      <th>6029</th>\n",
       "      <td>2022-07-19</td>\n",
       "      <td>1.0245</td>\n",
       "      <td>1.0131</td>\n",
       "      <td>1.125259</td>\n",
       "      <td>1.01014</td>\n",
       "      <td>1.01167</td>\n",
       "      <td>1.048533</td>\n",
       "      <td>1.078748</td>\n",
       "      <td>1.014320</td>\n",
       "      <td>1.016495</td>\n",
       "      <td>1.048959</td>\n",
       "      <td>1.072472</td>\n",
       "    </tr>\n",
       "  </tbody>\n",
       "</table>\n",
       "<p>5911 rows × 12 columns</p>\n",
       "</div>"
      ],
      "text/plain": [
       "           date  eur_usd_rate  previous_eur_pricing  percent_change_pricing  \\\n",
       "119  1999-06-18        1.0388                1.0340                0.464217   \n",
       "120  1999-06-21        1.0339                1.0388               -0.471698   \n",
       "121  1999-06-22        1.0313                1.0339               -0.251475   \n",
       "122  1999-06-23        1.0280                1.0313               -0.319984   \n",
       "123  1999-06-24        1.0321                1.0280                0.398833   \n",
       "...         ...           ...                   ...                     ...   \n",
       "6025 2022-07-13        1.0067                1.0042                0.248954   \n",
       "6026 2022-07-14        1.0005                1.0067               -0.615874   \n",
       "6027 2022-07-15        1.0059                1.0005                0.539730   \n",
       "6028 2022-07-18        1.0131                1.0059                0.715777   \n",
       "6029 2022-07-19        1.0245                1.0131                1.125259   \n",
       "\n",
       "      5_days_rolling_mean_pricing  10_days_rolling_mean_pricing  \\\n",
       "119                       1.03804                       1.04017   \n",
       "120                       1.03608                       1.04040   \n",
       "121                       1.03450                       1.03968   \n",
       "122                       1.03320                       1.03782   \n",
       "123                       1.03282                       1.03629   \n",
       "...                           ...                           ...   \n",
       "6025                      1.01100                       1.02284   \n",
       "6026                      1.00750                       1.01902   \n",
       "6027                      1.00542                       1.01536   \n",
       "6028                      1.00608                       1.01212   \n",
       "6029                      1.01014                       1.01167   \n",
       "\n",
       "      60_days_rolling_mean_pricing  120_days_rolling_mean_pricing  \\\n",
       "119                       1.060603                       1.092362   \n",
       "120                       1.060015                       1.091153   \n",
       "121                       1.059352                       1.089922   \n",
       "122                       1.058582                       1.088703   \n",
       "123                       1.057830                       1.087611   \n",
       "...                            ...                            ...   \n",
       "6025                      1.053007                       1.082417   \n",
       "6026                      1.051537                       1.081365   \n",
       "6027                      1.050273                       1.080350   \n",
       "6028                      1.049248                       1.079492   \n",
       "6029                      1.048533                       1.078748   \n",
       "\n",
       "      5_days_exp_rolling_mean_pricing  10_days_exp_rolling_mean_pricing  \\\n",
       "119                          1.038175                          1.040002   \n",
       "120                          1.036750                          1.038892   \n",
       "121                          1.034933                          1.037512   \n",
       "122                          1.032622                          1.035782   \n",
       "123                          1.032448                          1.035113   \n",
       "...                               ...                               ...   \n",
       "6025                         1.011741                          1.020807   \n",
       "6026                         1.007994                          1.017115   \n",
       "6027                         1.007296                          1.015076   \n",
       "6028                         1.009231                          1.014717   \n",
       "6029                         1.014320                          1.016495   \n",
       "\n",
       "      60_days_exp_rolling_mean_pricing  120_days_exp_rolling_mean_pricing  \n",
       "119                           1.062343                           1.087234  \n",
       "120                           1.061410                           1.086353  \n",
       "121                           1.060423                           1.085443  \n",
       "122                           1.059360                           1.084493  \n",
       "123                           1.058466                           1.083627  \n",
       "...                                ...                                ...  \n",
       "6025                          1.054326                           1.076699  \n",
       "6026                          1.052562                           1.075439  \n",
       "6027                          1.051032                           1.074290  \n",
       "6028                          1.049788                           1.073278  \n",
       "6029                          1.048959                           1.072472  \n",
       "\n",
       "[5911 rows x 12 columns]"
      ]
     },
     "execution_count": 18,
     "metadata": {},
     "output_type": "execute_result"
    }
   ],
   "source": [
    "#remove first row with NaN\n",
    "eur_pricing_pd = eur_pricing_pd.dropna()\n",
    "eur_pricing_pd"
   ]
  },
  {
   "cell_type": "markdown",
   "id": "af92b5e9",
   "metadata": {},
   "source": [
    "## Loading tweet data"
   ]
  },
  {
   "cell_type": "markdown",
   "id": "bd5c6f4c",
   "metadata": {},
   "source": [
    "We include tweets about the BCE, which is the entity in charge of protecting the value of the euro, but also tweets about debt crisis in Europe, because this can negatively impact the expectations around the euro. Also tweets about the economy of Europe, because this can influence the expectations of economic agents around the Euro. Specially relevant those countries with sovereing debt problems. I have included countries that experienced high interest rates during the 2008 economic crisis (above 6%, e.g., Spain or Greece; [link](https://en.wikipedia.org/wiki/File:Long-term_interest_rates_(eurozone).png)) and countries that currently having a percentage of debt respect GDP above 85.8%, which is the average of the Euro area ([link](https://www.statista.com/statistics/269684/national-debt-in-eu-countries-in-relation-to-gross-domestic-product-gdp/)). This is specially relevant because the BCE not only acts to preserve the value of the euro but to avoid the bankruptcy of the members states, and both goals can be incompatible in certain circumstances (e.g., buy EU debt when at the same time you have to fight against inflation raising the interest rates). It is worth to mention that the Euros can be seen as liabilities that it has respect to those having euros. Of course, today we do not have gold standard, so we cannot go to the ECB ansd ask for an exchange in gold. However, the ECB has a mandate to control the value of the Euro so those with Euros will not lose value, because of this, there is a goal of 2% inflation per year, that is the limit. For example, if for eany reason there is an increase of inflation (e.g., due to high energy prices), the ECB should use its assets to buy Euros and hence remove them from circulation, this would decrease the offer of Euros, and hence increase the value of the currency. But what happens if the ECB has not enough assets to compensate? or he has assets of low quality like for example bonds from European countries with debt problems? The ECB could have difficulties to use gain capitalization through these assets and use it to stabilize Euro's value. The economic agents know this because they can see the balance of the ECB, and they can decide to go away from Euro. This sentiment of the economic agents for the Euro is what I am trying to catch here, using twitter for that."
   ]
  },
  {
   "cell_type": "markdown",
   "id": "dd5a733c",
   "metadata": {},
   "source": [
    "I am not interested in the impact of the interest rates or exports of European countries. I am interested in the expectations of the economic agents about the Euro. If mane economic agents think and act in the same way, this is going to influence the demand and value of the currenct. For example, selling their euros because they expect a devlauation of the currency in the near future due to low confidence in Europe's economy. I am trying to capture the echoes of these expectations in twitter.\n",
    "\n",
    "This would be relevant for any componay interested in the prediction of currencies. If the consideration of the sentiment aroung the currency can help to improve predictions, they could do more advantageous trades. For example, for an american company doing business in Europe."
   ]
  },
  {
   "cell_type": "code",
   "execution_count": null,
   "id": "b89b2557",
   "metadata": {},
   "outputs": [],
   "source": [
    "#read json files about BCE\n",
    "import pandas as pd\n",
    "ecb_search = pd.read_json(\"data/json_files/search_euro_bank_twitter_1999_1_1.json\", lines=True)\n",
    "ecb_hashtag = pd.read_json(\"data/json_files/hashtag_euro_bank_twitter_1999_1_1.json\", lines=True)"
   ]
  },
  {
   "cell_type": "code",
   "execution_count": null,
   "id": "8e436627",
   "metadata": {},
   "outputs": [],
   "source": [
    "#read json files about debt crisis and European economy\n",
    "debt_crisis_search = pd.read_json(\"data/json_files/search_eu_debt_crisis_twitter_1999_1_1.json\", lines=True)\n",
    "eu_economy_search = pd.read_json(\"data/json_files/search_european_union_economy_twitter_1999_1_1.json\", lines=True)"
   ]
  },
  {
   "cell_type": "code",
   "execution_count": null,
   "id": "a22dfce9",
   "metadata": {},
   "outputs": [],
   "source": [
    "#read json files about the economy of specific European countries\n",
    "    #https://en.wikipedia.org/wiki/European_debt_crisis\n",
    "iceland_economy_search = pd.read_json(\"data/json_files/search_iceland_economy_twitter_1999_1_1.json\", lines=True)\n",
    "portugal_economy_search = pd.read_json(\"data/json_files/search_portugal_economy_twitter_1999_1_1.json\", lines=True)\n",
    "italy_economy_search = pd.read_json(\"data/json_files/search_italy_economy_twitter_1999_1_1.json\", lines=True)\n",
    "ireland_economy_search = pd.read_json(\"data/json_files/search_ireland_economy_twitter_1999_1_1.json\", lines=True)\n",
    "greece_economy_search = pd.read_json(\"data/json_files/search_greece_economy_twitter_1999_1_1.json\", lines=True)\n",
    "spain_economy_search = pd.read_json(\"data/json_files/search_spain_economy_twitter_1999_1_1.json\", lines=True)\n",
    "cyprus_economy_search = pd.read_json(\"data/json_files/search_cyprus_economy_twitter_1999_1_1.json\", lines=True)\n",
    "slovenia_economy_search = pd.read_json(\"data/json_files/search_slovenia_economy_twitter_1999_1_1.json\", lines=True)\n",
    "france_economy_search = pd.read_json(\"data/json_files/search_france_economy_twitter_1999_1_1.json\", lines=True)\n",
    "belgium_economy_search = pd.read_json(\"data/json_files/search_belgium_economy_twitter_1999_1_1.json\", lines=True)\n",
    "croatia_economy_search = pd.read_json(\"data/json_files/search_croatia_economy_twitter_1999_1_1.json\", lines=True)"
   ]
  },
  {
   "cell_type": "markdown",
   "id": "8558eb88",
   "metadata": {},
   "source": [
    "We are going to use also tweets about the different presidents of the ECB during their mandate. This can be another proxy of the sentiment around the institution in charge of preserving the value of the Euro. We only consider tweet for the time window they were presidents of the ECB."
   ]
  },
  {
   "cell_type": "code",
   "execution_count": null,
   "id": "32fe6fba",
   "metadata": {},
   "outputs": [],
   "source": [
    "trichet_search = pd.read_json(\"data/json_files/search_trichet_twitter.json\", lines=True)"
   ]
  },
  {
   "cell_type": "markdown",
   "id": "60acfce7",
   "metadata": {},
   "source": [
    "We are not using tweets about the USD because it is possible that the demand of US dollars increases (e.g., due to fears of recession and the corresponding search for safe heavens as it still has this reputation), but at the same time people can be unsatified with the way FED deals with inflation. The sentiment around USD in twitter would be negative in general, but it its demand can still increases."
   ]
  },
  {
   "cell_type": "code",
   "execution_count": null,
   "id": "39045d08",
   "metadata": {},
   "outputs": [],
   "source": [
    "#process json file\n",
    "    #https://www.kaggle.com/code/prathamsharma123/clean-raw-json-tweets-data/notebook\n",
    "print(ecb_search.shape)\n",
    "    #as many rows as tweets\n",
    "    #as many columns as features in each tweet"
   ]
  },
  {
   "cell_type": "code",
   "execution_count": null,
   "id": "33180df5",
   "metadata": {},
   "outputs": [],
   "source": [
    "#see features\n",
    "print(ecb_search.columns)"
   ]
  },
  {
   "cell_type": "code",
   "execution_count": null,
   "id": "f505b6d8",
   "metadata": {
    "scrolled": true
   },
   "outputs": [],
   "source": [
    "#get all columns for the first tweet\n",
    "print(ecb_search.iloc[0, :])"
   ]
  },
  {
   "cell_type": "code",
   "execution_count": null,
   "id": "9cb7fb34",
   "metadata": {},
   "outputs": [],
   "source": [
    "#check that the id is unique for each tweet\n",
    "print(ecb_search[\"id\"].is_unique)\n",
    "print(ecb_hashtag[\"id\"].is_unique)\n",
    "print(debt_crisis_search[\"id\"].is_unique)\n",
    "print(eu_economy_search[\"id\"].is_unique)\n",
    "print(iceland_economy_search[\"id\"].is_unique)\n",
    "print(portugal_economy_search[\"id\"].is_unique)\n",
    "print(italy_economy_search[\"id\"].is_unique)\n",
    "print(ireland_economy_search[\"id\"].is_unique)\n",
    "print(greece_economy_search[\"id\"].is_unique)\n",
    "print(spain_economy_search [\"id\"].is_unique)\n",
    "print(cyprus_economy_search[\"id\"].is_unique)\n",
    "print(slovenia_economy_search[\"id\"].is_unique)\n",
    "print(france_economy_search[\"id\"].is_unique)\n",
    "print(belgium_economy_search[\"id\"].is_unique)\n",
    "print(croatia_economy_search[\"id\"].is_unique)\n",
    "print(trichet_search[\"id\"].is_unique)"
   ]
  },
  {
   "cell_type": "code",
   "execution_count": null,
   "id": "bd59576b",
   "metadata": {
    "scrolled": true
   },
   "outputs": [],
   "source": [
    "#bind data.frames of ecb search and ecb hashtag\n",
    "tweets_df = ecb_hashtag.append([ecb_search, \n",
    "                                debt_crisis_search, \n",
    "                                eu_economy_search, \n",
    "                                iceland_economy_search,\n",
    "                                portugal_economy_search,\n",
    "                                italy_economy_search,\n",
    "                                ireland_economy_search,\n",
    "                                greece_economy_search,\n",
    "                                spain_economy_search ,\n",
    "                                cyprus_economy_search, \n",
    "                                slovenia_economy_search, \n",
    "                                france_economy_search,\n",
    "                                belgium_economy_search,\n",
    "                                croatia_economy_search,\n",
    "                                trichet_search])\n",
    "tweets_df[[\"id\", \"date\", \"rawContent\"]]"
   ]
  },
  {
   "cell_type": "code",
   "execution_count": null,
   "id": "f8e2203f",
   "metadata": {
    "scrolled": true
   },
   "outputs": [],
   "source": [
    "#reset the indeces to avoid problems when indexing\n",
    "tweets_df = tweets_df.reset_index(drop=True)\n",
    "    #use drop drop parameter to avoid the old index being added as a column\n",
    "tweets_df[[\"id\", \"date\", \"rawContent\"]]"
   ]
  },
  {
   "cell_type": "code",
   "execution_count": null,
   "id": "26cda9c7",
   "metadata": {
    "scrolled": true
   },
   "outputs": [],
   "source": [
    "#check we have the expected number of rows\n",
    "tweets_df.shape[0] == ecb_search.shape[0] + ecb_hashtag.shape[0] + debt_crisis_search.shape[0] + eu_economy_search.shape[0] + spain_economy_search.shape[0] + slovenia_economy_search.shape[0]"
   ]
  },
  {
   "cell_type": "code",
   "execution_count": null,
   "id": "323bde92",
   "metadata": {},
   "outputs": [],
   "source": [
    "#release space\n",
    "del([ecb_search, \n",
    "     debt_crisis_search, \n",
    "     eu_economy_search, \n",
    "     iceland_economy_search,\n",
    "     portugal_economy_search,\n",
    "     italy_economy_search,\n",
    "     ireland_economy_search,\n",
    "     greece_economy_search,\n",
    "     spain_economy_search ,\n",
    "     cyprus_economy_search, \n",
    "     slovenia_economy_search, \n",
    "     france_economy_search,\n",
    "     belgium_economy_search,\n",
    "     croatia_economy_search,\n",
    "     trichet_search])\n",
    "import gc\n",
    "gc.collect()"
   ]
  },
  {
   "cell_type": "code",
   "execution_count": null,
   "id": "398692dd",
   "metadata": {},
   "outputs": [],
   "source": [
    "#check for duplicated IDs\n",
    "tweets_df[\"id\"].duplicated().any()"
   ]
  },
  {
   "cell_type": "code",
   "execution_count": null,
   "id": "1672d8db",
   "metadata": {},
   "outputs": [],
   "source": [
    "#take a look to one of the duplicated IDs\n",
    "example_duplicated_id = tweets_df[tweets_df[\"id\"].duplicated()].iloc[2,:].loc[\"id\"] #get the ID\n",
    "\n",
    "#get the URL for all tweets having the example ID and check if there are identical URLs\n",
    "tweets_df.loc[tweets_df[\"id\"] == example_duplicated_id, \"url\"].duplicated().any()\n",
    "    #tweets with the same ID have the same URL, so they are the same tweet"
   ]
  },
  {
   "cell_type": "code",
   "execution_count": null,
   "id": "f2b3c29d",
   "metadata": {
    "scrolled": true
   },
   "outputs": [],
   "source": [
    "#remove tweets with a duplicated id\n",
    "tweets_df = tweets_df.drop_duplicates(subset=['id'])\n",
    "tweets_df.shape"
   ]
  },
  {
   "cell_type": "code",
   "execution_count": null,
   "id": "2e602a08",
   "metadata": {},
   "outputs": [],
   "source": [
    "#check languages\n",
    "import numpy as np\n",
    "np.unique(tweets_df[\"lang\"])"
   ]
  },
  {
   "cell_type": "code",
   "execution_count": null,
   "id": "53814a93",
   "metadata": {},
   "outputs": [],
   "source": [
    "#see tweets not in english\n",
    "sum(tweets_df[\"lang\"] != \"en\")"
   ]
  },
  {
   "cell_type": "code",
   "execution_count": null,
   "id": "91da5db0",
   "metadata": {},
   "outputs": [],
   "source": [
    "#select only tweets in english\n",
    "tweets_df_en = tweets_df[tweets_df[\"lang\"] == \"en\"]\n",
    "tweets_df_en.shape\n",
    "    #CHECK IF THE SENTIMENT MODEL USED CAN DEAL WITH OTHER LANGUAGES"
   ]
  },
  {
   "cell_type": "code",
   "execution_count": null,
   "id": "359c4b42",
   "metadata": {},
   "outputs": [],
   "source": [
    "#get the text for all tweets\n",
    "tweets_df_en.loc[:, \"rawContent\"].iloc[0:10,]\n",
    "    #CHECK IF THERE IS ANY DIFFERENCE RESPECT TO renderedContent"
   ]
  },
  {
   "cell_type": "markdown",
   "id": "08b9ff6a",
   "metadata": {},
   "source": [
    "## Sentiment analysis of tweets"
   ]
  },
  {
   "cell_type": "markdown",
   "id": "38edadeb",
   "metadata": {},
   "source": [
    "We will use VADER to perform the sentiment analysis. There are alternatives like TextBlob, but VADER meets well our requeriments\n",
    "- It is sensitive to both polarity (positive/negative) and intensity (strength) of emotion.\n",
    "- you get a positive, negative neutral scores and a compound score \n",
    "- labelled data not required because it is pre-trained ([link](https://towardsdatascience.com/sentimental-analysis-using-vader-a3415fef7664), [link](https://towardsdatascience.com/sentiment-analysis-of-tweets-167d040f0583))"
   ]
  },
  {
   "cell_type": "code",
   "execution_count": null,
   "id": "a32e7d9f",
   "metadata": {},
   "outputs": [],
   "source": [
    "#take example tweet\n",
    "example_tweet = tweets_df_en.loc[10, \"rawContent\"]"
   ]
  },
  {
   "cell_type": "code",
   "execution_count": null,
   "id": "a41bdbd0",
   "metadata": {},
   "outputs": [],
   "source": [
    "#VADER can be used from vaderSentiment\n",
    "from vaderSentiment.vaderSentiment import SentimentIntensityAnalyzer\n",
    "\n",
    "#open instance\n",
    "analyzer = SentimentIntensityAnalyzer()\n",
    "\n",
    "#example\n",
    "print(analyzer.polarity_scores(example_tweet))\n",
    "print(example_tweet)"
   ]
  },
  {
   "cell_type": "code",
   "execution_count": null,
   "id": "097be155",
   "metadata": {
    "scrolled": false
   },
   "outputs": [],
   "source": [
    "#or from nlTK\n",
    "import nltk\n",
    "nltk.download('vader_lexicon')\n",
    "from nltk.sentiment.vader import SentimentIntensityAnalyzer\n",
    "\n",
    "#instance\n",
    "sid = SentimentIntensityAnalyzer()"
   ]
  },
  {
   "cell_type": "code",
   "execution_count": null,
   "id": "929de767",
   "metadata": {},
   "outputs": [],
   "source": [
    "#we get the exact same result\n",
    "print(sid.polarity_scores(example_tweet))\n",
    "print(analyzer.polarity_scores(example_tweet))"
   ]
  },
  {
   "cell_type": "code",
   "execution_count": null,
   "id": "8ac40189",
   "metadata": {},
   "outputs": [],
   "source": [
    "#define function to clean the text\n",
    "import re\n",
    "def clean_tweet(tweet):\n",
    "    '''\n",
    "    Utility function to clean tweet text by removing links, special characters\n",
    "    using simple regex statements.\n",
    "    '''\n",
    "    return ' '.join(re.sub(\"(@[A-Za-z0-9]+)|([^0-9A-Za-z \\t]) |(\\w+:\\/\\/\\S+)\", \" \", tweet).split())\n",
    "\n",
    "##CHECK REGULAR EXPRESSIONS"
   ]
  },
  {
   "cell_type": "markdown",
   "id": "34fb8c59",
   "metadata": {},
   "source": [
    "We are going to use the negative sentiment, not the compound (negative-positive-neutral) sentiment. I think that when things are going well (i.e., no inflation) people tend to think that ECB is just doing its job, or that things are going well **despite** the ECB printing money. However, when things go wrong, they all look at the central bank considering it the main cause of the lose of value of the currency, given it is its main mandate, protect the value of its currency. This is specially relevant in the European Union, where different countries with different economies and interests are included, so for example, ensuring the value of the currency by increase interest rate could make things more difficult for European countries with high debts.\n",
    "\n",
    "WE ARE TO USE COMPOUND! BETTER!"
   ]
  },
  {
   "cell_type": "code",
   "execution_count": null,
   "id": "7debbeca",
   "metadata": {},
   "outputs": [],
   "source": [
    "#define function to be applied per row\n",
    "def sentiment_per_row(row):\n",
    "    \n",
    "    #get the text of the tweet\n",
    "    tweet_content = row[\"rawContent\"]\n",
    "    \n",
    "    #clean\n",
    "    tweet_cleaned = clean_tweet(tweet_content)\n",
    "    \n",
    "    #get the negative sentiment\n",
    "    sentiment = analyzer.polarity_scores(tweet_cleaned)[\"neu\"]\n",
    "\n",
    "    #return\n",
    "    return sentiment"
   ]
  },
  {
   "cell_type": "code",
   "execution_count": null,
   "id": "c958a4ee",
   "metadata": {},
   "outputs": [],
   "source": [
    "#apply the function per row and save as a new column\n",
    "tweets_df_en[\"neg_sentiment\"] = tweets_df_en.apply(sentiment_per_row, axis=1)\n",
    "    #https://www.geeksforgeeks.org/apply-function-to-every-row-in-a-pandas-dataframe/\n",
    "    \n",
    "#CHECK WARNING"
   ]
  },
  {
   "cell_type": "code",
   "execution_count": null,
   "id": "9efc545d",
   "metadata": {},
   "outputs": [],
   "source": [
    "#get the date and sentiment\n",
    "sentiment_results_df = tweets_df_en[[\"date\", \"neg_sentiment\"]]\n",
    "sentiment_results_df"
   ]
  },
  {
   "cell_type": "code",
   "execution_count": null,
   "id": "be7e1f99",
   "metadata": {
    "scrolled": true
   },
   "outputs": [],
   "source": [
    "#leave only year, month and day\n",
    "sentiment_results_df[\"date\"] = pd.to_datetime(sentiment_results_df[\"date\"].dt.strftime('%Y-%m-%d'))\n",
    "    #https://stackoverflow.com/questions/38067704/how-to-change-the-datetime-format-in-pandas\n",
    "    #https://stackoverflow.com/questions/20689288/converting-pandas-columns-to-datetime64-including-missing-values\n",
    "sentiment_results_df\n",
    "\n",
    "#CHECK WARNING"
   ]
  },
  {
   "cell_type": "code",
   "execution_count": null,
   "id": "f51b3e0d",
   "metadata": {},
   "outputs": [],
   "source": [
    "#check we have rows ordered in chronologicla order\n",
    "sentiment_results_df.equals(sentiment_results_df.sort_index())"
   ]
  },
  {
   "cell_type": "code",
   "execution_count": null,
   "id": "e04490e7",
   "metadata": {
    "scrolled": true
   },
   "outputs": [],
   "source": [
    "operation=\"max\"\n",
    "string_evaluate = 'sentiment_results_df.groupby(\"date\")[\"neg_sentiment\"].' + operation + '().to_frame()'\n",
    "string_evaluate"
   ]
  },
  {
   "cell_type": "markdown",
   "id": "b0b2e9dc",
   "metadata": {},
   "source": [
    "Now let's calculate several metrics for the sentiment of each day and save them in list of data.frames. Before calculating all metrics, let's take a quick look to .std in pandas"
   ]
  },
  {
   "cell_type": "code",
   "execution_count": null,
   "id": "61f56be6",
   "metadata": {},
   "outputs": [],
   "source": [
    "#get the most frequent value\n",
    "from statistics import mode\n",
    "mode([1,2,3,1,1])"
   ]
  },
  {
   "cell_type": "code",
   "execution_count": null,
   "id": "5fe56846",
   "metadata": {
    "scrolled": true
   },
   "outputs": [],
   "source": [
    "#std gives NA for cases with n=1\n",
    "print(pd.DataFrame([1,1]).std()) #std = 0\n",
    "print(pd.DataFrame([1,2]).std()) #std = 0.7\n",
    "print(pd.DataFrame([1]).std()) #std = NaN"
   ]
  },
  {
   "cell_type": "markdown",
   "id": "25ab4514",
   "metadata": {},
   "source": [
    "This is solved using ddof=0. ddof is Delta Degrees of Freedom. The divisor used in calculations is N - ddof, where N represents the number of elements\n"
   ]
  },
  {
   "cell_type": "code",
   "execution_count": null,
   "id": "ba70dc02",
   "metadata": {},
   "outputs": [],
   "source": [
    "print(pd.DataFrame([1,1]).std(ddof=0)) #std = 0\n",
    "print(pd.DataFrame([1,2]).std(ddof=0)) #std = 0.7\n",
    "print(pd.DataFrame([1]).std(ddof=0)) #std = NaN"
   ]
  },
  {
   "cell_type": "markdown",
   "id": "75a164b1",
   "metadata": {},
   "source": [
    "We get the same results with np.std and .std(ddof=0)"
   ]
  },
  {
   "cell_type": "code",
   "execution_count": null,
   "id": "ce98f280",
   "metadata": {
    "scrolled": false
   },
   "outputs": [],
   "source": [
    "print(np.std([1,1])) #std = 0\n",
    "print(np.std([1,2])) #std = 0.7\n",
    "print(np.std([1])) #std = NaN"
   ]
  },
  {
   "cell_type": "code",
   "execution_count": null,
   "id": "5b79626b",
   "metadata": {},
   "outputs": [],
   "source": [
    "np.max(np.unique(sentiment_results_df[\"date\"]))"
   ]
  },
  {
   "cell_type": "code",
   "execution_count": null,
   "id": "bf0f90e7",
   "metadata": {},
   "outputs": [],
   "source": [
    "idx = pd.date_range(np.min(np.unique(sentiment_results_df[\"date\"])), np.max(np.unique(sentiment_results_df[\"date\"])))\n",
    "sentiment_results_df.groupby(\"date\")[\"neg_sentiment\"].mean().reindex(idx, fill_value=np.NaN)\n"
   ]
  },
  {
   "cell_type": "code",
   "execution_count": null,
   "id": "38727d6b",
   "metadata": {},
   "outputs": [],
   "source": [
    "sentiment_results_df.groupby(\"date\")[\"neg_sentiment\"].mean().shift(2)"
   ]
  },
  {
   "cell_type": "markdown",
   "id": "074278f4",
   "metadata": {},
   "source": [
    "We can also calculate operations between quartiles, like the interquartile range: Q3-Q1"
   ]
  },
  {
   "cell_type": "code",
   "execution_count": null,
   "id": "a81e8b6f",
   "metadata": {
    "scrolled": true
   },
   "outputs": [],
   "source": [
    "sentiment_results_df.groupby(\"date\")[\"neg_sentiment\"].apply(lambda a: (np.percentile(a, 75) - np.percentile(a, 25)))"
   ]
  },
  {
   "cell_type": "code",
   "execution_count": null,
   "id": "274e936c",
   "metadata": {
    "scrolled": false
   },
   "outputs": [],
   "source": [
    "sentiment_results_df.groupby(\"date\")[\"neg_sentiment\"].apply(lambda a: np.percentile(a, 75))"
   ]
  },
  {
   "cell_type": "markdown",
   "id": "124ca1c6",
   "metadata": {},
   "source": [
    "We can see how the IQR is similar to Q3, this is caused because Q1 tends to be around zero."
   ]
  },
  {
   "cell_type": "code",
   "execution_count": null,
   "id": "85e9c66e",
   "metadata": {
    "scrolled": true
   },
   "outputs": [],
   "source": [
    "sentiment_results_df.groupby(\"date\")[\"neg_sentiment\"].apply(lambda a: np.percentile(a, 25)).describe()"
   ]
  },
  {
   "cell_type": "code",
   "execution_count": null,
   "id": "9059e00f",
   "metadata": {},
   "outputs": [],
   "source": [
    "#CALCULATE THE MOVING AVERATE OF PREVIOUS SENTIMENT\n",
    "#https://stackoverflow.com/questions/65929683/calculate-a-rolling-median-on-a-dataframe-that-has-a-non-unique-date-index"
   ]
  },
  {
   "cell_type": "code",
   "execution_count": null,
   "id": "240cf1a1",
   "metadata": {
    "scrolled": true
   },
   "outputs": [],
   "source": [
    "df_per_date = sentiment_results_df.groupby(\"date\")[\"neg_sentiment\"].apply(lambda a: a.values)\n",
    "df_per_date[0:10]"
   ]
  },
  {
   "cell_type": "code",
   "execution_count": null,
   "id": "a3030016",
   "metadata": {},
   "outputs": [],
   "source": [
    "check_moving_average = [window for window in df_per_date.rolling(5)]\n",
    "check_moving_average[0:7]"
   ]
  },
  {
   "cell_type": "code",
   "execution_count": null,
   "id": "466fb95e",
   "metadata": {},
   "outputs": [],
   "source": [
    "check_moving_average[5].explode()"
   ]
  },
  {
   "cell_type": "code",
   "execution_count": null,
   "id": "26cc867b",
   "metadata": {
    "scrolled": true
   },
   "outputs": [],
   "source": [
    "np.mean(check_moving_average[5].explode())"
   ]
  },
  {
   "cell_type": "code",
   "execution_count": null,
   "id": "49205ded",
   "metadata": {
    "scrolled": true
   },
   "outputs": [],
   "source": [
    "df_per_date.index"
   ]
  },
  {
   "cell_type": "markdown",
   "id": "47bb0766",
   "metadata": {},
   "source": [
    "Given we have many tweets per day (see count below), we can calculate different summary statistics per day. In this way, we can reduce the impact of \"trash\" in our data. We will deal later with the increased risk of overfitting due to many predictors."
   ]
  },
  {
   "cell_type": "code",
   "execution_count": null,
   "id": "5b81085a",
   "metadata": {},
   "outputs": [],
   "source": [
    "nan_series = pd.Series(np.repeat(np.nan, 10))\n",
    "nan_series.append(pd.Series([1,2,3]))"
   ]
  },
  {
   "cell_type": "code",
   "execution_count": null,
   "id": "192609de",
   "metadata": {},
   "outputs": [],
   "source": [
    "nan_series = pd.Series(np.repeat(np.nan, 1))\n",
    "nan_series.append(sentiment_results_df[\"neg_sentiment\"].iloc[0:-1])"
   ]
  },
  {
   "cell_type": "code",
   "execution_count": null,
   "id": "db966b78",
   "metadata": {
    "scrolled": true
   },
   "outputs": [],
   "source": [
    "np.append(np.repeat(np.nan, 1), sentiment_results_df[\"neg_sentiment\"].iloc[0:-1].values)"
   ]
  },
  {
   "cell_type": "code",
   "execution_count": null,
   "id": "a653803e",
   "metadata": {
    "scrolled": true
   },
   "outputs": [],
   "source": [
    "#open a list of df adding first the EUR pricing\n",
    "list_data_frames = [eur_pricing_pd]\n",
    "\n",
    "#define a function to do a given operation grouping by date\n",
    "def groupby_calcs(operation, metric_name, args=\"\"):\n",
    "        \n",
    "    #get the string with the operation name\n",
    "    string_evaluate = 'sentiment_results_df.groupby(\"date\")[\"neg_sentiment\"].' + operation + '(' + args + ').to_frame()'\n",
    "        #do operations for the sentiment of each day and then convert to df\n",
    "\n",
    "    data_frame = eval(string_evaluate)\n",
    "    idx = pd.date_range(np.min(np.unique(sentiment_results_df[\"date\"])), np.max(np.unique(sentiment_results_df[\"date\"])))\n",
    "    data_frame = data_frame.reindex(idx, fill_value=np.NaN)\n",
    "        #https://stackoverflow.com/questions/15610805/accessing-row-from-previous-day-in-pandas-dataframe-with-apply\n",
    "    data_frame['neg_sentiment'] = data_frame['neg_sentiment'].shift(1)\n",
    "        #https://stackoverflow.com/questions/19324453/add-missing-dates-to-pandas-dataframe\n",
    "    #data_frame[\"date\"] = data_frame.index\n",
    "    #data_frame = data_frame.rename(columns={'date': 'index', 'neg_sentiment': 'neg_sentiment_raw'})\n",
    "    #data_frame[\"neg_sentiment\"] = np.append(np.repeat(np.nan, 2), data_frame[\"neg_sentiment_raw\"].iloc[0:-2].values)\n",
    "    #data_frame = data_frame.drop([\"neg_sentiment_raw\"], inplace=False, axis=1)\n",
    "            #THIS GETS THE SENTIMENT OF THE PREVIOUS ROW, WHICH CNA BE THE PREVIOUS DAY OR NOT!\n",
    "            #INTENTAR PREVIOUS DAY EXACTLY BY DATE? AND IF NTO NAN?\n",
    "            #check density of tweets, how many days we do not have tweets?\n",
    "            #do it with the previos 10 days, twitter can help to predict 10-30 days ahead?\n",
    "        \n",
    "    #reset the index\n",
    "    data_frame = data_frame.reset_index(level=0)\n",
    "        #set the index (date) as column \n",
    "  \n",
    "    #change the column name for sentiment\n",
    "    data_frame = data_frame.rename(columns={'index': 'date', 'neg_sentiment': metric_name + '_neg_sent'})\n",
    "\n",
    "    #append the df to the list\n",
    "    list_data_frames.append(data_frame)\n",
    "\n",
    "#define a list of operations to do\n",
    "metrics_sentiment = [\"quantile_0.1\",\n",
    "                     \"quantile_0.25\",\n",
    "                     \"quantile_0.35\",\n",
    "                     \"quantile_0.50\",\n",
    "                     \"quantile_0.65\",\n",
    "                     \"quantile_0.75\",\n",
    "                     \"quantile_0.9\",\n",
    "                     \"mean\",\n",
    "                     \"sum\",\n",
    "                     \"count\", \n",
    "                         #this can be useful to control for averages with low number of tweets\n",
    "                         #but also to consider how much people is talking about europes economy\n",
    "                     \"std\"]\n",
    "\n",
    "#apply each operation\n",
    "for metric in metrics_sentiment:\n",
    "    \n",
    "    #for std\n",
    "    if metric == \"std\":\n",
    "        #use ddof=0 to get zero for cases with 1 tweet per day (see above)\n",
    "        groupby_calcs(operation=metric, metric_name=metric, args='ddof=0')\n",
    "    elif \"quantile\" in metric: #if quantile\n",
    "        #get the operation name and the quantile number\n",
    "        operation_name = metric.split(\"_\")[0]\n",
    "        quantile_number = metric.split(\"_\")[1]\n",
    "        groupby_calcs(operation=operation_name, metric_name=metric, args=quantile_number) \n",
    "    elif \"previous_sentiment\" in metric:\n",
    "        operation_name = \"apply\"\n",
    "        args = \"lambda a: a.values\"\n",
    "        groupby_calcs(operation=operation_name, metric_name=metric, args=args)   \n",
    "    else: \n",
    "        groupby_calcs(operation=metric, metric_name=metric) \n",
    "\n",
    "        \n",
    "#check we have the correct number of dfs in the list\n",
    "len(list_data_frames) == len(metrics_sentiment)+1"
   ]
  },
  {
   "cell_type": "code",
   "execution_count": null,
   "id": "819e0aaf",
   "metadata": {
    "scrolled": true
   },
   "outputs": [],
   "source": [
    "list_data_frames[1]"
   ]
  },
  {
   "cell_type": "code",
   "execution_count": null,
   "id": "974184c4",
   "metadata": {},
   "outputs": [],
   "source": [
    "#CHECKK THE FIRST 5 DAYS HAVE VALUE!!!! INCLUDES THE CURRENT DAY!!\n",
    "#this has into account rows? or actual dates?\n",
    "\n",
    "# drop NAs and group by date into lists of values\n",
    "df_per_date = sentiment_results_df.groupby(\"date\")[\"neg_sentiment\"].apply(lambda a: a.values)\n",
    "\n",
    "idx = pd.date_range(np.min(np.unique(sentiment_results_df[\"date\"])), np.max(np.unique(sentiment_results_df[\"date\"])))\n",
    "df_per_date = df_per_date.reindex(idx, fill_value=np.NaN)\n",
    "\n",
    "\n",
    "# compute medians across windows ('sum' concatenates multiple lists into one list)\n",
    "medians = [np.median(window.explode()) for window in df_per_date.rolling(5)]\n",
    "    #https://stackoverflow.com/questions/30885005/pandas-series-of-lists-to-one-series\n",
    "\n",
    "# result\n",
    "medians = pd.DataFrame({\"date\":df_per_date.index, \"moving\":medians})\n",
    "medians\n",
    "    #https://stackoverflow.com/questions/65929683/calculate-a-rolling-median-on-a-dataframe-that-has-a-non-unique-date-index\n"
   ]
  },
  {
   "cell_type": "code",
   "execution_count": null,
   "id": "e904383d",
   "metadata": {},
   "outputs": [],
   "source": [
    "np.quantile([1,2], q=0.5)\n",
    "np.median([1,2])\n",
    "np.std([1])"
   ]
  },
  {
   "cell_type": "code",
   "execution_count": null,
   "id": "a5ce6971",
   "metadata": {},
   "outputs": [],
   "source": [
    "#define a function to do a given operation grouping by date\n",
    "def groupby_calcs_moving(operation, metric_name, args=\"\", days=5):\n",
    "        \n",
    "    #get the string with the operation name\n",
    "    df_per_date = sentiment_results_df.groupby(\"date\")[\"neg_sentiment\"].apply(lambda a: a.values)\n",
    "    \n",
    "    idx = pd.date_range(np.min(np.unique(sentiment_results_df[\"date\"])), np.max(np.unique(sentiment_results_df[\"date\"])))\n",
    "    df_per_date = df_per_date.reindex(idx, fill_value=np.NaN)\n",
    "        #CHECK THIS\n",
    "    \n",
    "    if \"quantile\" in operation:\n",
    "        string_evaluate_1 = '[np.'+operation+'(window.explode(), q='+args+') for window in df_per_date.rolling('+str(days)+')]'\n",
    "    elif operation == \"len\":\n",
    "        string_evaluate_1 = '['+operation+'(window.explode()) for window in df_per_date.rolling('+str(days)+')]'\n",
    "    else:\n",
    "        string_evaluate_1 = '[np.'+operation+'(window.explode()) for window in df_per_date.rolling('+str(days)+')]'\n",
    "\n",
    "    medians = eval(string_evaluate_1)\n",
    "    \n",
    "    data_frame = pd.DataFrame({\"date\":df_per_date.index, \"neg_sentiment\":medians})\n",
    "        \n",
    "    #change the column name for sentiment\n",
    "    data_frame = data_frame.rename(columns={'neg_sentiment': metric_name + '_days_moving_neg_sent'})\n",
    "\n",
    "    #append the df to the list\n",
    "    list_data_frames.append(data_frame)\n",
    "\n",
    "#define a list of operations to do\n",
    "metrics_sentiment_moving = []\n",
    "for day in [10, 30, 60, 120, 240, 360]:\n",
    "    metrics_sentiment_moving = metrics_sentiment_moving + [metric + \"_\" + str(day) for metric in metrics_sentiment]\n",
    "\n",
    "#apply each operation\n",
    "for metric in metrics_sentiment_moving:\n",
    "    \n",
    "    days = metric.split(\"_\")[-1]\n",
    "    operation_name = metric.split(\"_\")[0]\n",
    "\n",
    "    #for std\n",
    "    if \"quantile\" in metric: #if quantile\n",
    "        #get the operation name and the quantile number\n",
    "        quantile_number = metric.split(\"_\")[1]\n",
    "        groupby_calcs_moving(operation=operation_name, metric_name=metric, args=quantile_number, days=days) \n",
    "    elif \"count\" in metric:\n",
    "        groupby_calcs_moving(operation='len', metric_name=metric, days=days) \n",
    "    else:\n",
    "        groupby_calcs_moving(operation=operation_name, metric_name=metric, days=days) \n",
    "\n",
    "        \n",
    "#check we have the correct number of dfs in the list\n",
    "len(list_data_frames) == (len(metrics_sentiment) + len(metrics_sentiment_moving))+1"
   ]
  },
  {
   "cell_type": "code",
   "execution_count": null,
   "id": "7bbffa40",
   "metadata": {
    "scrolled": true
   },
   "outputs": [],
   "source": [
    "list_data_frames"
   ]
  },
  {
   "cell_type": "code",
   "execution_count": null,
   "id": "1da4b6f4",
   "metadata": {
    "scrolled": false
   },
   "outputs": [],
   "source": [
    "##merge all data.frames\n",
    "from functools import reduce\n",
    "\n",
    "#merge them using reduce\n",
    "df_merged = reduce(lambda left, right: pd.merge(left, right, on=['date'], how='inner'), list_data_frames)\n",
    "    #leave only those rows having date in the datasets of currency value and sentiment\n",
    "    #https://stackoverflow.com/questions/44327999/python-pandas-merge-multiple-dataframes\n",
    "df_merged\n",
    "    #note that here the previous eur pricing can be different than the eur pricing of the previous row\n",
    "    #because when merging we lose days without tweet sentiment, so there is no longer continuous days"
   ]
  },
  {
   "cell_type": "code",
   "execution_count": null,
   "id": "0632b24f",
   "metadata": {},
   "outputs": [],
   "source": [
    "df_merged = df_merged.dropna()\n",
    "df_merged"
   ]
  },
  {
   "cell_type": "code",
   "execution_count": null,
   "id": "49ed8976",
   "metadata": {},
   "outputs": [],
   "source": [
    "#check that all days with just 1 tweet have std=0\n",
    "#np.unique(df_merged[df_merged[\"count_neg_sent\"] == 1][\"std_neg_sent\"]) == 0"
   ]
  },
  {
   "cell_type": "code",
   "execution_count": null,
   "id": "81036be1",
   "metadata": {
    "scrolled": true
   },
   "outputs": [],
   "source": [
    "'''\n",
    "##plot the metrics\n",
    "import matplotlib.pyplot as plt\n",
    "from matplotlib.pyplot import figure\n",
    "\n",
    "#for each metric\n",
    "for metric in metrics_sentiment:\n",
    "    \n",
    "    #open a plot with two panels\n",
    "    fig, (ax1, ax2) = plt.subplots(1,2, figsize=(15,4))\n",
    "\n",
    "    #plot scatter against date and eur pricing\n",
    "    ax1.scatter(x=df_merged[\"date\"], y=df_merged[metric + \"_neg_sent\"], s=0.5)\n",
    "    ax2.scatter(x=df_merged[\"percent_change_pricing\"], y=df_merged[metric + \"_neg_sent\"], s=0.5)\n",
    "    \n",
    "    #set ylabel\n",
    "    ax1.set_ylabel(metric + \" negative sentiment\")\n",
    "    ax1.set_xlabel(\"Year\")\n",
    "    ax2.set_ylabel(metric + \" negative sentiment\")\n",
    "    ax2.set_xlabel(\"Percent change in EUR/USD exchange rate\")\n",
    "    \n",
    "    #close\n",
    "    plt.show()\n",
    "'''"
   ]
  },
  {
   "cell_type": "markdown",
   "id": "37ebe9db",
   "metadata": {},
   "source": [
    "Mean shows that low currency values tend to be associated with high negative sentiment. As the value increase, there is more variation. With more negative but specially much more less negative days. This is even clearer for max. The main difference is that high currency values are associated with a lot of 0 negative days.\n",
    "\n",
    "It seems that once economic problems arise, then worries extend across economic agents and hence twitter, making less likely to have positive/neutral tweets."
   ]
  },
  {
   "cell_type": "code",
   "execution_count": null,
   "id": "fd216401",
   "metadata": {},
   "outputs": [],
   "source": [
    "#save the final data.frame with all metrics and eur pricing\n",
    "df_merged.to_csv(\"results/sentiment_ecb_pricing.csv.gz\", compression=\"gzip\", index=False)\n",
    "#df_merged = pd.read_csv(\"results/sentiment_ecb_pricing.csv.gz\", compression=\"gzip\")"
   ]
  },
  {
   "cell_type": "code",
   "execution_count": null,
   "id": "bb9689e2",
   "metadata": {},
   "outputs": [],
   "source": [
    "#save the final data.frame with all metrics and eur pricing\n",
    "df_merged.to_csv(\"results/sentiment_ecb_pricing.csv.gz\", compression=\"gzip\", index=False)\n",
    "#df_merged = pd.read_csv(\"results/sentiment_ecb_pricing.csv.gz\", compression=\"gzip\")"
   ]
  }
 ],
 "metadata": {
  "kernelspec": {
   "display_name": "Python 3",
   "language": "python",
   "name": "python3"
  },
  "language_info": {
   "codemirror_mode": {
    "name": "ipython",
    "version": 3
   },
   "file_extension": ".py",
   "mimetype": "text/x-python",
   "name": "python",
   "nbconvert_exporter": "python",
   "pygments_lexer": "ipython3",
   "version": "3.6.9"
  }
 },
 "nbformat": 4,
 "nbformat_minor": 5
}
