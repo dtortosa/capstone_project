{
 "cells": [
  {
   "cell_type": "markdown",
   "id": "14aa17f1",
   "metadata": {},
   "source": [
    "# Processing of EUR pricing"
   ]
  },
  {
   "cell_type": "markdown",
   "id": "5839af46",
   "metadata": {},
   "source": [
    "Set the working directory as usual:"
   ]
  },
  {
   "cell_type": "code",
   "execution_count": 1,
   "id": "613e971f",
   "metadata": {},
   "outputs": [
    {
     "data": {
      "text/plain": [
       "'/media/dftortosa/Windows/Users/dftor/Documents/diego_docs/industry/data_incubator/capstone_project'"
      ]
     },
     "execution_count": 1,
     "metadata": {},
     "output_type": "execute_result"
    }
   ],
   "source": [
    "import os\n",
    "\n",
    "os.chdir(\"/media/dftortosa/Windows/Users/dftor/Documents/diego_docs/industry/data_incubator/capstone_project/\")\n",
    "os.getcwd()"
   ]
  },
  {
   "cell_type": "markdown",
   "id": "d2b2afb0",
   "metadata": {},
   "source": [
    "## Loading EUR pricing "
   ]
  },
  {
   "cell_type": "markdown",
   "id": "80bbe6ba",
   "metadata": {},
   "source": [
    "EUR/USD exchange was downloaded from the [ECB webpage](https://www.ecb.europa.eu/stats/policy_and_exchange_rates/euro_reference_exchange_rates/html/eurofxref-graph-usd.en.html):"
   ]
  },
  {
   "cell_type": "code",
   "execution_count": 2,
   "id": "333a7cf7",
   "metadata": {
    "scrolled": false
   },
   "outputs": [],
   "source": [
    "import xmltodict\n",
    "\n",
    "xml_data = open('data/eur_pricing/euro_usd_until_august_2022.xml', 'r').read()\n",
    "xmlDict = xmltodict.parse(xml_data)\n",
    "    #https://stackabuse.com/reading-and-writing-xml-files-in-python-with-pandas/"
   ]
  },
  {
   "cell_type": "markdown",
   "id": "2eb275ea",
   "metadata": {},
   "source": [
    "Get dicts containing the value for Euro across time:"
   ]
  },
  {
   "cell_type": "code",
   "execution_count": 3,
   "id": "a139a777",
   "metadata": {
    "scrolled": true
   },
   "outputs": [
    {
     "data": {
      "text/plain": [
       "[OrderedDict([('@TIME_PERIOD', '1999-01-04'),\n",
       "              ('@OBS_VALUE', '1.1789'),\n",
       "              ('@OBS_STATUS', 'A'),\n",
       "              ('@OBS_CONF', 'F')]),\n",
       " OrderedDict([('@TIME_PERIOD', '1999-01-05'),\n",
       "              ('@OBS_VALUE', '1.1790'),\n",
       "              ('@OBS_STATUS', 'A'),\n",
       "              ('@OBS_CONF', 'F')]),\n",
       " OrderedDict([('@TIME_PERIOD', '1999-01-06'),\n",
       "              ('@OBS_VALUE', '1.1743'),\n",
       "              ('@OBS_STATUS', 'A'),\n",
       "              ('@OBS_CONF', 'F')])]"
      ]
     },
     "execution_count": 3,
     "metadata": {},
     "output_type": "execute_result"
    }
   ],
   "source": [
    "dicts_pricing = xmlDict[\"CompactData\"][\"DataSet\"][\"Series\"][\"Obs\"]\n",
    "dicts_pricing[0:3]"
   ]
  },
  {
   "cell_type": "markdown",
   "id": "618d5b85",
   "metadata": {},
   "source": [
    "This is a list of dictionaries:"
   ]
  },
  {
   "cell_type": "code",
   "execution_count": 4,
   "id": "fa670ac7",
   "metadata": {
    "scrolled": true
   },
   "outputs": [
    {
     "name": "stdout",
     "output_type": "stream",
     "text": [
      "<class 'list'>\n",
      "<class 'collections.OrderedDict'>\n"
     ]
    }
   ],
   "source": [
    "print(type(dicts_pricing))\n",
    "print(type(dicts_pricing[0]))"
   ]
  },
  {
   "cell_type": "markdown",
   "id": "b67daa12",
   "metadata": {},
   "source": [
    "So I can extract the date and the observed value (pricing) in each dict:"
   ]
  },
  {
   "cell_type": "code",
   "execution_count": 5,
   "id": "1003110c",
   "metadata": {},
   "outputs": [
    {
     "name": "stdout",
     "output_type": "stream",
     "text": [
      "('1999-01-04', '1.1789')\n"
     ]
    }
   ],
   "source": [
    "print((dicts_pricing[0][\"@TIME_PERIOD\"], (dicts_pricing[0][\"@OBS_VALUE\"])))"
   ]
  },
  {
   "cell_type": "markdown",
   "id": "120e84ed",
   "metadata": {},
   "source": [
    "OBS_STATUS and OBS_CONF are exactly the same across the whole dataset"
   ]
  },
  {
   "cell_type": "code",
   "execution_count": 6,
   "id": "08fbbc5b",
   "metadata": {
    "scrolled": false
   },
   "outputs": [
    {
     "name": "stdout",
     "output_type": "stream",
     "text": [
      "['A']\n",
      "['F']\n"
     ]
    }
   ],
   "source": [
    "import numpy as np\n",
    "print(np.unique([dictionary[\"@OBS_STATUS\"] for dictionary in dicts_pricing]))\n",
    "print(np.unique([dictionary[\"@OBS_CONF\"] for dictionary in dicts_pricing]))"
   ]
  },
  {
   "cell_type": "markdown",
   "id": "76ab0c3c",
   "metadata": {},
   "source": [
    "## Process EUR data "
   ]
  },
  {
   "cell_type": "markdown",
   "id": "927906df",
   "metadata": {},
   "source": [
    "Get the value and date saving as pandas DF:"
   ]
  },
  {
   "cell_type": "code",
   "execution_count": 7,
   "id": "70ff3c16",
   "metadata": {
    "scrolled": true
   },
   "outputs": [
    {
     "data": {
      "text/html": [
       "<div>\n",
       "<style scoped>\n",
       "    .dataframe tbody tr th:only-of-type {\n",
       "        vertical-align: middle;\n",
       "    }\n",
       "\n",
       "    .dataframe tbody tr th {\n",
       "        vertical-align: top;\n",
       "    }\n",
       "\n",
       "    .dataframe thead th {\n",
       "        text-align: right;\n",
       "    }\n",
       "</style>\n",
       "<table border=\"1\" class=\"dataframe\">\n",
       "  <thead>\n",
       "    <tr style=\"text-align: right;\">\n",
       "      <th></th>\n",
       "      <th>0</th>\n",
       "      <th>1</th>\n",
       "    </tr>\n",
       "  </thead>\n",
       "  <tbody>\n",
       "    <tr>\n",
       "      <th>0</th>\n",
       "      <td>1999-01-04</td>\n",
       "      <td>1.1789</td>\n",
       "    </tr>\n",
       "    <tr>\n",
       "      <th>1</th>\n",
       "      <td>1999-01-05</td>\n",
       "      <td>1.1790</td>\n",
       "    </tr>\n",
       "    <tr>\n",
       "      <th>2</th>\n",
       "      <td>1999-01-06</td>\n",
       "      <td>1.1743</td>\n",
       "    </tr>\n",
       "    <tr>\n",
       "      <th>3</th>\n",
       "      <td>1999-01-07</td>\n",
       "      <td>1.1632</td>\n",
       "    </tr>\n",
       "    <tr>\n",
       "      <th>4</th>\n",
       "      <td>1999-01-08</td>\n",
       "      <td>1.1659</td>\n",
       "    </tr>\n",
       "    <tr>\n",
       "      <th>...</th>\n",
       "      <td>...</td>\n",
       "      <td>...</td>\n",
       "    </tr>\n",
       "    <tr>\n",
       "      <th>6053</th>\n",
       "      <td>2022-08-22</td>\n",
       "      <td>1.0001</td>\n",
       "    </tr>\n",
       "    <tr>\n",
       "      <th>6054</th>\n",
       "      <td>2022-08-23</td>\n",
       "      <td>0.9927</td>\n",
       "    </tr>\n",
       "    <tr>\n",
       "      <th>6055</th>\n",
       "      <td>2022-08-24</td>\n",
       "      <td>0.9934</td>\n",
       "    </tr>\n",
       "    <tr>\n",
       "      <th>6056</th>\n",
       "      <td>2022-08-25</td>\n",
       "      <td>0.9970</td>\n",
       "    </tr>\n",
       "    <tr>\n",
       "      <th>6057</th>\n",
       "      <td>2022-08-26</td>\n",
       "      <td>1.0007</td>\n",
       "    </tr>\n",
       "  </tbody>\n",
       "</table>\n",
       "<p>6058 rows × 2 columns</p>\n",
       "</div>"
      ],
      "text/plain": [
       "               0       1\n",
       "0     1999-01-04  1.1789\n",
       "1     1999-01-05  1.1790\n",
       "2     1999-01-06  1.1743\n",
       "3     1999-01-07  1.1632\n",
       "4     1999-01-08  1.1659\n",
       "...          ...     ...\n",
       "6053  2022-08-22  1.0001\n",
       "6054  2022-08-23  0.9927\n",
       "6055  2022-08-24  0.9934\n",
       "6056  2022-08-25  0.9970\n",
       "6057  2022-08-26  1.0007\n",
       "\n",
       "[6058 rows x 2 columns]"
      ]
     },
     "execution_count": 7,
     "metadata": {},
     "output_type": "execute_result"
    }
   ],
   "source": [
    "import pandas as pd\n",
    "\n",
    "eur_pricing_pd = pd.DataFrame([(dictionary[\"@TIME_PERIOD\"], dictionary[\"@OBS_VALUE\"]) for dictionary in dicts_pricing])\n",
    "eur_pricing_pd"
   ]
  },
  {
   "cell_type": "markdown",
   "id": "d937d700",
   "metadata": {},
   "source": [
    "Name the columns:"
   ]
  },
  {
   "cell_type": "code",
   "execution_count": 8,
   "id": "9977b4c8",
   "metadata": {
    "scrolled": true
   },
   "outputs": [
    {
     "data": {
      "text/html": [
       "<div>\n",
       "<style scoped>\n",
       "    .dataframe tbody tr th:only-of-type {\n",
       "        vertical-align: middle;\n",
       "    }\n",
       "\n",
       "    .dataframe tbody tr th {\n",
       "        vertical-align: top;\n",
       "    }\n",
       "\n",
       "    .dataframe thead th {\n",
       "        text-align: right;\n",
       "    }\n",
       "</style>\n",
       "<table border=\"1\" class=\"dataframe\">\n",
       "  <thead>\n",
       "    <tr style=\"text-align: right;\">\n",
       "      <th></th>\n",
       "      <th>date</th>\n",
       "      <th>eur_usd_rate</th>\n",
       "    </tr>\n",
       "  </thead>\n",
       "  <tbody>\n",
       "    <tr>\n",
       "      <th>0</th>\n",
       "      <td>1999-01-04</td>\n",
       "      <td>1.1789</td>\n",
       "    </tr>\n",
       "    <tr>\n",
       "      <th>1</th>\n",
       "      <td>1999-01-05</td>\n",
       "      <td>1.1790</td>\n",
       "    </tr>\n",
       "    <tr>\n",
       "      <th>2</th>\n",
       "      <td>1999-01-06</td>\n",
       "      <td>1.1743</td>\n",
       "    </tr>\n",
       "    <tr>\n",
       "      <th>3</th>\n",
       "      <td>1999-01-07</td>\n",
       "      <td>1.1632</td>\n",
       "    </tr>\n",
       "    <tr>\n",
       "      <th>4</th>\n",
       "      <td>1999-01-08</td>\n",
       "      <td>1.1659</td>\n",
       "    </tr>\n",
       "    <tr>\n",
       "      <th>...</th>\n",
       "      <td>...</td>\n",
       "      <td>...</td>\n",
       "    </tr>\n",
       "    <tr>\n",
       "      <th>6053</th>\n",
       "      <td>2022-08-22</td>\n",
       "      <td>1.0001</td>\n",
       "    </tr>\n",
       "    <tr>\n",
       "      <th>6054</th>\n",
       "      <td>2022-08-23</td>\n",
       "      <td>0.9927</td>\n",
       "    </tr>\n",
       "    <tr>\n",
       "      <th>6055</th>\n",
       "      <td>2022-08-24</td>\n",
       "      <td>0.9934</td>\n",
       "    </tr>\n",
       "    <tr>\n",
       "      <th>6056</th>\n",
       "      <td>2022-08-25</td>\n",
       "      <td>0.9970</td>\n",
       "    </tr>\n",
       "    <tr>\n",
       "      <th>6057</th>\n",
       "      <td>2022-08-26</td>\n",
       "      <td>1.0007</td>\n",
       "    </tr>\n",
       "  </tbody>\n",
       "</table>\n",
       "<p>6058 rows × 2 columns</p>\n",
       "</div>"
      ],
      "text/plain": [
       "            date eur_usd_rate\n",
       "0     1999-01-04       1.1789\n",
       "1     1999-01-05       1.1790\n",
       "2     1999-01-06       1.1743\n",
       "3     1999-01-07       1.1632\n",
       "4     1999-01-08       1.1659\n",
       "...          ...          ...\n",
       "6053  2022-08-22       1.0001\n",
       "6054  2022-08-23       0.9927\n",
       "6055  2022-08-24       0.9934\n",
       "6056  2022-08-25       0.9970\n",
       "6057  2022-08-26       1.0007\n",
       "\n",
       "[6058 rows x 2 columns]"
      ]
     },
     "execution_count": 8,
     "metadata": {},
     "output_type": "execute_result"
    }
   ],
   "source": [
    "eur_pricing_pd = eur_pricing_pd.set_axis([\"date\", \"eur_usd_rate\"], axis=1, inplace=False)\n",
    "eur_pricing_pd"
   ]
  },
  {
   "cell_type": "markdown",
   "id": "f376577a",
   "metadata": {},
   "source": [
    "Change the format of the columns:"
   ]
  },
  {
   "cell_type": "code",
   "execution_count": 9,
   "id": "1cb81518",
   "metadata": {
    "scrolled": true
   },
   "outputs": [
    {
     "data": {
      "text/html": [
       "<div>\n",
       "<style scoped>\n",
       "    .dataframe tbody tr th:only-of-type {\n",
       "        vertical-align: middle;\n",
       "    }\n",
       "\n",
       "    .dataframe tbody tr th {\n",
       "        vertical-align: top;\n",
       "    }\n",
       "\n",
       "    .dataframe thead th {\n",
       "        text-align: right;\n",
       "    }\n",
       "</style>\n",
       "<table border=\"1\" class=\"dataframe\">\n",
       "  <thead>\n",
       "    <tr style=\"text-align: right;\">\n",
       "      <th></th>\n",
       "      <th>date</th>\n",
       "      <th>eur_usd_rate</th>\n",
       "    </tr>\n",
       "  </thead>\n",
       "  <tbody>\n",
       "    <tr>\n",
       "      <th>0</th>\n",
       "      <td>1999-01-04</td>\n",
       "      <td>1.1789</td>\n",
       "    </tr>\n",
       "    <tr>\n",
       "      <th>1</th>\n",
       "      <td>1999-01-05</td>\n",
       "      <td>1.1790</td>\n",
       "    </tr>\n",
       "    <tr>\n",
       "      <th>2</th>\n",
       "      <td>1999-01-06</td>\n",
       "      <td>1.1743</td>\n",
       "    </tr>\n",
       "    <tr>\n",
       "      <th>3</th>\n",
       "      <td>1999-01-07</td>\n",
       "      <td>1.1632</td>\n",
       "    </tr>\n",
       "    <tr>\n",
       "      <th>4</th>\n",
       "      <td>1999-01-08</td>\n",
       "      <td>1.1659</td>\n",
       "    </tr>\n",
       "    <tr>\n",
       "      <th>...</th>\n",
       "      <td>...</td>\n",
       "      <td>...</td>\n",
       "    </tr>\n",
       "    <tr>\n",
       "      <th>6053</th>\n",
       "      <td>2022-08-22</td>\n",
       "      <td>1.0001</td>\n",
       "    </tr>\n",
       "    <tr>\n",
       "      <th>6054</th>\n",
       "      <td>2022-08-23</td>\n",
       "      <td>0.9927</td>\n",
       "    </tr>\n",
       "    <tr>\n",
       "      <th>6055</th>\n",
       "      <td>2022-08-24</td>\n",
       "      <td>0.9934</td>\n",
       "    </tr>\n",
       "    <tr>\n",
       "      <th>6056</th>\n",
       "      <td>2022-08-25</td>\n",
       "      <td>0.9970</td>\n",
       "    </tr>\n",
       "    <tr>\n",
       "      <th>6057</th>\n",
       "      <td>2022-08-26</td>\n",
       "      <td>1.0007</td>\n",
       "    </tr>\n",
       "  </tbody>\n",
       "</table>\n",
       "<p>6058 rows × 2 columns</p>\n",
       "</div>"
      ],
      "text/plain": [
       "           date  eur_usd_rate\n",
       "0    1999-01-04        1.1789\n",
       "1    1999-01-05        1.1790\n",
       "2    1999-01-06        1.1743\n",
       "3    1999-01-07        1.1632\n",
       "4    1999-01-08        1.1659\n",
       "...         ...           ...\n",
       "6053 2022-08-22        1.0001\n",
       "6054 2022-08-23        0.9927\n",
       "6055 2022-08-24        0.9934\n",
       "6056 2022-08-25        0.9970\n",
       "6057 2022-08-26        1.0007\n",
       "\n",
       "[6058 rows x 2 columns]"
      ]
     },
     "execution_count": 9,
     "metadata": {},
     "output_type": "execute_result"
    }
   ],
   "source": [
    "#convert pricing to numeric\n",
    "eur_pricing_pd[\"eur_usd_rate\"] = pd.to_numeric(eur_pricing_pd[\"eur_usd_rate\"])\n",
    "    #https://stackoverflow.com/questions/15891038/change-column-type-in-pandas\n",
    "    \n",
    "#convert date to datetime\n",
    "eur_pricing_pd[\"date\"] = pd.to_datetime(eur_pricing_pd[\"date\"])\n",
    "\n",
    "#look\n",
    "eur_pricing_pd"
   ]
  },
  {
   "cell_type": "markdown",
   "id": "1afecda1",
   "metadata": {},
   "source": [
    "Plot the EUR/USD exchange rate since 1999:"
   ]
  },
  {
   "cell_type": "code",
   "execution_count": 10,
   "id": "2121a4dc",
   "metadata": {
    "scrolled": true
   },
   "outputs": [
    {
     "data": {
      "image/png": "[encoded data removed]",
      "text/plain": [
       "<Figure size 432x288 with 1 Axes>"
      ]
     },
     "metadata": {
      "needs_background": "light"
     },
     "output_type": "display_data"
    }
   ],
   "source": [
    "import matplotlib.pyplot as plt\n",
    "\n",
    "plt.plot(eur_pricing_pd[\"date\"], eur_pricing_pd[\"eur_usd_rate\"])\n",
    "plt.axhline(y=1, color='r', linestyle='-') #red line for EUR/USD parity\n",
    "plt.ylabel('EUR/USD exchange rate')\n",
    "plt.show()"
   ]
  },
  {
   "attachments": {
    "image.png": {
     "image/png": "[encoded data removed]"
    }
   },
   "cell_type": "markdown",
   "id": "bc08a4e8",
   "metadata": {},
   "source": [
    "This is similar to that show in the web page of the ECB:\n",
    "\n",
    "![image.png](attachment:image.png)"
   ]
  },
  {
   "cell_type": "markdown",
   "id": "9a1b27d1",
   "metadata": {},
   "source": [
    "Probably the most interesting thing is the peak in 2008 and then the continuous decrease. Some economists say that until 2008, the euro was a strong candidate disputing the position of global currency of the dollar, but in the debt crisis of 2008-2012, the ECB made clear that it would do what ever it takes to avoid the default of European countries, and this means purchasing low-quality assets like bonds of countries with a high sovereing debt. This decreased the quality of the assests backing the Euro and hence potentially reducing the future ability of the ECB to control the value of its currency. Because of this, economy agents reduced their expectations about the Euro since 2008."
   ]
  },
  {
   "cell_type": "markdown",
   "id": "4198fd1a",
   "metadata": {},
   "source": [
    "## Create predictors using previous EUR pricing"
   ]
  },
  {
   "cell_type": "markdown",
   "id": "0b0b3a95",
   "metadata": {},
   "source": [
    "I will use the previous EUR/USD exchange ratio to create variables with the potential to predict the current EUR pricing."
   ]
  },
  {
   "cell_type": "markdown",
   "id": "c50f3838",
   "metadata": {},
   "source": [
    "First, I am going to create a new column with the eur pricing of the previous day. We have continous data, one day per row without gaps, so we can easily calculate the eur pricing of the exact previous day:"
   ]
  },
  {
   "cell_type": "code",
   "execution_count": 11,
   "id": "ba1bd66a",
   "metadata": {
    "scrolled": true
   },
   "outputs": [
    {
     "data": {
      "text/html": [
       "<div>\n",
       "<style scoped>\n",
       "    .dataframe tbody tr th:only-of-type {\n",
       "        vertical-align: middle;\n",
       "    }\n",
       "\n",
       "    .dataframe tbody tr th {\n",
       "        vertical-align: top;\n",
       "    }\n",
       "\n",
       "    .dataframe thead th {\n",
       "        text-align: right;\n",
       "    }\n",
       "</style>\n",
       "<table border=\"1\" class=\"dataframe\">\n",
       "  <thead>\n",
       "    <tr style=\"text-align: right;\">\n",
       "      <th></th>\n",
       "      <th>date</th>\n",
       "      <th>eur_usd_rate</th>\n",
       "      <th>previous_eur_pricing</th>\n",
       "    </tr>\n",
       "  </thead>\n",
       "  <tbody>\n",
       "    <tr>\n",
       "      <th>0</th>\n",
       "      <td>1999-01-04</td>\n",
       "      <td>1.1789</td>\n",
       "      <td>NaN</td>\n",
       "    </tr>\n",
       "    <tr>\n",
       "      <th>1</th>\n",
       "      <td>1999-01-05</td>\n",
       "      <td>1.1790</td>\n",
       "      <td>1.1789</td>\n",
       "    </tr>\n",
       "    <tr>\n",
       "      <th>2</th>\n",
       "      <td>1999-01-06</td>\n",
       "      <td>1.1743</td>\n",
       "      <td>1.1790</td>\n",
       "    </tr>\n",
       "    <tr>\n",
       "      <th>3</th>\n",
       "      <td>1999-01-07</td>\n",
       "      <td>1.1632</td>\n",
       "      <td>1.1743</td>\n",
       "    </tr>\n",
       "    <tr>\n",
       "      <th>4</th>\n",
       "      <td>1999-01-08</td>\n",
       "      <td>1.1659</td>\n",
       "      <td>1.1632</td>\n",
       "    </tr>\n",
       "    <tr>\n",
       "      <th>...</th>\n",
       "      <td>...</td>\n",
       "      <td>...</td>\n",
       "      <td>...</td>\n",
       "    </tr>\n",
       "    <tr>\n",
       "      <th>6053</th>\n",
       "      <td>2022-08-22</td>\n",
       "      <td>1.0001</td>\n",
       "      <td>1.0054</td>\n",
       "    </tr>\n",
       "    <tr>\n",
       "      <th>6054</th>\n",
       "      <td>2022-08-23</td>\n",
       "      <td>0.9927</td>\n",
       "      <td>1.0001</td>\n",
       "    </tr>\n",
       "    <tr>\n",
       "      <th>6055</th>\n",
       "      <td>2022-08-24</td>\n",
       "      <td>0.9934</td>\n",
       "      <td>0.9927</td>\n",
       "    </tr>\n",
       "    <tr>\n",
       "      <th>6056</th>\n",
       "      <td>2022-08-25</td>\n",
       "      <td>0.9970</td>\n",
       "      <td>0.9934</td>\n",
       "    </tr>\n",
       "    <tr>\n",
       "      <th>6057</th>\n",
       "      <td>2022-08-26</td>\n",
       "      <td>1.0007</td>\n",
       "      <td>0.9970</td>\n",
       "    </tr>\n",
       "  </tbody>\n",
       "</table>\n",
       "<p>6058 rows × 3 columns</p>\n",
       "</div>"
      ],
      "text/plain": [
       "           date  eur_usd_rate  previous_eur_pricing\n",
       "0    1999-01-04        1.1789                   NaN\n",
       "1    1999-01-05        1.1790                1.1789\n",
       "2    1999-01-06        1.1743                1.1790\n",
       "3    1999-01-07        1.1632                1.1743\n",
       "4    1999-01-08        1.1659                1.1632\n",
       "...         ...           ...                   ...\n",
       "6053 2022-08-22        1.0001                1.0054\n",
       "6054 2022-08-23        0.9927                1.0001\n",
       "6055 2022-08-24        0.9934                0.9927\n",
       "6056 2022-08-25        0.9970                0.9934\n",
       "6057 2022-08-26        1.0007                0.9970\n",
       "\n",
       "[6058 rows x 3 columns]"
      ]
     },
     "execution_count": 11,
     "metadata": {},
     "output_type": "execute_result"
    }
   ],
   "source": [
    "eur_pricing_pd[\"previous_eur_pricing\"] = eur_pricing_pd[\"eur_usd_rate\"].shift(1)\n",
    "    #https://pandas.pydata.org/docs/reference/api/pandas.DataFrame.shift.html\n",
    "eur_pricing_pd"
   ]
  },
  {
   "cell_type": "markdown",
   "id": "4db7390b",
   "metadata": {},
   "source": [
    "Now, I am going to check that the value in \"previous_eur_pricing\" is equal to \"eur_usd_rate\" of the previous row:"
   ]
  },
  {
   "cell_type": "code",
   "execution_count": 12,
   "id": "9bdb34a3",
   "metadata": {},
   "outputs": [
    {
     "data": {
      "text/plain": [
       "True"
      ]
     },
     "execution_count": 12,
     "metadata": {},
     "output_type": "execute_result"
    }
   ],
   "source": [
    "check = [] #empty list to save results\n",
    "\n",
    "#iterate across the pandas df\n",
    "for index, row in eur_pricing_pd.T.iteritems():\n",
    "    \n",
    "    #avoid the first row that obviously has no previous eur value\n",
    "    if index > 0:\n",
    "        check.append(row[\"previous_eur_pricing\"] == eur_pricing_pd[\"eur_usd_rate\"].iloc[index-1])\n",
    "\n",
    "#see that all True\n",
    "all(check)"
   ]
  },
  {
   "cell_type": "markdown",
   "id": "143ef4e7",
   "metadata": {},
   "source": [
    "I am going to include as predictors the rolling mean of previous days."
   ]
  },
  {
   "cell_type": "code",
   "execution_count": 13,
   "id": "18483094",
   "metadata": {
    "scrolled": true
   },
   "outputs": [
    {
     "data": {
      "text/html": [
       "<div>\n",
       "<style scoped>\n",
       "    .dataframe tbody tr th:only-of-type {\n",
       "        vertical-align: middle;\n",
       "    }\n",
       "\n",
       "    .dataframe tbody tr th {\n",
       "        vertical-align: top;\n",
       "    }\n",
       "\n",
       "    .dataframe thead th {\n",
       "        text-align: right;\n",
       "    }\n",
       "</style>\n",
       "<table border=\"1\" class=\"dataframe\">\n",
       "  <thead>\n",
       "    <tr style=\"text-align: right;\">\n",
       "      <th></th>\n",
       "      <th>date</th>\n",
       "      <th>eur_usd_rate</th>\n",
       "      <th>previous_eur_pricing</th>\n",
       "      <th>5_days_rolling_mean_pricing</th>\n",
       "      <th>10_days_rolling_mean_pricing</th>\n",
       "      <th>60_days_rolling_mean_pricing</th>\n",
       "      <th>120_days_rolling_mean_pricing</th>\n",
       "    </tr>\n",
       "  </thead>\n",
       "  <tbody>\n",
       "    <tr>\n",
       "      <th>0</th>\n",
       "      <td>1999-01-04</td>\n",
       "      <td>1.1789</td>\n",
       "      <td>NaN</td>\n",
       "      <td>NaN</td>\n",
       "      <td>NaN</td>\n",
       "      <td>NaN</td>\n",
       "      <td>NaN</td>\n",
       "    </tr>\n",
       "    <tr>\n",
       "      <th>1</th>\n",
       "      <td>1999-01-05</td>\n",
       "      <td>1.1790</td>\n",
       "      <td>1.1789</td>\n",
       "      <td>NaN</td>\n",
       "      <td>NaN</td>\n",
       "      <td>NaN</td>\n",
       "      <td>NaN</td>\n",
       "    </tr>\n",
       "    <tr>\n",
       "      <th>2</th>\n",
       "      <td>1999-01-06</td>\n",
       "      <td>1.1743</td>\n",
       "      <td>1.1790</td>\n",
       "      <td>NaN</td>\n",
       "      <td>NaN</td>\n",
       "      <td>NaN</td>\n",
       "      <td>NaN</td>\n",
       "    </tr>\n",
       "    <tr>\n",
       "      <th>3</th>\n",
       "      <td>1999-01-07</td>\n",
       "      <td>1.1632</td>\n",
       "      <td>1.1743</td>\n",
       "      <td>NaN</td>\n",
       "      <td>NaN</td>\n",
       "      <td>NaN</td>\n",
       "      <td>NaN</td>\n",
       "    </tr>\n",
       "    <tr>\n",
       "      <th>4</th>\n",
       "      <td>1999-01-08</td>\n",
       "      <td>1.1659</td>\n",
       "      <td>1.1632</td>\n",
       "      <td>NaN</td>\n",
       "      <td>NaN</td>\n",
       "      <td>NaN</td>\n",
       "      <td>NaN</td>\n",
       "    </tr>\n",
       "    <tr>\n",
       "      <th>...</th>\n",
       "      <td>...</td>\n",
       "      <td>...</td>\n",
       "      <td>...</td>\n",
       "      <td>...</td>\n",
       "      <td>...</td>\n",
       "      <td>...</td>\n",
       "      <td>...</td>\n",
       "    </tr>\n",
       "    <tr>\n",
       "      <th>6053</th>\n",
       "      <td>2022-08-22</td>\n",
       "      <td>1.0001</td>\n",
       "      <td>1.0054</td>\n",
       "      <td>1.01444</td>\n",
       "      <td>1.02030</td>\n",
       "      <td>1.034628</td>\n",
       "      <td>1.057292</td>\n",
       "    </tr>\n",
       "    <tr>\n",
       "      <th>6054</th>\n",
       "      <td>2022-08-23</td>\n",
       "      <td>0.9927</td>\n",
       "      <td>1.0001</td>\n",
       "      <td>1.01056</td>\n",
       "      <td>1.01832</td>\n",
       "      <td>1.033357</td>\n",
       "      <td>1.056397</td>\n",
       "    </tr>\n",
       "    <tr>\n",
       "      <th>6055</th>\n",
       "      <td>2022-08-24</td>\n",
       "      <td>0.9934</td>\n",
       "      <td>0.9927</td>\n",
       "      <td>1.00648</td>\n",
       "      <td>1.01525</td>\n",
       "      <td>1.032047</td>\n",
       "      <td>1.055562</td>\n",
       "    </tr>\n",
       "    <tr>\n",
       "      <th>6056</th>\n",
       "      <td>2022-08-25</td>\n",
       "      <td>0.9970</td>\n",
       "      <td>0.9934</td>\n",
       "      <td>1.00188</td>\n",
       "      <td>1.01207</td>\n",
       "      <td>1.030750</td>\n",
       "      <td>1.054761</td>\n",
       "    </tr>\n",
       "    <tr>\n",
       "      <th>6057</th>\n",
       "      <td>2022-08-26</td>\n",
       "      <td>1.0007</td>\n",
       "      <td>0.9970</td>\n",
       "      <td>0.99772</td>\n",
       "      <td>1.00839</td>\n",
       "      <td>1.029547</td>\n",
       "      <td>1.053992</td>\n",
       "    </tr>\n",
       "  </tbody>\n",
       "</table>\n",
       "<p>6058 rows × 7 columns</p>\n",
       "</div>"
      ],
      "text/plain": [
       "           date  eur_usd_rate  previous_eur_pricing  \\\n",
       "0    1999-01-04        1.1789                   NaN   \n",
       "1    1999-01-05        1.1790                1.1789   \n",
       "2    1999-01-06        1.1743                1.1790   \n",
       "3    1999-01-07        1.1632                1.1743   \n",
       "4    1999-01-08        1.1659                1.1632   \n",
       "...         ...           ...                   ...   \n",
       "6053 2022-08-22        1.0001                1.0054   \n",
       "6054 2022-08-23        0.9927                1.0001   \n",
       "6055 2022-08-24        0.9934                0.9927   \n",
       "6056 2022-08-25        0.9970                0.9934   \n",
       "6057 2022-08-26        1.0007                0.9970   \n",
       "\n",
       "      5_days_rolling_mean_pricing  10_days_rolling_mean_pricing  \\\n",
       "0                             NaN                           NaN   \n",
       "1                             NaN                           NaN   \n",
       "2                             NaN                           NaN   \n",
       "3                             NaN                           NaN   \n",
       "4                             NaN                           NaN   \n",
       "...                           ...                           ...   \n",
       "6053                      1.01444                       1.02030   \n",
       "6054                      1.01056                       1.01832   \n",
       "6055                      1.00648                       1.01525   \n",
       "6056                      1.00188                       1.01207   \n",
       "6057                      0.99772                       1.00839   \n",
       "\n",
       "      60_days_rolling_mean_pricing  120_days_rolling_mean_pricing  \n",
       "0                              NaN                            NaN  \n",
       "1                              NaN                            NaN  \n",
       "2                              NaN                            NaN  \n",
       "3                              NaN                            NaN  \n",
       "4                              NaN                            NaN  \n",
       "...                            ...                            ...  \n",
       "6053                      1.034628                       1.057292  \n",
       "6054                      1.033357                       1.056397  \n",
       "6055                      1.032047                       1.055562  \n",
       "6056                      1.030750                       1.054761  \n",
       "6057                      1.029547                       1.053992  \n",
       "\n",
       "[6058 rows x 7 columns]"
      ]
     },
     "execution_count": 13,
     "metadata": {},
     "output_type": "execute_result"
    }
   ],
   "source": [
    "eur_pricing_pd[\"5_days_rolling_mean_pricing\"] = eur_pricing_pd[\"previous_eur_pricing\"].rolling(5).mean()\n",
    "eur_pricing_pd[\"10_days_rolling_mean_pricing\"] = eur_pricing_pd[\"previous_eur_pricing\"].rolling(10).mean()\n",
    "eur_pricing_pd[\"60_days_rolling_mean_pricing\"] = eur_pricing_pd[\"previous_eur_pricing\"].rolling(60).mean()\n",
    "eur_pricing_pd[\"120_days_rolling_mean_pricing\"] = eur_pricing_pd[\"previous_eur_pricing\"].rolling(120).mean()\n",
    "eur_pricing_pd"
   ]
  },
  {
   "cell_type": "markdown",
   "id": "558b9186",
   "metadata": {},
   "source": [
    "I have calculated the rolling means using the previos eur pricing. If I use the EUR value for the current day, then the moving average is calculated including the 4 previous values and the current value (assuming we are using a 5-day window). I do not want to include our label, our reponse, in the predictors."
   ]
  },
  {
   "cell_type": "markdown",
   "id": "cd92d0d4",
   "metadata": {},
   "source": [
    "Quick check about the rolling mean calculation:"
   ]
  },
  {
   "cell_type": "code",
   "execution_count": 14,
   "id": "75c8d476",
   "metadata": {
    "scrolled": true
   },
   "outputs": [
    {
     "data": {
      "text/plain": [
       "0        NaN\n",
       "1        NaN\n",
       "2        NaN\n",
       "3        NaN\n",
       "4        NaN\n",
       "5    1.17226\n",
       "Name: 5_days_rolling_mean_pricing, dtype: float64"
      ]
     },
     "execution_count": 14,
     "metadata": {},
     "output_type": "execute_result"
    }
   ],
   "source": [
    "eur_pricing_pd[\"5_days_rolling_mean_pricing\"][0:6]"
   ]
  },
  {
   "cell_type": "code",
   "execution_count": 15,
   "id": "23c11387",
   "metadata": {},
   "outputs": [
    {
     "data": {
      "text/plain": [
       "0    1.1789\n",
       "1    1.1790\n",
       "2    1.1743\n",
       "3    1.1632\n",
       "4    1.1659\n",
       "5    1.1569\n",
       "Name: eur_usd_rate, dtype: float64"
      ]
     },
     "execution_count": 15,
     "metadata": {},
     "output_type": "execute_result"
    }
   ],
   "source": [
    "eur_pricing_pd[\"eur_usd_rate\"][0:6]"
   ]
  },
  {
   "cell_type": "code",
   "execution_count": 16,
   "id": "0b95294d",
   "metadata": {},
   "outputs": [
    {
     "data": {
      "text/plain": [
       "True"
      ]
     },
     "execution_count": 16,
     "metadata": {},
     "output_type": "execute_result"
    }
   ],
   "source": [
    "np.mean(eur_pricing_pd[\"eur_usd_rate\"][0:5]) == eur_pricing_pd[\"5_days_rolling_mean_pricing\"][5]"
   ]
  },
  {
   "cell_type": "markdown",
   "id": "c8a3ddef",
   "metadata": {},
   "source": [
    "Calculate now exponential moving averages avoiding again the current pricing. This approach gives more weight to current observations ([link](https://medium.com/codex/simple-moving-average-and-exponentially-weighted-moving-average-with-pandas-57d4a457d363)):"
   ]
  },
  {
   "cell_type": "code",
   "execution_count": 17,
   "id": "b5a65527",
   "metadata": {
    "scrolled": true
   },
   "outputs": [
    {
     "data": {
      "text/html": [
       "<div>\n",
       "<style scoped>\n",
       "    .dataframe tbody tr th:only-of-type {\n",
       "        vertical-align: middle;\n",
       "    }\n",
       "\n",
       "    .dataframe tbody tr th {\n",
       "        vertical-align: top;\n",
       "    }\n",
       "\n",
       "    .dataframe thead th {\n",
       "        text-align: right;\n",
       "    }\n",
       "</style>\n",
       "<table border=\"1\" class=\"dataframe\">\n",
       "  <thead>\n",
       "    <tr style=\"text-align: right;\">\n",
       "      <th></th>\n",
       "      <th>date</th>\n",
       "      <th>eur_usd_rate</th>\n",
       "      <th>previous_eur_pricing</th>\n",
       "      <th>5_days_rolling_mean_pricing</th>\n",
       "      <th>10_days_rolling_mean_pricing</th>\n",
       "      <th>60_days_rolling_mean_pricing</th>\n",
       "      <th>120_days_rolling_mean_pricing</th>\n",
       "      <th>5_days_exp_rolling_mean_pricing</th>\n",
       "      <th>10_days_exp_rolling_mean_pricing</th>\n",
       "      <th>60_days_exp_rolling_mean_pricing</th>\n",
       "      <th>120_days_exp_rolling_mean_pricing</th>\n",
       "    </tr>\n",
       "  </thead>\n",
       "  <tbody>\n",
       "    <tr>\n",
       "      <th>0</th>\n",
       "      <td>1999-01-04</td>\n",
       "      <td>1.1789</td>\n",
       "      <td>NaN</td>\n",
       "      <td>NaN</td>\n",
       "      <td>NaN</td>\n",
       "      <td>NaN</td>\n",
       "      <td>NaN</td>\n",
       "      <td>NaN</td>\n",
       "      <td>NaN</td>\n",
       "      <td>NaN</td>\n",
       "      <td>NaN</td>\n",
       "    </tr>\n",
       "    <tr>\n",
       "      <th>1</th>\n",
       "      <td>1999-01-05</td>\n",
       "      <td>1.1790</td>\n",
       "      <td>1.1789</td>\n",
       "      <td>NaN</td>\n",
       "      <td>NaN</td>\n",
       "      <td>NaN</td>\n",
       "      <td>NaN</td>\n",
       "      <td>1.178900</td>\n",
       "      <td>1.178900</td>\n",
       "      <td>1.178900</td>\n",
       "      <td>1.178900</td>\n",
       "    </tr>\n",
       "    <tr>\n",
       "      <th>2</th>\n",
       "      <td>1999-01-06</td>\n",
       "      <td>1.1743</td>\n",
       "      <td>1.1790</td>\n",
       "      <td>NaN</td>\n",
       "      <td>NaN</td>\n",
       "      <td>NaN</td>\n",
       "      <td>NaN</td>\n",
       "      <td>1.178933</td>\n",
       "      <td>1.178918</td>\n",
       "      <td>1.178903</td>\n",
       "      <td>1.178902</td>\n",
       "    </tr>\n",
       "    <tr>\n",
       "      <th>3</th>\n",
       "      <td>1999-01-07</td>\n",
       "      <td>1.1632</td>\n",
       "      <td>1.1743</td>\n",
       "      <td>NaN</td>\n",
       "      <td>NaN</td>\n",
       "      <td>NaN</td>\n",
       "      <td>NaN</td>\n",
       "      <td>1.177389</td>\n",
       "      <td>1.178079</td>\n",
       "      <td>1.178752</td>\n",
       "      <td>1.178826</td>\n",
       "    </tr>\n",
       "    <tr>\n",
       "      <th>4</th>\n",
       "      <td>1999-01-08</td>\n",
       "      <td>1.1659</td>\n",
       "      <td>1.1632</td>\n",
       "      <td>NaN</td>\n",
       "      <td>NaN</td>\n",
       "      <td>NaN</td>\n",
       "      <td>NaN</td>\n",
       "      <td>1.172659</td>\n",
       "      <td>1.175373</td>\n",
       "      <td>1.178242</td>\n",
       "      <td>1.178567</td>\n",
       "    </tr>\n",
       "    <tr>\n",
       "      <th>...</th>\n",
       "      <td>...</td>\n",
       "      <td>...</td>\n",
       "      <td>...</td>\n",
       "      <td>...</td>\n",
       "      <td>...</td>\n",
       "      <td>...</td>\n",
       "      <td>...</td>\n",
       "      <td>...</td>\n",
       "      <td>...</td>\n",
       "      <td>...</td>\n",
       "      <td>...</td>\n",
       "    </tr>\n",
       "    <tr>\n",
       "      <th>6053</th>\n",
       "      <td>2022-08-22</td>\n",
       "      <td>1.0001</td>\n",
       "      <td>1.0054</td>\n",
       "      <td>1.01444</td>\n",
       "      <td>1.02030</td>\n",
       "      <td>1.034628</td>\n",
       "      <td>1.057292</td>\n",
       "      <td>1.014329</td>\n",
       "      <td>1.017477</td>\n",
       "      <td>1.033201</td>\n",
       "      <td>1.055635</td>\n",
       "    </tr>\n",
       "    <tr>\n",
       "      <th>6054</th>\n",
       "      <td>2022-08-23</td>\n",
       "      <td>0.9927</td>\n",
       "      <td>1.0001</td>\n",
       "      <td>1.01056</td>\n",
       "      <td>1.01832</td>\n",
       "      <td>1.033357</td>\n",
       "      <td>1.056397</td>\n",
       "      <td>1.009586</td>\n",
       "      <td>1.014317</td>\n",
       "      <td>1.032116</td>\n",
       "      <td>1.054717</td>\n",
       "    </tr>\n",
       "    <tr>\n",
       "      <th>6055</th>\n",
       "      <td>2022-08-24</td>\n",
       "      <td>0.9934</td>\n",
       "      <td>0.9927</td>\n",
       "      <td>1.00648</td>\n",
       "      <td>1.01525</td>\n",
       "      <td>1.032047</td>\n",
       "      <td>1.055562</td>\n",
       "      <td>1.003957</td>\n",
       "      <td>1.010387</td>\n",
       "      <td>1.030824</td>\n",
       "      <td>1.053692</td>\n",
       "    </tr>\n",
       "    <tr>\n",
       "      <th>6056</th>\n",
       "      <td>2022-08-25</td>\n",
       "      <td>0.9970</td>\n",
       "      <td>0.9934</td>\n",
       "      <td>1.00188</td>\n",
       "      <td>1.01207</td>\n",
       "      <td>1.030750</td>\n",
       "      <td>1.054761</td>\n",
       "      <td>1.000438</td>\n",
       "      <td>1.007298</td>\n",
       "      <td>1.029597</td>\n",
       "      <td>1.052696</td>\n",
       "    </tr>\n",
       "    <tr>\n",
       "      <th>6057</th>\n",
       "      <td>2022-08-26</td>\n",
       "      <td>1.0007</td>\n",
       "      <td>0.9970</td>\n",
       "      <td>0.99772</td>\n",
       "      <td>1.00839</td>\n",
       "      <td>1.029547</td>\n",
       "      <td>1.053992</td>\n",
       "      <td>0.999292</td>\n",
       "      <td>1.005426</td>\n",
       "      <td>1.028528</td>\n",
       "      <td>1.051775</td>\n",
       "    </tr>\n",
       "  </tbody>\n",
       "</table>\n",
       "<p>6058 rows × 11 columns</p>\n",
       "</div>"
      ],
      "text/plain": [
       "           date  eur_usd_rate  previous_eur_pricing  \\\n",
       "0    1999-01-04        1.1789                   NaN   \n",
       "1    1999-01-05        1.1790                1.1789   \n",
       "2    1999-01-06        1.1743                1.1790   \n",
       "3    1999-01-07        1.1632                1.1743   \n",
       "4    1999-01-08        1.1659                1.1632   \n",
       "...         ...           ...                   ...   \n",
       "6053 2022-08-22        1.0001                1.0054   \n",
       "6054 2022-08-23        0.9927                1.0001   \n",
       "6055 2022-08-24        0.9934                0.9927   \n",
       "6056 2022-08-25        0.9970                0.9934   \n",
       "6057 2022-08-26        1.0007                0.9970   \n",
       "\n",
       "      5_days_rolling_mean_pricing  10_days_rolling_mean_pricing  \\\n",
       "0                             NaN                           NaN   \n",
       "1                             NaN                           NaN   \n",
       "2                             NaN                           NaN   \n",
       "3                             NaN                           NaN   \n",
       "4                             NaN                           NaN   \n",
       "...                           ...                           ...   \n",
       "6053                      1.01444                       1.02030   \n",
       "6054                      1.01056                       1.01832   \n",
       "6055                      1.00648                       1.01525   \n",
       "6056                      1.00188                       1.01207   \n",
       "6057                      0.99772                       1.00839   \n",
       "\n",
       "      60_days_rolling_mean_pricing  120_days_rolling_mean_pricing  \\\n",
       "0                              NaN                            NaN   \n",
       "1                              NaN                            NaN   \n",
       "2                              NaN                            NaN   \n",
       "3                              NaN                            NaN   \n",
       "4                              NaN                            NaN   \n",
       "...                            ...                            ...   \n",
       "6053                      1.034628                       1.057292   \n",
       "6054                      1.033357                       1.056397   \n",
       "6055                      1.032047                       1.055562   \n",
       "6056                      1.030750                       1.054761   \n",
       "6057                      1.029547                       1.053992   \n",
       "\n",
       "      5_days_exp_rolling_mean_pricing  10_days_exp_rolling_mean_pricing  \\\n",
       "0                                 NaN                               NaN   \n",
       "1                            1.178900                          1.178900   \n",
       "2                            1.178933                          1.178918   \n",
       "3                            1.177389                          1.178079   \n",
       "4                            1.172659                          1.175373   \n",
       "...                               ...                               ...   \n",
       "6053                         1.014329                          1.017477   \n",
       "6054                         1.009586                          1.014317   \n",
       "6055                         1.003957                          1.010387   \n",
       "6056                         1.000438                          1.007298   \n",
       "6057                         0.999292                          1.005426   \n",
       "\n",
       "      60_days_exp_rolling_mean_pricing  120_days_exp_rolling_mean_pricing  \n",
       "0                                  NaN                                NaN  \n",
       "1                             1.178900                           1.178900  \n",
       "2                             1.178903                           1.178902  \n",
       "3                             1.178752                           1.178826  \n",
       "4                             1.178242                           1.178567  \n",
       "...                                ...                                ...  \n",
       "6053                          1.033201                           1.055635  \n",
       "6054                          1.032116                           1.054717  \n",
       "6055                          1.030824                           1.053692  \n",
       "6056                          1.029597                           1.052696  \n",
       "6057                          1.028528                           1.051775  \n",
       "\n",
       "[6058 rows x 11 columns]"
      ]
     },
     "execution_count": 17,
     "metadata": {},
     "output_type": "execute_result"
    }
   ],
   "source": [
    "eur_pricing_pd[\"5_days_exp_rolling_mean_pricing\"] = eur_pricing_pd[\"previous_eur_pricing\"].ewm(span=5, adjust=False).mean()\n",
    "eur_pricing_pd[\"10_days_exp_rolling_mean_pricing\"] = eur_pricing_pd[\"previous_eur_pricing\"].ewm(span=10, adjust=False).mean()\n",
    "eur_pricing_pd[\"60_days_exp_rolling_mean_pricing\"] = eur_pricing_pd[\"previous_eur_pricing\"].ewm(span=60, adjust=False).mean()\n",
    "eur_pricing_pd[\"120_days_exp_rolling_mean_pricing\"] = eur_pricing_pd[\"previous_eur_pricing\"].ewm(span=120, adjust=False).mean()\n",
    "    #https://www.statology.org/exponential-moving-average-pandas/\n",
    "eur_pricing_pd"
   ]
  },
  {
   "cell_type": "markdown",
   "id": "82f3fa42",
   "metadata": {},
   "source": [
    "## Remove NaNs"
   ]
  },
  {
   "cell_type": "markdown",
   "id": "315cc5ab",
   "metadata": {},
   "source": [
    "See NaNs per variable:"
   ]
  },
  {
   "cell_type": "code",
   "execution_count": 18,
   "id": "f152ff0a",
   "metadata": {
    "scrolled": false
   },
   "outputs": [
    {
     "name": "stdout",
     "output_type": "stream",
     "text": [
      "date                                   0\n",
      "eur_usd_rate                           0\n",
      "previous_eur_pricing                   1\n",
      "5_days_rolling_mean_pricing            5\n",
      "10_days_rolling_mean_pricing          10\n",
      "60_days_rolling_mean_pricing          60\n",
      "120_days_rolling_mean_pricing        120\n",
      "5_days_exp_rolling_mean_pricing        1\n",
      "10_days_exp_rolling_mean_pricing       1\n",
      "60_days_exp_rolling_mean_pricing       1\n",
      "120_days_exp_rolling_mean_pricing      1\n",
      "dtype: int64\n"
     ]
    }
   ],
   "source": [
    "print(eur_pricing_pd.isnull().sum())\n",
    "    #as expected, 120 NaN for 120 rolling mean as it cannot be calculated for the frist 120 days\n",
    "    #exponential average should have only 1 Na for the first day without previous pricing data\n",
    "    #for the rest it should have data, si you use span 5 for example, the first row has still value\n",
    "    #being exactly the same value, because no other row is considered so no average is calculated.\n",
    "        #see example in documentation of ewm for further details\n",
    "    #not a problem because this data starts at 1999 and we do not have twitter data until 2008"
   ]
  },
  {
   "cell_type": "markdown",
   "id": "f9f47312",
   "metadata": {},
   "source": [
    "Remove these cases without data that do not have twitter data anyways:"
   ]
  },
  {
   "cell_type": "code",
   "execution_count": 19,
   "id": "4eda3d49",
   "metadata": {},
   "outputs": [
    {
     "data": {
      "text/html": [
       "<div>\n",
       "<style scoped>\n",
       "    .dataframe tbody tr th:only-of-type {\n",
       "        vertical-align: middle;\n",
       "    }\n",
       "\n",
       "    .dataframe tbody tr th {\n",
       "        vertical-align: top;\n",
       "    }\n",
       "\n",
       "    .dataframe thead th {\n",
       "        text-align: right;\n",
       "    }\n",
       "</style>\n",
       "<table border=\"1\" class=\"dataframe\">\n",
       "  <thead>\n",
       "    <tr style=\"text-align: right;\">\n",
       "      <th></th>\n",
       "      <th>date</th>\n",
       "      <th>eur_usd_rate</th>\n",
       "      <th>previous_eur_pricing</th>\n",
       "      <th>5_days_rolling_mean_pricing</th>\n",
       "      <th>10_days_rolling_mean_pricing</th>\n",
       "      <th>60_days_rolling_mean_pricing</th>\n",
       "      <th>120_days_rolling_mean_pricing</th>\n",
       "      <th>5_days_exp_rolling_mean_pricing</th>\n",
       "      <th>10_days_exp_rolling_mean_pricing</th>\n",
       "      <th>60_days_exp_rolling_mean_pricing</th>\n",
       "      <th>120_days_exp_rolling_mean_pricing</th>\n",
       "    </tr>\n",
       "  </thead>\n",
       "  <tbody>\n",
       "    <tr>\n",
       "      <th>120</th>\n",
       "      <td>1999-06-21</td>\n",
       "      <td>1.0339</td>\n",
       "      <td>1.0388</td>\n",
       "      <td>1.03804</td>\n",
       "      <td>1.04017</td>\n",
       "      <td>1.060603</td>\n",
       "      <td>1.092362</td>\n",
       "      <td>1.038175</td>\n",
       "      <td>1.040002</td>\n",
       "      <td>1.062343</td>\n",
       "      <td>1.087234</td>\n",
       "    </tr>\n",
       "    <tr>\n",
       "      <th>121</th>\n",
       "      <td>1999-06-22</td>\n",
       "      <td>1.0313</td>\n",
       "      <td>1.0339</td>\n",
       "      <td>1.03608</td>\n",
       "      <td>1.04040</td>\n",
       "      <td>1.060015</td>\n",
       "      <td>1.091153</td>\n",
       "      <td>1.036750</td>\n",
       "      <td>1.038892</td>\n",
       "      <td>1.061410</td>\n",
       "      <td>1.086353</td>\n",
       "    </tr>\n",
       "    <tr>\n",
       "      <th>122</th>\n",
       "      <td>1999-06-23</td>\n",
       "      <td>1.0280</td>\n",
       "      <td>1.0313</td>\n",
       "      <td>1.03450</td>\n",
       "      <td>1.03968</td>\n",
       "      <td>1.059352</td>\n",
       "      <td>1.089922</td>\n",
       "      <td>1.034933</td>\n",
       "      <td>1.037512</td>\n",
       "      <td>1.060423</td>\n",
       "      <td>1.085443</td>\n",
       "    </tr>\n",
       "    <tr>\n",
       "      <th>123</th>\n",
       "      <td>1999-06-24</td>\n",
       "      <td>1.0321</td>\n",
       "      <td>1.0280</td>\n",
       "      <td>1.03320</td>\n",
       "      <td>1.03782</td>\n",
       "      <td>1.058582</td>\n",
       "      <td>1.088703</td>\n",
       "      <td>1.032622</td>\n",
       "      <td>1.035782</td>\n",
       "      <td>1.059360</td>\n",
       "      <td>1.084493</td>\n",
       "    </tr>\n",
       "    <tr>\n",
       "      <th>124</th>\n",
       "      <td>1999-06-25</td>\n",
       "      <td>1.0443</td>\n",
       "      <td>1.0321</td>\n",
       "      <td>1.03282</td>\n",
       "      <td>1.03629</td>\n",
       "      <td>1.057830</td>\n",
       "      <td>1.087611</td>\n",
       "      <td>1.032448</td>\n",
       "      <td>1.035113</td>\n",
       "      <td>1.058466</td>\n",
       "      <td>1.083627</td>\n",
       "    </tr>\n",
       "    <tr>\n",
       "      <th>...</th>\n",
       "      <td>...</td>\n",
       "      <td>...</td>\n",
       "      <td>...</td>\n",
       "      <td>...</td>\n",
       "      <td>...</td>\n",
       "      <td>...</td>\n",
       "      <td>...</td>\n",
       "      <td>...</td>\n",
       "      <td>...</td>\n",
       "      <td>...</td>\n",
       "      <td>...</td>\n",
       "    </tr>\n",
       "    <tr>\n",
       "      <th>6053</th>\n",
       "      <td>2022-08-22</td>\n",
       "      <td>1.0001</td>\n",
       "      <td>1.0054</td>\n",
       "      <td>1.01444</td>\n",
       "      <td>1.02030</td>\n",
       "      <td>1.034628</td>\n",
       "      <td>1.057292</td>\n",
       "      <td>1.014329</td>\n",
       "      <td>1.017477</td>\n",
       "      <td>1.033201</td>\n",
       "      <td>1.055635</td>\n",
       "    </tr>\n",
       "    <tr>\n",
       "      <th>6054</th>\n",
       "      <td>2022-08-23</td>\n",
       "      <td>0.9927</td>\n",
       "      <td>1.0001</td>\n",
       "      <td>1.01056</td>\n",
       "      <td>1.01832</td>\n",
       "      <td>1.033357</td>\n",
       "      <td>1.056397</td>\n",
       "      <td>1.009586</td>\n",
       "      <td>1.014317</td>\n",
       "      <td>1.032116</td>\n",
       "      <td>1.054717</td>\n",
       "    </tr>\n",
       "    <tr>\n",
       "      <th>6055</th>\n",
       "      <td>2022-08-24</td>\n",
       "      <td>0.9934</td>\n",
       "      <td>0.9927</td>\n",
       "      <td>1.00648</td>\n",
       "      <td>1.01525</td>\n",
       "      <td>1.032047</td>\n",
       "      <td>1.055562</td>\n",
       "      <td>1.003957</td>\n",
       "      <td>1.010387</td>\n",
       "      <td>1.030824</td>\n",
       "      <td>1.053692</td>\n",
       "    </tr>\n",
       "    <tr>\n",
       "      <th>6056</th>\n",
       "      <td>2022-08-25</td>\n",
       "      <td>0.9970</td>\n",
       "      <td>0.9934</td>\n",
       "      <td>1.00188</td>\n",
       "      <td>1.01207</td>\n",
       "      <td>1.030750</td>\n",
       "      <td>1.054761</td>\n",
       "      <td>1.000438</td>\n",
       "      <td>1.007298</td>\n",
       "      <td>1.029597</td>\n",
       "      <td>1.052696</td>\n",
       "    </tr>\n",
       "    <tr>\n",
       "      <th>6057</th>\n",
       "      <td>2022-08-26</td>\n",
       "      <td>1.0007</td>\n",
       "      <td>0.9970</td>\n",
       "      <td>0.99772</td>\n",
       "      <td>1.00839</td>\n",
       "      <td>1.029547</td>\n",
       "      <td>1.053992</td>\n",
       "      <td>0.999292</td>\n",
       "      <td>1.005426</td>\n",
       "      <td>1.028528</td>\n",
       "      <td>1.051775</td>\n",
       "    </tr>\n",
       "  </tbody>\n",
       "</table>\n",
       "<p>5938 rows × 11 columns</p>\n",
       "</div>"
      ],
      "text/plain": [
       "           date  eur_usd_rate  previous_eur_pricing  \\\n",
       "120  1999-06-21        1.0339                1.0388   \n",
       "121  1999-06-22        1.0313                1.0339   \n",
       "122  1999-06-23        1.0280                1.0313   \n",
       "123  1999-06-24        1.0321                1.0280   \n",
       "124  1999-06-25        1.0443                1.0321   \n",
       "...         ...           ...                   ...   \n",
       "6053 2022-08-22        1.0001                1.0054   \n",
       "6054 2022-08-23        0.9927                1.0001   \n",
       "6055 2022-08-24        0.9934                0.9927   \n",
       "6056 2022-08-25        0.9970                0.9934   \n",
       "6057 2022-08-26        1.0007                0.9970   \n",
       "\n",
       "      5_days_rolling_mean_pricing  10_days_rolling_mean_pricing  \\\n",
       "120                       1.03804                       1.04017   \n",
       "121                       1.03608                       1.04040   \n",
       "122                       1.03450                       1.03968   \n",
       "123                       1.03320                       1.03782   \n",
       "124                       1.03282                       1.03629   \n",
       "...                           ...                           ...   \n",
       "6053                      1.01444                       1.02030   \n",
       "6054                      1.01056                       1.01832   \n",
       "6055                      1.00648                       1.01525   \n",
       "6056                      1.00188                       1.01207   \n",
       "6057                      0.99772                       1.00839   \n",
       "\n",
       "      60_days_rolling_mean_pricing  120_days_rolling_mean_pricing  \\\n",
       "120                       1.060603                       1.092362   \n",
       "121                       1.060015                       1.091153   \n",
       "122                       1.059352                       1.089922   \n",
       "123                       1.058582                       1.088703   \n",
       "124                       1.057830                       1.087611   \n",
       "...                            ...                            ...   \n",
       "6053                      1.034628                       1.057292   \n",
       "6054                      1.033357                       1.056397   \n",
       "6055                      1.032047                       1.055562   \n",
       "6056                      1.030750                       1.054761   \n",
       "6057                      1.029547                       1.053992   \n",
       "\n",
       "      5_days_exp_rolling_mean_pricing  10_days_exp_rolling_mean_pricing  \\\n",
       "120                          1.038175                          1.040002   \n",
       "121                          1.036750                          1.038892   \n",
       "122                          1.034933                          1.037512   \n",
       "123                          1.032622                          1.035782   \n",
       "124                          1.032448                          1.035113   \n",
       "...                               ...                               ...   \n",
       "6053                         1.014329                          1.017477   \n",
       "6054                         1.009586                          1.014317   \n",
       "6055                         1.003957                          1.010387   \n",
       "6056                         1.000438                          1.007298   \n",
       "6057                         0.999292                          1.005426   \n",
       "\n",
       "      60_days_exp_rolling_mean_pricing  120_days_exp_rolling_mean_pricing  \n",
       "120                           1.062343                           1.087234  \n",
       "121                           1.061410                           1.086353  \n",
       "122                           1.060423                           1.085443  \n",
       "123                           1.059360                           1.084493  \n",
       "124                           1.058466                           1.083627  \n",
       "...                                ...                                ...  \n",
       "6053                          1.033201                           1.055635  \n",
       "6054                          1.032116                           1.054717  \n",
       "6055                          1.030824                           1.053692  \n",
       "6056                          1.029597                           1.052696  \n",
       "6057                          1.028528                           1.051775  \n",
       "\n",
       "[5938 rows x 11 columns]"
      ]
     },
     "execution_count": 19,
     "metadata": {},
     "output_type": "execute_result"
    }
   ],
   "source": [
    "eur_pricing_pd = eur_pricing_pd.dropna()\n",
    "eur_pricing_pd"
   ]
  },
  {
   "cell_type": "markdown",
   "id": "3614feaa",
   "metadata": {},
   "source": [
    "Finally, save the resulting pandas df:"
   ]
  },
  {
   "cell_type": "code",
   "execution_count": 20,
   "id": "00b91fc3",
   "metadata": {},
   "outputs": [],
   "source": [
    "eur_pricing_pd.to_csv(\"results/eur_pricing_data.csv.gz\", compression=\"gzip\", index=False)\n",
    "#eur_pricing_pd = pd.read_csv(\"results/eur_pricing_data.csv.gz\", compression=\"gzip\")"
   ]
  }
 ],
 "metadata": {
  "kernelspec": {
   "display_name": "Python 3",
   "language": "python",
   "name": "python3"
  },
  "language_info": {
   "codemirror_mode": {
    "name": "ipython",
    "version": 3
   },
   "file_extension": ".py",
   "mimetype": "text/x-python",
   "name": "python",
   "nbconvert_exporter": "python",
   "pygments_lexer": "ipython3",
   "version": "3.6.9"
  }
 },
 "nbformat": 4,
 "nbformat_minor": 5
}
