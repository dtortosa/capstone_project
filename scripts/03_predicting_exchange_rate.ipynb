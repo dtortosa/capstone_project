{
 "cells": [
  {
   "cell_type": "markdown",
   "id": "e7479fb0",
   "metadata": {},
   "source": [
    "# Predicting EUR/USD exchange rate"
   ]
  },
  {
   "cell_type": "markdown",
   "id": "7e2777af",
   "metadata": {},
   "source": [
    "This notebook model predicts EUR/USD exchange rate using the pervious EUR pricing and sentiment around EUR and USD obtained from Twitter."
   ]
  },
  {
   "cell_type": "markdown",
   "id": "970fd653",
   "metadata": {},
   "source": [
    "## Loading the data"
   ]
  },
  {
   "cell_type": "markdown",
   "id": "3a85fbcf",
   "metadata": {},
   "source": [
    "Set the working directory and load eur pricing along with Twitter sentiment about Euro and US dollar."
   ]
  },
  {
   "cell_type": "code",
   "execution_count": 1,
   "id": "5bae0d24",
   "metadata": {
    "scrolled": true
   },
   "outputs": [
    {
     "data": {
      "text/plain": [
       "'/media/dftortosa/Windows/Users/dftor/Documents/diego_docs/industry/data_incubator/capstone_project'"
      ]
     },
     "execution_count": 1,
     "metadata": {},
     "output_type": "execute_result"
    }
   ],
   "source": [
    "import os\n",
    "\n",
    "os.chdir(\"/media/dftortosa/Windows/Users/dftor/Documents/diego_docs/industry/data_incubator/capstone_project/\")\n",
    "os.getcwd()"
   ]
  },
  {
   "cell_type": "code",
   "execution_count": 2,
   "id": "96d90e2f",
   "metadata": {
    "scrolled": true
   },
   "outputs": [
    {
     "data": {
      "text/html": [
       "<div>\n",
       "<style scoped>\n",
       "    .dataframe tbody tr th:only-of-type {\n",
       "        vertical-align: middle;\n",
       "    }\n",
       "\n",
       "    .dataframe tbody tr th {\n",
       "        vertical-align: top;\n",
       "    }\n",
       "\n",
       "    .dataframe thead th {\n",
       "        text-align: right;\n",
       "    }\n",
       "</style>\n",
       "<table border=\"1\" class=\"dataframe\">\n",
       "  <thead>\n",
       "    <tr style=\"text-align: right;\">\n",
       "      <th></th>\n",
       "      <th>date</th>\n",
       "      <th>eur_usd_rate</th>\n",
       "      <th>previous_eur_pricing</th>\n",
       "      <th>5_days_rolling_mean_pricing</th>\n",
       "      <th>10_days_rolling_mean_pricing</th>\n",
       "      <th>60_days_rolling_mean_pricing</th>\n",
       "      <th>120_days_rolling_mean_pricing</th>\n",
       "      <th>5_days_exp_rolling_mean_pricing</th>\n",
       "      <th>10_days_exp_rolling_mean_pricing</th>\n",
       "      <th>60_days_exp_rolling_mean_pricing</th>\n",
       "      <th>120_days_exp_rolling_mean_pricing</th>\n",
       "    </tr>\n",
       "  </thead>\n",
       "  <tbody>\n",
       "    <tr>\n",
       "      <th>0</th>\n",
       "      <td>1999-06-21</td>\n",
       "      <td>1.0339</td>\n",
       "      <td>1.0388</td>\n",
       "      <td>1.03804</td>\n",
       "      <td>1.04017</td>\n",
       "      <td>1.060603</td>\n",
       "      <td>1.092362</td>\n",
       "      <td>1.038175</td>\n",
       "      <td>1.040002</td>\n",
       "      <td>1.062343</td>\n",
       "      <td>1.087234</td>\n",
       "    </tr>\n",
       "    <tr>\n",
       "      <th>1</th>\n",
       "      <td>1999-06-22</td>\n",
       "      <td>1.0313</td>\n",
       "      <td>1.0339</td>\n",
       "      <td>1.03608</td>\n",
       "      <td>1.04040</td>\n",
       "      <td>1.060015</td>\n",
       "      <td>1.091153</td>\n",
       "      <td>1.036750</td>\n",
       "      <td>1.038892</td>\n",
       "      <td>1.061410</td>\n",
       "      <td>1.086353</td>\n",
       "    </tr>\n",
       "    <tr>\n",
       "      <th>2</th>\n",
       "      <td>1999-06-23</td>\n",
       "      <td>1.0280</td>\n",
       "      <td>1.0313</td>\n",
       "      <td>1.03450</td>\n",
       "      <td>1.03968</td>\n",
       "      <td>1.059352</td>\n",
       "      <td>1.089922</td>\n",
       "      <td>1.034933</td>\n",
       "      <td>1.037512</td>\n",
       "      <td>1.060423</td>\n",
       "      <td>1.085443</td>\n",
       "    </tr>\n",
       "    <tr>\n",
       "      <th>3</th>\n",
       "      <td>1999-06-24</td>\n",
       "      <td>1.0321</td>\n",
       "      <td>1.0280</td>\n",
       "      <td>1.03320</td>\n",
       "      <td>1.03782</td>\n",
       "      <td>1.058582</td>\n",
       "      <td>1.088703</td>\n",
       "      <td>1.032622</td>\n",
       "      <td>1.035782</td>\n",
       "      <td>1.059360</td>\n",
       "      <td>1.084493</td>\n",
       "    </tr>\n",
       "    <tr>\n",
       "      <th>4</th>\n",
       "      <td>1999-06-25</td>\n",
       "      <td>1.0443</td>\n",
       "      <td>1.0321</td>\n",
       "      <td>1.03282</td>\n",
       "      <td>1.03629</td>\n",
       "      <td>1.057830</td>\n",
       "      <td>1.087611</td>\n",
       "      <td>1.032448</td>\n",
       "      <td>1.035113</td>\n",
       "      <td>1.058466</td>\n",
       "      <td>1.083627</td>\n",
       "    </tr>\n",
       "    <tr>\n",
       "      <th>...</th>\n",
       "      <td>...</td>\n",
       "      <td>...</td>\n",
       "      <td>...</td>\n",
       "      <td>...</td>\n",
       "      <td>...</td>\n",
       "      <td>...</td>\n",
       "      <td>...</td>\n",
       "      <td>...</td>\n",
       "      <td>...</td>\n",
       "      <td>...</td>\n",
       "      <td>...</td>\n",
       "    </tr>\n",
       "    <tr>\n",
       "      <th>5933</th>\n",
       "      <td>2022-08-22</td>\n",
       "      <td>1.0001</td>\n",
       "      <td>1.0054</td>\n",
       "      <td>1.01444</td>\n",
       "      <td>1.02030</td>\n",
       "      <td>1.034628</td>\n",
       "      <td>1.057292</td>\n",
       "      <td>1.014329</td>\n",
       "      <td>1.017477</td>\n",
       "      <td>1.033201</td>\n",
       "      <td>1.055635</td>\n",
       "    </tr>\n",
       "    <tr>\n",
       "      <th>5934</th>\n",
       "      <td>2022-08-23</td>\n",
       "      <td>0.9927</td>\n",
       "      <td>1.0001</td>\n",
       "      <td>1.01056</td>\n",
       "      <td>1.01832</td>\n",
       "      <td>1.033357</td>\n",
       "      <td>1.056397</td>\n",
       "      <td>1.009586</td>\n",
       "      <td>1.014317</td>\n",
       "      <td>1.032116</td>\n",
       "      <td>1.054717</td>\n",
       "    </tr>\n",
       "    <tr>\n",
       "      <th>5935</th>\n",
       "      <td>2022-08-24</td>\n",
       "      <td>0.9934</td>\n",
       "      <td>0.9927</td>\n",
       "      <td>1.00648</td>\n",
       "      <td>1.01525</td>\n",
       "      <td>1.032047</td>\n",
       "      <td>1.055562</td>\n",
       "      <td>1.003957</td>\n",
       "      <td>1.010387</td>\n",
       "      <td>1.030824</td>\n",
       "      <td>1.053692</td>\n",
       "    </tr>\n",
       "    <tr>\n",
       "      <th>5936</th>\n",
       "      <td>2022-08-25</td>\n",
       "      <td>0.9970</td>\n",
       "      <td>0.9934</td>\n",
       "      <td>1.00188</td>\n",
       "      <td>1.01207</td>\n",
       "      <td>1.030750</td>\n",
       "      <td>1.054761</td>\n",
       "      <td>1.000438</td>\n",
       "      <td>1.007298</td>\n",
       "      <td>1.029597</td>\n",
       "      <td>1.052696</td>\n",
       "    </tr>\n",
       "    <tr>\n",
       "      <th>5937</th>\n",
       "      <td>2022-08-26</td>\n",
       "      <td>1.0007</td>\n",
       "      <td>0.9970</td>\n",
       "      <td>0.99772</td>\n",
       "      <td>1.00839</td>\n",
       "      <td>1.029547</td>\n",
       "      <td>1.053992</td>\n",
       "      <td>0.999292</td>\n",
       "      <td>1.005426</td>\n",
       "      <td>1.028528</td>\n",
       "      <td>1.051775</td>\n",
       "    </tr>\n",
       "  </tbody>\n",
       "</table>\n",
       "<p>5938 rows × 11 columns</p>\n",
       "</div>"
      ],
      "text/plain": [
       "            date  eur_usd_rate  previous_eur_pricing  \\\n",
       "0     1999-06-21        1.0339                1.0388   \n",
       "1     1999-06-22        1.0313                1.0339   \n",
       "2     1999-06-23        1.0280                1.0313   \n",
       "3     1999-06-24        1.0321                1.0280   \n",
       "4     1999-06-25        1.0443                1.0321   \n",
       "...          ...           ...                   ...   \n",
       "5933  2022-08-22        1.0001                1.0054   \n",
       "5934  2022-08-23        0.9927                1.0001   \n",
       "5935  2022-08-24        0.9934                0.9927   \n",
       "5936  2022-08-25        0.9970                0.9934   \n",
       "5937  2022-08-26        1.0007                0.9970   \n",
       "\n",
       "      5_days_rolling_mean_pricing  10_days_rolling_mean_pricing  \\\n",
       "0                         1.03804                       1.04017   \n",
       "1                         1.03608                       1.04040   \n",
       "2                         1.03450                       1.03968   \n",
       "3                         1.03320                       1.03782   \n",
       "4                         1.03282                       1.03629   \n",
       "...                           ...                           ...   \n",
       "5933                      1.01444                       1.02030   \n",
       "5934                      1.01056                       1.01832   \n",
       "5935                      1.00648                       1.01525   \n",
       "5936                      1.00188                       1.01207   \n",
       "5937                      0.99772                       1.00839   \n",
       "\n",
       "      60_days_rolling_mean_pricing  120_days_rolling_mean_pricing  \\\n",
       "0                         1.060603                       1.092362   \n",
       "1                         1.060015                       1.091153   \n",
       "2                         1.059352                       1.089922   \n",
       "3                         1.058582                       1.088703   \n",
       "4                         1.057830                       1.087611   \n",
       "...                            ...                            ...   \n",
       "5933                      1.034628                       1.057292   \n",
       "5934                      1.033357                       1.056397   \n",
       "5935                      1.032047                       1.055562   \n",
       "5936                      1.030750                       1.054761   \n",
       "5937                      1.029547                       1.053992   \n",
       "\n",
       "      5_days_exp_rolling_mean_pricing  10_days_exp_rolling_mean_pricing  \\\n",
       "0                            1.038175                          1.040002   \n",
       "1                            1.036750                          1.038892   \n",
       "2                            1.034933                          1.037512   \n",
       "3                            1.032622                          1.035782   \n",
       "4                            1.032448                          1.035113   \n",
       "...                               ...                               ...   \n",
       "5933                         1.014329                          1.017477   \n",
       "5934                         1.009586                          1.014317   \n",
       "5935                         1.003957                          1.010387   \n",
       "5936                         1.000438                          1.007298   \n",
       "5937                         0.999292                          1.005426   \n",
       "\n",
       "      60_days_exp_rolling_mean_pricing  120_days_exp_rolling_mean_pricing  \n",
       "0                             1.062343                           1.087234  \n",
       "1                             1.061410                           1.086353  \n",
       "2                             1.060423                           1.085443  \n",
       "3                             1.059360                           1.084493  \n",
       "4                             1.058466                           1.083627  \n",
       "...                                ...                                ...  \n",
       "5933                          1.033201                           1.055635  \n",
       "5934                          1.032116                           1.054717  \n",
       "5935                          1.030824                           1.053692  \n",
       "5936                          1.029597                           1.052696  \n",
       "5937                          1.028528                           1.051775  \n",
       "\n",
       "[5938 rows x 11 columns]"
      ]
     },
     "execution_count": 2,
     "metadata": {},
     "output_type": "execute_result"
    }
   ],
   "source": [
    "import pandas as pd\n",
    "import numpy as np\n",
    "\n",
    "eur_pricing = pd.read_csv(\"results/eur_pricing_data.csv.gz\", compression=\"gzip\")\n",
    "eur_pricing"
   ]
  },
  {
   "cell_type": "code",
   "execution_count": 3,
   "id": "b95ea3a3",
   "metadata": {
    "scrolled": true
   },
   "outputs": [
    {
     "data": {
      "text/html": [
       "<div>\n",
       "<style scoped>\n",
       "    .dataframe tbody tr th:only-of-type {\n",
       "        vertical-align: middle;\n",
       "    }\n",
       "\n",
       "    .dataframe tbody tr th {\n",
       "        vertical-align: top;\n",
       "    }\n",
       "\n",
       "    .dataframe thead th {\n",
       "        text-align: right;\n",
       "    }\n",
       "</style>\n",
       "<table border=\"1\" class=\"dataframe\">\n",
       "  <thead>\n",
       "    <tr style=\"text-align: right;\">\n",
       "      <th></th>\n",
       "      <th>date</th>\n",
       "      <th>quantile_0.05_sent_eur_previous_1_days</th>\n",
       "      <th>quantile_0.1_sent_eur_previous_1_days</th>\n",
       "      <th>quantile_0.2_sent_eur_previous_1_days</th>\n",
       "      <th>quantile_0.3_sent_eur_previous_1_days</th>\n",
       "      <th>quantile_0.4_sent_eur_previous_1_days</th>\n",
       "      <th>quantile_0.5_sent_eur_previous_1_days</th>\n",
       "      <th>quantile_0.6_sent_eur_previous_1_days</th>\n",
       "      <th>quantile_0.7_sent_eur_previous_1_days</th>\n",
       "      <th>quantile_0.8_sent_eur_previous_1_days</th>\n",
       "      <th>...</th>\n",
       "      <th>quantile_0.95_sent_eur_previous_15_days</th>\n",
       "      <th>mean_sent_eur_previous_15_days</th>\n",
       "      <th>min_sent_eur_previous_15_days</th>\n",
       "      <th>max_sent_eur_previous_15_days</th>\n",
       "      <th>sum_sent_eur_previous_15_days</th>\n",
       "      <th>count_sent_eur_previous_15_days</th>\n",
       "      <th>range_sent_eur_previous_15_days</th>\n",
       "      <th>var_sent_eur_previous_15_days</th>\n",
       "      <th>std_sent_eur_previous_15_days</th>\n",
       "      <th>iqr_sent_eur_previous_15_days</th>\n",
       "    </tr>\n",
       "  </thead>\n",
       "  <tbody>\n",
       "    <tr>\n",
       "      <th>0</th>\n",
       "      <td>2008-10-09</td>\n",
       "      <td>-0.464215</td>\n",
       "      <td>-0.27320</td>\n",
       "      <td>-0.14796</td>\n",
       "      <td>0.00000</td>\n",
       "      <td>0.16630</td>\n",
       "      <td>0.2263</td>\n",
       "      <td>0.22630</td>\n",
       "      <td>0.22630</td>\n",
       "      <td>0.30340</td>\n",
       "      <td>...</td>\n",
       "      <td>0.000000</td>\n",
       "      <td>0.000000</td>\n",
       "      <td>0.0000</td>\n",
       "      <td>0.0000</td>\n",
       "      <td>0.0000</td>\n",
       "      <td>2.0</td>\n",
       "      <td>0.0000</td>\n",
       "      <td>0.000000</td>\n",
       "      <td>0.000000</td>\n",
       "      <td>0.000000</td>\n",
       "    </tr>\n",
       "    <tr>\n",
       "      <th>1</th>\n",
       "      <td>2008-10-10</td>\n",
       "      <td>-0.421500</td>\n",
       "      <td>-0.42150</td>\n",
       "      <td>-0.37326</td>\n",
       "      <td>-0.28336</td>\n",
       "      <td>-0.10000</td>\n",
       "      <td>0.0000</td>\n",
       "      <td>0.00000</td>\n",
       "      <td>0.08880</td>\n",
       "      <td>0.30044</td>\n",
       "      <td>...</td>\n",
       "      <td>-0.144280</td>\n",
       "      <td>-0.443288</td>\n",
       "      <td>-0.6808</td>\n",
       "      <td>-0.0516</td>\n",
       "      <td>-3.5463</td>\n",
       "      <td>8.0</td>\n",
       "      <td>0.6292</td>\n",
       "      <td>0.041444</td>\n",
       "      <td>0.190429</td>\n",
       "      <td>0.226825</td>\n",
       "    </tr>\n",
       "    <tr>\n",
       "      <th>2</th>\n",
       "      <td>2008-10-11</td>\n",
       "      <td>-0.566100</td>\n",
       "      <td>-0.56030</td>\n",
       "      <td>-0.53898</td>\n",
       "      <td>-0.52670</td>\n",
       "      <td>-0.52670</td>\n",
       "      <td>-0.5267</td>\n",
       "      <td>-0.52670</td>\n",
       "      <td>-0.46358</td>\n",
       "      <td>-0.16238</td>\n",
       "      <td>...</td>\n",
       "      <td>0.538165</td>\n",
       "      <td>-0.159530</td>\n",
       "      <td>-0.5574</td>\n",
       "      <td>0.7003</td>\n",
       "      <td>-1.5953</td>\n",
       "      <td>10.0</td>\n",
       "      <td>1.2577</td>\n",
       "      <td>0.177070</td>\n",
       "      <td>0.399203</td>\n",
       "      <td>0.510600</td>\n",
       "    </tr>\n",
       "    <tr>\n",
       "      <th>3</th>\n",
       "      <td>2008-10-12</td>\n",
       "      <td>-0.443665</td>\n",
       "      <td>-0.12233</td>\n",
       "      <td>0.25262</td>\n",
       "      <td>0.40924</td>\n",
       "      <td>0.46062</td>\n",
       "      <td>0.5010</td>\n",
       "      <td>0.52670</td>\n",
       "      <td>0.52670</td>\n",
       "      <td>0.52670</td>\n",
       "      <td>...</td>\n",
       "      <td>0.706835</td>\n",
       "      <td>0.075140</td>\n",
       "      <td>-0.7311</td>\n",
       "      <td>0.7841</td>\n",
       "      <td>0.7514</td>\n",
       "      <td>10.0</td>\n",
       "      <td>1.5152</td>\n",
       "      <td>0.269558</td>\n",
       "      <td>0.492546</td>\n",
       "      <td>0.757350</td>\n",
       "    </tr>\n",
       "    <tr>\n",
       "      <th>4</th>\n",
       "      <td>2008-11-24</td>\n",
       "      <td>-0.263670</td>\n",
       "      <td>-0.25414</td>\n",
       "      <td>-0.23508</td>\n",
       "      <td>-0.21602</td>\n",
       "      <td>-0.19696</td>\n",
       "      <td>-0.1779</td>\n",
       "      <td>-0.14232</td>\n",
       "      <td>-0.10674</td>\n",
       "      <td>-0.07116</td>\n",
       "      <td>...</td>\n",
       "      <td>0.672170</td>\n",
       "      <td>0.504500</td>\n",
       "      <td>0.3182</td>\n",
       "      <td>0.6908</td>\n",
       "      <td>1.0090</td>\n",
       "      <td>2.0</td>\n",
       "      <td>0.3726</td>\n",
       "      <td>0.069415</td>\n",
       "      <td>0.186300</td>\n",
       "      <td>0.186300</td>\n",
       "    </tr>\n",
       "    <tr>\n",
       "      <th>...</th>\n",
       "      <td>...</td>\n",
       "      <td>...</td>\n",
       "      <td>...</td>\n",
       "      <td>...</td>\n",
       "      <td>...</td>\n",
       "      <td>...</td>\n",
       "      <td>...</td>\n",
       "      <td>...</td>\n",
       "      <td>...</td>\n",
       "      <td>...</td>\n",
       "      <td>...</td>\n",
       "      <td>...</td>\n",
       "      <td>...</td>\n",
       "      <td>...</td>\n",
       "      <td>...</td>\n",
       "      <td>...</td>\n",
       "      <td>...</td>\n",
       "      <td>...</td>\n",
       "      <td>...</td>\n",
       "      <td>...</td>\n",
       "      <td>...</td>\n",
       "    </tr>\n",
       "    <tr>\n",
       "      <th>4967</th>\n",
       "      <td>2022-08-20</td>\n",
       "      <td>-0.817600</td>\n",
       "      <td>-0.73698</td>\n",
       "      <td>-0.54230</td>\n",
       "      <td>-0.32233</td>\n",
       "      <td>-0.07720</td>\n",
       "      <td>0.0000</td>\n",
       "      <td>0.17790</td>\n",
       "      <td>0.36120</td>\n",
       "      <td>0.49012</td>\n",
       "      <td>...</td>\n",
       "      <td>0.856340</td>\n",
       "      <td>0.005388</td>\n",
       "      <td>-0.9509</td>\n",
       "      <td>0.9699</td>\n",
       "      <td>2.3437</td>\n",
       "      <td>435.0</td>\n",
       "      <td>1.9208</td>\n",
       "      <td>0.308111</td>\n",
       "      <td>0.554439</td>\n",
       "      <td>0.976150</td>\n",
       "    </tr>\n",
       "    <tr>\n",
       "      <th>4968</th>\n",
       "      <td>2022-08-21</td>\n",
       "      <td>-0.840425</td>\n",
       "      <td>-0.76145</td>\n",
       "      <td>-0.59600</td>\n",
       "      <td>-0.37150</td>\n",
       "      <td>-0.15480</td>\n",
       "      <td>0.0000</td>\n",
       "      <td>0.12800</td>\n",
       "      <td>0.34000</td>\n",
       "      <td>0.51870</td>\n",
       "      <td>...</td>\n",
       "      <td>0.805240</td>\n",
       "      <td>-0.068454</td>\n",
       "      <td>-0.9716</td>\n",
       "      <td>0.9590</td>\n",
       "      <td>-20.3308</td>\n",
       "      <td>297.0</td>\n",
       "      <td>1.9306</td>\n",
       "      <td>0.258977</td>\n",
       "      <td>0.508040</td>\n",
       "      <td>0.782000</td>\n",
       "    </tr>\n",
       "    <tr>\n",
       "      <th>4969</th>\n",
       "      <td>2022-08-22</td>\n",
       "      <td>-0.848100</td>\n",
       "      <td>-0.79559</td>\n",
       "      <td>-0.62490</td>\n",
       "      <td>-0.44865</td>\n",
       "      <td>-0.23486</td>\n",
       "      <td>0.0000</td>\n",
       "      <td>0.03332</td>\n",
       "      <td>0.31820</td>\n",
       "      <td>0.46238</td>\n",
       "      <td>...</td>\n",
       "      <td>0.815185</td>\n",
       "      <td>0.029901</td>\n",
       "      <td>-0.9805</td>\n",
       "      <td>0.9626</td>\n",
       "      <td>11.0633</td>\n",
       "      <td>370.0</td>\n",
       "      <td>1.9431</td>\n",
       "      <td>0.285555</td>\n",
       "      <td>0.533651</td>\n",
       "      <td>0.878600</td>\n",
       "    </tr>\n",
       "    <tr>\n",
       "      <th>4970</th>\n",
       "      <td>2022-08-23</td>\n",
       "      <td>-0.825720</td>\n",
       "      <td>-0.70858</td>\n",
       "      <td>-0.55438</td>\n",
       "      <td>-0.36120</td>\n",
       "      <td>-0.12800</td>\n",
       "      <td>0.0000</td>\n",
       "      <td>0.03186</td>\n",
       "      <td>0.29456</td>\n",
       "      <td>0.44040</td>\n",
       "      <td>...</td>\n",
       "      <td>0.823200</td>\n",
       "      <td>0.026195</td>\n",
       "      <td>-0.9625</td>\n",
       "      <td>0.9371</td>\n",
       "      <td>11.2901</td>\n",
       "      <td>431.0</td>\n",
       "      <td>1.8996</td>\n",
       "      <td>0.282923</td>\n",
       "      <td>0.531287</td>\n",
       "      <td>0.869900</td>\n",
       "    </tr>\n",
       "    <tr>\n",
       "      <th>4971</th>\n",
       "      <td>2022-08-24</td>\n",
       "      <td>-0.822545</td>\n",
       "      <td>-0.72929</td>\n",
       "      <td>-0.57190</td>\n",
       "      <td>-0.37921</td>\n",
       "      <td>-0.07720</td>\n",
       "      <td>0.0000</td>\n",
       "      <td>0.14698</td>\n",
       "      <td>0.40190</td>\n",
       "      <td>0.51060</td>\n",
       "      <td>...</td>\n",
       "      <td>0.823140</td>\n",
       "      <td>-0.039703</td>\n",
       "      <td>-0.9545</td>\n",
       "      <td>0.9576</td>\n",
       "      <td>-15.4444</td>\n",
       "      <td>389.0</td>\n",
       "      <td>1.9121</td>\n",
       "      <td>0.291701</td>\n",
       "      <td>0.539399</td>\n",
       "      <td>0.934300</td>\n",
       "    </tr>\n",
       "  </tbody>\n",
       "</table>\n",
       "<p>4972 rows × 301 columns</p>\n",
       "</div>"
      ],
      "text/plain": [
       "            date  quantile_0.05_sent_eur_previous_1_days  \\\n",
       "0     2008-10-09                               -0.464215   \n",
       "1     2008-10-10                               -0.421500   \n",
       "2     2008-10-11                               -0.566100   \n",
       "3     2008-10-12                               -0.443665   \n",
       "4     2008-11-24                               -0.263670   \n",
       "...          ...                                     ...   \n",
       "4967  2022-08-20                               -0.817600   \n",
       "4968  2022-08-21                               -0.840425   \n",
       "4969  2022-08-22                               -0.848100   \n",
       "4970  2022-08-23                               -0.825720   \n",
       "4971  2022-08-24                               -0.822545   \n",
       "\n",
       "      quantile_0.1_sent_eur_previous_1_days  \\\n",
       "0                                  -0.27320   \n",
       "1                                  -0.42150   \n",
       "2                                  -0.56030   \n",
       "3                                  -0.12233   \n",
       "4                                  -0.25414   \n",
       "...                                     ...   \n",
       "4967                               -0.73698   \n",
       "4968                               -0.76145   \n",
       "4969                               -0.79559   \n",
       "4970                               -0.70858   \n",
       "4971                               -0.72929   \n",
       "\n",
       "      quantile_0.2_sent_eur_previous_1_days  \\\n",
       "0                                  -0.14796   \n",
       "1                                  -0.37326   \n",
       "2                                  -0.53898   \n",
       "3                                   0.25262   \n",
       "4                                  -0.23508   \n",
       "...                                     ...   \n",
       "4967                               -0.54230   \n",
       "4968                               -0.59600   \n",
       "4969                               -0.62490   \n",
       "4970                               -0.55438   \n",
       "4971                               -0.57190   \n",
       "\n",
       "      quantile_0.3_sent_eur_previous_1_days  \\\n",
       "0                                   0.00000   \n",
       "1                                  -0.28336   \n",
       "2                                  -0.52670   \n",
       "3                                   0.40924   \n",
       "4                                  -0.21602   \n",
       "...                                     ...   \n",
       "4967                               -0.32233   \n",
       "4968                               -0.37150   \n",
       "4969                               -0.44865   \n",
       "4970                               -0.36120   \n",
       "4971                               -0.37921   \n",
       "\n",
       "      quantile_0.4_sent_eur_previous_1_days  \\\n",
       "0                                   0.16630   \n",
       "1                                  -0.10000   \n",
       "2                                  -0.52670   \n",
       "3                                   0.46062   \n",
       "4                                  -0.19696   \n",
       "...                                     ...   \n",
       "4967                               -0.07720   \n",
       "4968                               -0.15480   \n",
       "4969                               -0.23486   \n",
       "4970                               -0.12800   \n",
       "4971                               -0.07720   \n",
       "\n",
       "      quantile_0.5_sent_eur_previous_1_days  \\\n",
       "0                                    0.2263   \n",
       "1                                    0.0000   \n",
       "2                                   -0.5267   \n",
       "3                                    0.5010   \n",
       "4                                   -0.1779   \n",
       "...                                     ...   \n",
       "4967                                 0.0000   \n",
       "4968                                 0.0000   \n",
       "4969                                 0.0000   \n",
       "4970                                 0.0000   \n",
       "4971                                 0.0000   \n",
       "\n",
       "      quantile_0.6_sent_eur_previous_1_days  \\\n",
       "0                                   0.22630   \n",
       "1                                   0.00000   \n",
       "2                                  -0.52670   \n",
       "3                                   0.52670   \n",
       "4                                  -0.14232   \n",
       "...                                     ...   \n",
       "4967                                0.17790   \n",
       "4968                                0.12800   \n",
       "4969                                0.03332   \n",
       "4970                                0.03186   \n",
       "4971                                0.14698   \n",
       "\n",
       "      quantile_0.7_sent_eur_previous_1_days  \\\n",
       "0                                   0.22630   \n",
       "1                                   0.08880   \n",
       "2                                  -0.46358   \n",
       "3                                   0.52670   \n",
       "4                                  -0.10674   \n",
       "...                                     ...   \n",
       "4967                                0.36120   \n",
       "4968                                0.34000   \n",
       "4969                                0.31820   \n",
       "4970                                0.29456   \n",
       "4971                                0.40190   \n",
       "\n",
       "      quantile_0.8_sent_eur_previous_1_days  ...  \\\n",
       "0                                   0.30340  ...   \n",
       "1                                   0.30044  ...   \n",
       "2                                  -0.16238  ...   \n",
       "3                                   0.52670  ...   \n",
       "4                                  -0.07116  ...   \n",
       "...                                     ...  ...   \n",
       "4967                                0.49012  ...   \n",
       "4968                                0.51870  ...   \n",
       "4969                                0.46238  ...   \n",
       "4970                                0.44040  ...   \n",
       "4971                                0.51060  ...   \n",
       "\n",
       "      quantile_0.95_sent_eur_previous_15_days  mean_sent_eur_previous_15_days  \\\n",
       "0                                    0.000000                        0.000000   \n",
       "1                                   -0.144280                       -0.443288   \n",
       "2                                    0.538165                       -0.159530   \n",
       "3                                    0.706835                        0.075140   \n",
       "4                                    0.672170                        0.504500   \n",
       "...                                       ...                             ...   \n",
       "4967                                 0.856340                        0.005388   \n",
       "4968                                 0.805240                       -0.068454   \n",
       "4969                                 0.815185                        0.029901   \n",
       "4970                                 0.823200                        0.026195   \n",
       "4971                                 0.823140                       -0.039703   \n",
       "\n",
       "      min_sent_eur_previous_15_days  max_sent_eur_previous_15_days  \\\n",
       "0                            0.0000                         0.0000   \n",
       "1                           -0.6808                        -0.0516   \n",
       "2                           -0.5574                         0.7003   \n",
       "3                           -0.7311                         0.7841   \n",
       "4                            0.3182                         0.6908   \n",
       "...                             ...                            ...   \n",
       "4967                        -0.9509                         0.9699   \n",
       "4968                        -0.9716                         0.9590   \n",
       "4969                        -0.9805                         0.9626   \n",
       "4970                        -0.9625                         0.9371   \n",
       "4971                        -0.9545                         0.9576   \n",
       "\n",
       "      sum_sent_eur_previous_15_days  count_sent_eur_previous_15_days  \\\n",
       "0                            0.0000                              2.0   \n",
       "1                           -3.5463                              8.0   \n",
       "2                           -1.5953                             10.0   \n",
       "3                            0.7514                             10.0   \n",
       "4                            1.0090                              2.0   \n",
       "...                             ...                              ...   \n",
       "4967                         2.3437                            435.0   \n",
       "4968                       -20.3308                            297.0   \n",
       "4969                        11.0633                            370.0   \n",
       "4970                        11.2901                            431.0   \n",
       "4971                       -15.4444                            389.0   \n",
       "\n",
       "      range_sent_eur_previous_15_days  var_sent_eur_previous_15_days  \\\n",
       "0                              0.0000                       0.000000   \n",
       "1                              0.6292                       0.041444   \n",
       "2                              1.2577                       0.177070   \n",
       "3                              1.5152                       0.269558   \n",
       "4                              0.3726                       0.069415   \n",
       "...                               ...                            ...   \n",
       "4967                           1.9208                       0.308111   \n",
       "4968                           1.9306                       0.258977   \n",
       "4969                           1.9431                       0.285555   \n",
       "4970                           1.8996                       0.282923   \n",
       "4971                           1.9121                       0.291701   \n",
       "\n",
       "      std_sent_eur_previous_15_days  iqr_sent_eur_previous_15_days  \n",
       "0                          0.000000                       0.000000  \n",
       "1                          0.190429                       0.226825  \n",
       "2                          0.399203                       0.510600  \n",
       "3                          0.492546                       0.757350  \n",
       "4                          0.186300                       0.186300  \n",
       "...                             ...                            ...  \n",
       "4967                       0.554439                       0.976150  \n",
       "4968                       0.508040                       0.782000  \n",
       "4969                       0.533651                       0.878600  \n",
       "4970                       0.531287                       0.869900  \n",
       "4971                       0.539399                       0.934300  \n",
       "\n",
       "[4972 rows x 301 columns]"
      ]
     },
     "execution_count": 3,
     "metadata": {},
     "output_type": "execute_result"
    }
   ],
   "source": [
    "twitter_sentiment_eur = pd.read_csv(\"results/twitter_sentiment_data_eur.csv.gz\", compression=\"gzip\")\n",
    "twitter_sentiment_eur"
   ]
  },
  {
   "cell_type": "code",
   "execution_count": 4,
   "id": "36ad34c3",
   "metadata": {
    "scrolled": false
   },
   "outputs": [
    {
     "data": {
      "text/html": [
       "<div>\n",
       "<style scoped>\n",
       "    .dataframe tbody tr th:only-of-type {\n",
       "        vertical-align: middle;\n",
       "    }\n",
       "\n",
       "    .dataframe tbody tr th {\n",
       "        vertical-align: top;\n",
       "    }\n",
       "\n",
       "    .dataframe thead th {\n",
       "        text-align: right;\n",
       "    }\n",
       "</style>\n",
       "<table border=\"1\" class=\"dataframe\">\n",
       "  <thead>\n",
       "    <tr style=\"text-align: right;\">\n",
       "      <th></th>\n",
       "      <th>date</th>\n",
       "      <th>quantile_0.05_sent_usd_previous_1_days</th>\n",
       "      <th>quantile_0.1_sent_usd_previous_1_days</th>\n",
       "      <th>quantile_0.2_sent_usd_previous_1_days</th>\n",
       "      <th>quantile_0.3_sent_usd_previous_1_days</th>\n",
       "      <th>quantile_0.4_sent_usd_previous_1_days</th>\n",
       "      <th>quantile_0.5_sent_usd_previous_1_days</th>\n",
       "      <th>quantile_0.6_sent_usd_previous_1_days</th>\n",
       "      <th>quantile_0.7_sent_usd_previous_1_days</th>\n",
       "      <th>quantile_0.8_sent_usd_previous_1_days</th>\n",
       "      <th>...</th>\n",
       "      <th>quantile_0.95_sent_usd_previous_15_days</th>\n",
       "      <th>mean_sent_usd_previous_15_days</th>\n",
       "      <th>min_sent_usd_previous_15_days</th>\n",
       "      <th>max_sent_usd_previous_15_days</th>\n",
       "      <th>sum_sent_usd_previous_15_days</th>\n",
       "      <th>count_sent_usd_previous_15_days</th>\n",
       "      <th>range_sent_usd_previous_15_days</th>\n",
       "      <th>var_sent_usd_previous_15_days</th>\n",
       "      <th>std_sent_usd_previous_15_days</th>\n",
       "      <th>iqr_sent_usd_previous_15_days</th>\n",
       "    </tr>\n",
       "  </thead>\n",
       "  <tbody>\n",
       "    <tr>\n",
       "      <th>0</th>\n",
       "      <td>2009-06-08</td>\n",
       "      <td>-0.391100</td>\n",
       "      <td>-0.32770</td>\n",
       "      <td>-0.25418</td>\n",
       "      <td>-0.22518</td>\n",
       "      <td>-0.17880</td>\n",
       "      <td>-0.00</td>\n",
       "      <td>0.00000</td>\n",
       "      <td>0.20400</td>\n",
       "      <td>0.35148</td>\n",
       "      <td>...</td>\n",
       "      <td>0.245880</td>\n",
       "      <td>0.091067</td>\n",
       "      <td>-0.0000</td>\n",
       "      <td>0.2732</td>\n",
       "      <td>0.2732</td>\n",
       "      <td>3.0</td>\n",
       "      <td>0.2732</td>\n",
       "      <td>0.024879</td>\n",
       "      <td>0.128788</td>\n",
       "      <td>0.136600</td>\n",
       "    </tr>\n",
       "    <tr>\n",
       "      <th>1</th>\n",
       "      <td>2009-06-09</td>\n",
       "      <td>-0.526700</td>\n",
       "      <td>-0.52670</td>\n",
       "      <td>-0.44330</td>\n",
       "      <td>-0.28638</td>\n",
       "      <td>-0.06364</td>\n",
       "      <td>0.00</td>\n",
       "      <td>0.00000</td>\n",
       "      <td>0.00000</td>\n",
       "      <td>0.00000</td>\n",
       "      <td>...</td>\n",
       "      <td>0.480525</td>\n",
       "      <td>0.185367</td>\n",
       "      <td>-0.0000</td>\n",
       "      <td>0.4939</td>\n",
       "      <td>1.1122</td>\n",
       "      <td>6.0</td>\n",
       "      <td>0.4939</td>\n",
       "      <td>0.052675</td>\n",
       "      <td>0.209513</td>\n",
       "      <td>0.374775</td>\n",
       "    </tr>\n",
       "    <tr>\n",
       "      <th>2</th>\n",
       "      <td>2009-06-10</td>\n",
       "      <td>-0.326940</td>\n",
       "      <td>-0.10898</td>\n",
       "      <td>0.00000</td>\n",
       "      <td>0.00000</td>\n",
       "      <td>0.00000</td>\n",
       "      <td>-0.00</td>\n",
       "      <td>0.00000</td>\n",
       "      <td>0.00000</td>\n",
       "      <td>0.00000</td>\n",
       "      <td>...</td>\n",
       "      <td>0.223290</td>\n",
       "      <td>-0.051267</td>\n",
       "      <td>-0.4019</td>\n",
       "      <td>0.2481</td>\n",
       "      <td>-0.1538</td>\n",
       "      <td>3.0</td>\n",
       "      <td>0.6500</td>\n",
       "      <td>0.107596</td>\n",
       "      <td>0.267826</td>\n",
       "      <td>0.325000</td>\n",
       "    </tr>\n",
       "    <tr>\n",
       "      <th>3</th>\n",
       "      <td>2009-06-11</td>\n",
       "      <td>-0.725885</td>\n",
       "      <td>-0.59397</td>\n",
       "      <td>-0.33512</td>\n",
       "      <td>0.00000</td>\n",
       "      <td>0.00000</td>\n",
       "      <td>0.35</td>\n",
       "      <td>0.41328</td>\n",
       "      <td>0.54754</td>\n",
       "      <td>0.60154</td>\n",
       "      <td>...</td>\n",
       "      <td>0.447560</td>\n",
       "      <td>-0.101237</td>\n",
       "      <td>-0.8622</td>\n",
       "      <td>0.7814</td>\n",
       "      <td>-4.9606</td>\n",
       "      <td>49.0</td>\n",
       "      <td>1.6436</td>\n",
       "      <td>0.140303</td>\n",
       "      <td>0.370729</td>\n",
       "      <td>0.509800</td>\n",
       "    </tr>\n",
       "    <tr>\n",
       "      <th>4</th>\n",
       "      <td>2009-06-12</td>\n",
       "      <td>-0.376910</td>\n",
       "      <td>-0.24554</td>\n",
       "      <td>-0.14400</td>\n",
       "      <td>0.00000</td>\n",
       "      <td>0.00000</td>\n",
       "      <td>0.00</td>\n",
       "      <td>0.00000</td>\n",
       "      <td>0.00000</td>\n",
       "      <td>0.00000</td>\n",
       "      <td>...</td>\n",
       "      <td>0.701780</td>\n",
       "      <td>0.361800</td>\n",
       "      <td>-0.0516</td>\n",
       "      <td>0.7351</td>\n",
       "      <td>1.0854</td>\n",
       "      <td>3.0</td>\n",
       "      <td>0.7867</td>\n",
       "      <td>0.155930</td>\n",
       "      <td>0.322418</td>\n",
       "      <td>0.393350</td>\n",
       "    </tr>\n",
       "    <tr>\n",
       "      <th>...</th>\n",
       "      <td>...</td>\n",
       "      <td>...</td>\n",
       "      <td>...</td>\n",
       "      <td>...</td>\n",
       "      <td>...</td>\n",
       "      <td>...</td>\n",
       "      <td>...</td>\n",
       "      <td>...</td>\n",
       "      <td>...</td>\n",
       "      <td>...</td>\n",
       "      <td>...</td>\n",
       "      <td>...</td>\n",
       "      <td>...</td>\n",
       "      <td>...</td>\n",
       "      <td>...</td>\n",
       "      <td>...</td>\n",
       "      <td>...</td>\n",
       "      <td>...</td>\n",
       "      <td>...</td>\n",
       "      <td>...</td>\n",
       "      <td>...</td>\n",
       "    </tr>\n",
       "    <tr>\n",
       "      <th>4792</th>\n",
       "      <td>2022-08-20</td>\n",
       "      <td>-0.736730</td>\n",
       "      <td>-0.57896</td>\n",
       "      <td>-0.38180</td>\n",
       "      <td>-0.16130</td>\n",
       "      <td>0.00000</td>\n",
       "      <td>-0.00</td>\n",
       "      <td>0.00000</td>\n",
       "      <td>0.25000</td>\n",
       "      <td>0.44040</td>\n",
       "      <td>...</td>\n",
       "      <td>0.700300</td>\n",
       "      <td>-0.050351</td>\n",
       "      <td>-0.9418</td>\n",
       "      <td>0.9633</td>\n",
       "      <td>-31.3181</td>\n",
       "      <td>622.0</td>\n",
       "      <td>1.9051</td>\n",
       "      <td>0.203222</td>\n",
       "      <td>0.450439</td>\n",
       "      <td>0.653100</td>\n",
       "    </tr>\n",
       "    <tr>\n",
       "      <th>4793</th>\n",
       "      <td>2022-08-21</td>\n",
       "      <td>-0.802420</td>\n",
       "      <td>-0.62970</td>\n",
       "      <td>-0.41006</td>\n",
       "      <td>-0.20744</td>\n",
       "      <td>0.00000</td>\n",
       "      <td>-0.00</td>\n",
       "      <td>0.00000</td>\n",
       "      <td>0.28384</td>\n",
       "      <td>0.47312</td>\n",
       "      <td>...</td>\n",
       "      <td>0.783040</td>\n",
       "      <td>0.029639</td>\n",
       "      <td>-0.9686</td>\n",
       "      <td>0.8885</td>\n",
       "      <td>5.6017</td>\n",
       "      <td>189.0</td>\n",
       "      <td>1.8571</td>\n",
       "      <td>0.184094</td>\n",
       "      <td>0.427926</td>\n",
       "      <td>0.644800</td>\n",
       "    </tr>\n",
       "    <tr>\n",
       "      <th>4794</th>\n",
       "      <td>2022-08-22</td>\n",
       "      <td>-0.659880</td>\n",
       "      <td>-0.55641</td>\n",
       "      <td>-0.42432</td>\n",
       "      <td>-0.31302</td>\n",
       "      <td>-0.12800</td>\n",
       "      <td>0.00</td>\n",
       "      <td>0.00000</td>\n",
       "      <td>0.00000</td>\n",
       "      <td>0.31672</td>\n",
       "      <td>...</td>\n",
       "      <td>0.726750</td>\n",
       "      <td>-0.034770</td>\n",
       "      <td>-0.9309</td>\n",
       "      <td>0.9267</td>\n",
       "      <td>-5.9457</td>\n",
       "      <td>171.0</td>\n",
       "      <td>1.8576</td>\n",
       "      <td>0.192045</td>\n",
       "      <td>0.436946</td>\n",
       "      <td>0.626700</td>\n",
       "    </tr>\n",
       "    <tr>\n",
       "      <th>4795</th>\n",
       "      <td>2022-08-23</td>\n",
       "      <td>-0.755980</td>\n",
       "      <td>-0.63690</td>\n",
       "      <td>-0.45880</td>\n",
       "      <td>-0.25000</td>\n",
       "      <td>0.00000</td>\n",
       "      <td>-0.00</td>\n",
       "      <td>0.00000</td>\n",
       "      <td>0.22630</td>\n",
       "      <td>0.42042</td>\n",
       "      <td>...</td>\n",
       "      <td>0.700300</td>\n",
       "      <td>-0.062026</td>\n",
       "      <td>-0.9134</td>\n",
       "      <td>0.9690</td>\n",
       "      <td>-28.6558</td>\n",
       "      <td>462.0</td>\n",
       "      <td>1.8824</td>\n",
       "      <td>0.197261</td>\n",
       "      <td>0.443659</td>\n",
       "      <td>0.681550</td>\n",
       "    </tr>\n",
       "    <tr>\n",
       "      <th>4796</th>\n",
       "      <td>2022-08-24</td>\n",
       "      <td>-0.752100</td>\n",
       "      <td>-0.63860</td>\n",
       "      <td>-0.40190</td>\n",
       "      <td>-0.20230</td>\n",
       "      <td>0.00000</td>\n",
       "      <td>-0.00</td>\n",
       "      <td>0.04644</td>\n",
       "      <td>0.27320</td>\n",
       "      <td>0.42150</td>\n",
       "      <td>...</td>\n",
       "      <td>0.756075</td>\n",
       "      <td>0.001590</td>\n",
       "      <td>-0.9136</td>\n",
       "      <td>0.9305</td>\n",
       "      <td>0.5818</td>\n",
       "      <td>366.0</td>\n",
       "      <td>1.8441</td>\n",
       "      <td>0.191144</td>\n",
       "      <td>0.436603</td>\n",
       "      <td>0.674925</td>\n",
       "    </tr>\n",
       "  </tbody>\n",
       "</table>\n",
       "<p>4797 rows × 301 columns</p>\n",
       "</div>"
      ],
      "text/plain": [
       "            date  quantile_0.05_sent_usd_previous_1_days  \\\n",
       "0     2009-06-08                               -0.391100   \n",
       "1     2009-06-09                               -0.526700   \n",
       "2     2009-06-10                               -0.326940   \n",
       "3     2009-06-11                               -0.725885   \n",
       "4     2009-06-12                               -0.376910   \n",
       "...          ...                                     ...   \n",
       "4792  2022-08-20                               -0.736730   \n",
       "4793  2022-08-21                               -0.802420   \n",
       "4794  2022-08-22                               -0.659880   \n",
       "4795  2022-08-23                               -0.755980   \n",
       "4796  2022-08-24                               -0.752100   \n",
       "\n",
       "      quantile_0.1_sent_usd_previous_1_days  \\\n",
       "0                                  -0.32770   \n",
       "1                                  -0.52670   \n",
       "2                                  -0.10898   \n",
       "3                                  -0.59397   \n",
       "4                                  -0.24554   \n",
       "...                                     ...   \n",
       "4792                               -0.57896   \n",
       "4793                               -0.62970   \n",
       "4794                               -0.55641   \n",
       "4795                               -0.63690   \n",
       "4796                               -0.63860   \n",
       "\n",
       "      quantile_0.2_sent_usd_previous_1_days  \\\n",
       "0                                  -0.25418   \n",
       "1                                  -0.44330   \n",
       "2                                   0.00000   \n",
       "3                                  -0.33512   \n",
       "4                                  -0.14400   \n",
       "...                                     ...   \n",
       "4792                               -0.38180   \n",
       "4793                               -0.41006   \n",
       "4794                               -0.42432   \n",
       "4795                               -0.45880   \n",
       "4796                               -0.40190   \n",
       "\n",
       "      quantile_0.3_sent_usd_previous_1_days  \\\n",
       "0                                  -0.22518   \n",
       "1                                  -0.28638   \n",
       "2                                   0.00000   \n",
       "3                                   0.00000   \n",
       "4                                   0.00000   \n",
       "...                                     ...   \n",
       "4792                               -0.16130   \n",
       "4793                               -0.20744   \n",
       "4794                               -0.31302   \n",
       "4795                               -0.25000   \n",
       "4796                               -0.20230   \n",
       "\n",
       "      quantile_0.4_sent_usd_previous_1_days  \\\n",
       "0                                  -0.17880   \n",
       "1                                  -0.06364   \n",
       "2                                   0.00000   \n",
       "3                                   0.00000   \n",
       "4                                   0.00000   \n",
       "...                                     ...   \n",
       "4792                                0.00000   \n",
       "4793                                0.00000   \n",
       "4794                               -0.12800   \n",
       "4795                                0.00000   \n",
       "4796                                0.00000   \n",
       "\n",
       "      quantile_0.5_sent_usd_previous_1_days  \\\n",
       "0                                     -0.00   \n",
       "1                                      0.00   \n",
       "2                                     -0.00   \n",
       "3                                      0.35   \n",
       "4                                      0.00   \n",
       "...                                     ...   \n",
       "4792                                  -0.00   \n",
       "4793                                  -0.00   \n",
       "4794                                   0.00   \n",
       "4795                                  -0.00   \n",
       "4796                                  -0.00   \n",
       "\n",
       "      quantile_0.6_sent_usd_previous_1_days  \\\n",
       "0                                   0.00000   \n",
       "1                                   0.00000   \n",
       "2                                   0.00000   \n",
       "3                                   0.41328   \n",
       "4                                   0.00000   \n",
       "...                                     ...   \n",
       "4792                                0.00000   \n",
       "4793                                0.00000   \n",
       "4794                                0.00000   \n",
       "4795                                0.00000   \n",
       "4796                                0.04644   \n",
       "\n",
       "      quantile_0.7_sent_usd_previous_1_days  \\\n",
       "0                                   0.20400   \n",
       "1                                   0.00000   \n",
       "2                                   0.00000   \n",
       "3                                   0.54754   \n",
       "4                                   0.00000   \n",
       "...                                     ...   \n",
       "4792                                0.25000   \n",
       "4793                                0.28384   \n",
       "4794                                0.00000   \n",
       "4795                                0.22630   \n",
       "4796                                0.27320   \n",
       "\n",
       "      quantile_0.8_sent_usd_previous_1_days  ...  \\\n",
       "0                                   0.35148  ...   \n",
       "1                                   0.00000  ...   \n",
       "2                                   0.00000  ...   \n",
       "3                                   0.60154  ...   \n",
       "4                                   0.00000  ...   \n",
       "...                                     ...  ...   \n",
       "4792                                0.44040  ...   \n",
       "4793                                0.47312  ...   \n",
       "4794                                0.31672  ...   \n",
       "4795                                0.42042  ...   \n",
       "4796                                0.42150  ...   \n",
       "\n",
       "      quantile_0.95_sent_usd_previous_15_days  mean_sent_usd_previous_15_days  \\\n",
       "0                                    0.245880                        0.091067   \n",
       "1                                    0.480525                        0.185367   \n",
       "2                                    0.223290                       -0.051267   \n",
       "3                                    0.447560                       -0.101237   \n",
       "4                                    0.701780                        0.361800   \n",
       "...                                       ...                             ...   \n",
       "4792                                 0.700300                       -0.050351   \n",
       "4793                                 0.783040                        0.029639   \n",
       "4794                                 0.726750                       -0.034770   \n",
       "4795                                 0.700300                       -0.062026   \n",
       "4796                                 0.756075                        0.001590   \n",
       "\n",
       "      min_sent_usd_previous_15_days  max_sent_usd_previous_15_days  \\\n",
       "0                           -0.0000                         0.2732   \n",
       "1                           -0.0000                         0.4939   \n",
       "2                           -0.4019                         0.2481   \n",
       "3                           -0.8622                         0.7814   \n",
       "4                           -0.0516                         0.7351   \n",
       "...                             ...                            ...   \n",
       "4792                        -0.9418                         0.9633   \n",
       "4793                        -0.9686                         0.8885   \n",
       "4794                        -0.9309                         0.9267   \n",
       "4795                        -0.9134                         0.9690   \n",
       "4796                        -0.9136                         0.9305   \n",
       "\n",
       "      sum_sent_usd_previous_15_days  count_sent_usd_previous_15_days  \\\n",
       "0                            0.2732                              3.0   \n",
       "1                            1.1122                              6.0   \n",
       "2                           -0.1538                              3.0   \n",
       "3                           -4.9606                             49.0   \n",
       "4                            1.0854                              3.0   \n",
       "...                             ...                              ...   \n",
       "4792                       -31.3181                            622.0   \n",
       "4793                         5.6017                            189.0   \n",
       "4794                        -5.9457                            171.0   \n",
       "4795                       -28.6558                            462.0   \n",
       "4796                         0.5818                            366.0   \n",
       "\n",
       "      range_sent_usd_previous_15_days  var_sent_usd_previous_15_days  \\\n",
       "0                              0.2732                       0.024879   \n",
       "1                              0.4939                       0.052675   \n",
       "2                              0.6500                       0.107596   \n",
       "3                              1.6436                       0.140303   \n",
       "4                              0.7867                       0.155930   \n",
       "...                               ...                            ...   \n",
       "4792                           1.9051                       0.203222   \n",
       "4793                           1.8571                       0.184094   \n",
       "4794                           1.8576                       0.192045   \n",
       "4795                           1.8824                       0.197261   \n",
       "4796                           1.8441                       0.191144   \n",
       "\n",
       "      std_sent_usd_previous_15_days  iqr_sent_usd_previous_15_days  \n",
       "0                          0.128788                       0.136600  \n",
       "1                          0.209513                       0.374775  \n",
       "2                          0.267826                       0.325000  \n",
       "3                          0.370729                       0.509800  \n",
       "4                          0.322418                       0.393350  \n",
       "...                             ...                            ...  \n",
       "4792                       0.450439                       0.653100  \n",
       "4793                       0.427926                       0.644800  \n",
       "4794                       0.436946                       0.626700  \n",
       "4795                       0.443659                       0.681550  \n",
       "4796                       0.436603                       0.674925  \n",
       "\n",
       "[4797 rows x 301 columns]"
      ]
     },
     "execution_count": 4,
     "metadata": {},
     "output_type": "execute_result"
    }
   ],
   "source": [
    "twitter_sentiment_usd = pd.read_csv(\"results/twitter_sentiment_data_usd.csv.gz\", compression=\"gzip\")\n",
    "twitter_sentiment_usd"
   ]
  },
  {
   "cell_type": "markdown",
   "id": "351c849a",
   "metadata": {},
   "source": [
    "Merge into one single dataset:"
   ]
  },
  {
   "cell_type": "code",
   "execution_count": 5,
   "id": "8ff9b221",
   "metadata": {},
   "outputs": [
    {
     "data": {
      "text/html": [
       "<div>\n",
       "<style scoped>\n",
       "    .dataframe tbody tr th:only-of-type {\n",
       "        vertical-align: middle;\n",
       "    }\n",
       "\n",
       "    .dataframe tbody tr th {\n",
       "        vertical-align: top;\n",
       "    }\n",
       "\n",
       "    .dataframe thead th {\n",
       "        text-align: right;\n",
       "    }\n",
       "</style>\n",
       "<table border=\"1\" class=\"dataframe\">\n",
       "  <thead>\n",
       "    <tr style=\"text-align: right;\">\n",
       "      <th></th>\n",
       "      <th>date</th>\n",
       "      <th>eur_usd_rate</th>\n",
       "      <th>previous_eur_pricing</th>\n",
       "      <th>5_days_rolling_mean_pricing</th>\n",
       "      <th>10_days_rolling_mean_pricing</th>\n",
       "      <th>60_days_rolling_mean_pricing</th>\n",
       "      <th>120_days_rolling_mean_pricing</th>\n",
       "      <th>5_days_exp_rolling_mean_pricing</th>\n",
       "      <th>10_days_exp_rolling_mean_pricing</th>\n",
       "      <th>60_days_exp_rolling_mean_pricing</th>\n",
       "      <th>...</th>\n",
       "      <th>quantile_0.95_sent_usd_previous_15_days</th>\n",
       "      <th>mean_sent_usd_previous_15_days</th>\n",
       "      <th>min_sent_usd_previous_15_days</th>\n",
       "      <th>max_sent_usd_previous_15_days</th>\n",
       "      <th>sum_sent_usd_previous_15_days</th>\n",
       "      <th>count_sent_usd_previous_15_days</th>\n",
       "      <th>range_sent_usd_previous_15_days</th>\n",
       "      <th>var_sent_usd_previous_15_days</th>\n",
       "      <th>std_sent_usd_previous_15_days</th>\n",
       "      <th>iqr_sent_usd_previous_15_days</th>\n",
       "    </tr>\n",
       "  </thead>\n",
       "  <tbody>\n",
       "    <tr>\n",
       "      <th>0</th>\n",
       "      <td>2009-06-08</td>\n",
       "      <td>1.3866</td>\n",
       "      <td>1.4177</td>\n",
       "      <td>1.41874</td>\n",
       "      <td>1.40710</td>\n",
       "      <td>1.344202</td>\n",
       "      <td>1.329956</td>\n",
       "      <td>1.414169</td>\n",
       "      <td>1.405729</td>\n",
       "      <td>1.352455</td>\n",
       "      <td>...</td>\n",
       "      <td>0.245880</td>\n",
       "      <td>0.091067</td>\n",
       "      <td>-0.0000</td>\n",
       "      <td>0.2732</td>\n",
       "      <td>0.2732</td>\n",
       "      <td>3.0</td>\n",
       "      <td>0.2732</td>\n",
       "      <td>0.024879</td>\n",
       "      <td>0.128788</td>\n",
       "      <td>0.136600</td>\n",
       "    </tr>\n",
       "    <tr>\n",
       "      <th>1</th>\n",
       "      <td>2009-06-09</td>\n",
       "      <td>1.3959</td>\n",
       "      <td>1.3866</td>\n",
       "      <td>1.41166</td>\n",
       "      <td>1.40566</td>\n",
       "      <td>1.346002</td>\n",
       "      <td>1.330394</td>\n",
       "      <td>1.404979</td>\n",
       "      <td>1.402251</td>\n",
       "      <td>1.353575</td>\n",
       "      <td>...</td>\n",
       "      <td>0.480525</td>\n",
       "      <td>0.185367</td>\n",
       "      <td>-0.0000</td>\n",
       "      <td>0.4939</td>\n",
       "      <td>1.1122</td>\n",
       "      <td>6.0</td>\n",
       "      <td>0.4939</td>\n",
       "      <td>0.052675</td>\n",
       "      <td>0.209513</td>\n",
       "      <td>0.374775</td>\n",
       "    </tr>\n",
       "    <tr>\n",
       "      <th>2</th>\n",
       "      <td>2009-06-10</td>\n",
       "      <td>1.4102</td>\n",
       "      <td>1.3959</td>\n",
       "      <td>1.40608</td>\n",
       "      <td>1.40617</td>\n",
       "      <td>1.347963</td>\n",
       "      <td>1.330768</td>\n",
       "      <td>1.401953</td>\n",
       "      <td>1.401096</td>\n",
       "      <td>1.354963</td>\n",
       "      <td>...</td>\n",
       "      <td>0.223290</td>\n",
       "      <td>-0.051267</td>\n",
       "      <td>-0.4019</td>\n",
       "      <td>0.2481</td>\n",
       "      <td>-0.1538</td>\n",
       "      <td>3.0</td>\n",
       "      <td>0.6500</td>\n",
       "      <td>0.107596</td>\n",
       "      <td>0.267826</td>\n",
       "      <td>0.325000</td>\n",
       "    </tr>\n",
       "    <tr>\n",
       "      <th>3</th>\n",
       "      <td>2009-06-11</td>\n",
       "      <td>1.3969</td>\n",
       "      <td>1.4102</td>\n",
       "      <td>1.40398</td>\n",
       "      <td>1.40818</td>\n",
       "      <td>1.349958</td>\n",
       "      <td>1.331112</td>\n",
       "      <td>1.404702</td>\n",
       "      <td>1.402752</td>\n",
       "      <td>1.356774</td>\n",
       "      <td>...</td>\n",
       "      <td>0.447560</td>\n",
       "      <td>-0.101237</td>\n",
       "      <td>-0.8622</td>\n",
       "      <td>0.7814</td>\n",
       "      <td>-4.9606</td>\n",
       "      <td>49.0</td>\n",
       "      <td>1.6436</td>\n",
       "      <td>0.140303</td>\n",
       "      <td>0.370729</td>\n",
       "      <td>0.509800</td>\n",
       "    </tr>\n",
       "    <tr>\n",
       "      <th>4</th>\n",
       "      <td>2009-06-12</td>\n",
       "      <td>1.4004</td>\n",
       "      <td>1.3969</td>\n",
       "      <td>1.40146</td>\n",
       "      <td>1.40931</td>\n",
       "      <td>1.351503</td>\n",
       "      <td>1.331037</td>\n",
       "      <td>1.402101</td>\n",
       "      <td>1.401688</td>\n",
       "      <td>1.358089</td>\n",
       "      <td>...</td>\n",
       "      <td>0.701780</td>\n",
       "      <td>0.361800</td>\n",
       "      <td>-0.0516</td>\n",
       "      <td>0.7351</td>\n",
       "      <td>1.0854</td>\n",
       "      <td>3.0</td>\n",
       "      <td>0.7867</td>\n",
       "      <td>0.155930</td>\n",
       "      <td>0.322418</td>\n",
       "      <td>0.393350</td>\n",
       "    </tr>\n",
       "    <tr>\n",
       "      <th>...</th>\n",
       "      <td>...</td>\n",
       "      <td>...</td>\n",
       "      <td>...</td>\n",
       "      <td>...</td>\n",
       "      <td>...</td>\n",
       "      <td>...</td>\n",
       "      <td>...</td>\n",
       "      <td>...</td>\n",
       "      <td>...</td>\n",
       "      <td>...</td>\n",
       "      <td>...</td>\n",
       "      <td>...</td>\n",
       "      <td>...</td>\n",
       "      <td>...</td>\n",
       "      <td>...</td>\n",
       "      <td>...</td>\n",
       "      <td>...</td>\n",
       "      <td>...</td>\n",
       "      <td>...</td>\n",
       "      <td>...</td>\n",
       "      <td>...</td>\n",
       "    </tr>\n",
       "    <tr>\n",
       "      <th>3362</th>\n",
       "      <td>2022-08-18</td>\n",
       "      <td>1.0178</td>\n",
       "      <td>1.0164</td>\n",
       "      <td>1.02226</td>\n",
       "      <td>1.02212</td>\n",
       "      <td>1.036607</td>\n",
       "      <td>1.058989</td>\n",
       "      <td>1.019290</td>\n",
       "      <td>1.020685</td>\n",
       "      <td>1.034698</td>\n",
       "      <td>...</td>\n",
       "      <td>0.681800</td>\n",
       "      <td>-0.019531</td>\n",
       "      <td>-0.9097</td>\n",
       "      <td>0.9337</td>\n",
       "      <td>-10.4688</td>\n",
       "      <td>536.0</td>\n",
       "      <td>1.8434</td>\n",
       "      <td>0.187248</td>\n",
       "      <td>0.432318</td>\n",
       "      <td>0.636000</td>\n",
       "    </tr>\n",
       "    <tr>\n",
       "      <th>3363</th>\n",
       "      <td>2022-08-19</td>\n",
       "      <td>1.0054</td>\n",
       "      <td>1.0178</td>\n",
       "      <td>1.01906</td>\n",
       "      <td>1.02209</td>\n",
       "      <td>1.035742</td>\n",
       "      <td>1.058169</td>\n",
       "      <td>1.018794</td>\n",
       "      <td>1.020160</td>\n",
       "      <td>1.034144</td>\n",
       "      <td>...</td>\n",
       "      <td>0.730185</td>\n",
       "      <td>-0.025299</td>\n",
       "      <td>-0.9628</td>\n",
       "      <td>0.9118</td>\n",
       "      <td>-9.5631</td>\n",
       "      <td>378.0</td>\n",
       "      <td>1.8746</td>\n",
       "      <td>0.192509</td>\n",
       "      <td>0.438177</td>\n",
       "      <td>0.677350</td>\n",
       "    </tr>\n",
       "    <tr>\n",
       "      <th>3364</th>\n",
       "      <td>2022-08-22</td>\n",
       "      <td>1.0001</td>\n",
       "      <td>1.0054</td>\n",
       "      <td>1.01444</td>\n",
       "      <td>1.02030</td>\n",
       "      <td>1.034628</td>\n",
       "      <td>1.057292</td>\n",
       "      <td>1.014329</td>\n",
       "      <td>1.017477</td>\n",
       "      <td>1.033201</td>\n",
       "      <td>...</td>\n",
       "      <td>0.726750</td>\n",
       "      <td>-0.034770</td>\n",
       "      <td>-0.9309</td>\n",
       "      <td>0.9267</td>\n",
       "      <td>-5.9457</td>\n",
       "      <td>171.0</td>\n",
       "      <td>1.8576</td>\n",
       "      <td>0.192045</td>\n",
       "      <td>0.436946</td>\n",
       "      <td>0.626700</td>\n",
       "    </tr>\n",
       "    <tr>\n",
       "      <th>3365</th>\n",
       "      <td>2022-08-23</td>\n",
       "      <td>0.9927</td>\n",
       "      <td>1.0001</td>\n",
       "      <td>1.01056</td>\n",
       "      <td>1.01832</td>\n",
       "      <td>1.033357</td>\n",
       "      <td>1.056397</td>\n",
       "      <td>1.009586</td>\n",
       "      <td>1.014317</td>\n",
       "      <td>1.032116</td>\n",
       "      <td>...</td>\n",
       "      <td>0.700300</td>\n",
       "      <td>-0.062026</td>\n",
       "      <td>-0.9134</td>\n",
       "      <td>0.9690</td>\n",
       "      <td>-28.6558</td>\n",
       "      <td>462.0</td>\n",
       "      <td>1.8824</td>\n",
       "      <td>0.197261</td>\n",
       "      <td>0.443659</td>\n",
       "      <td>0.681550</td>\n",
       "    </tr>\n",
       "    <tr>\n",
       "      <th>3366</th>\n",
       "      <td>2022-08-24</td>\n",
       "      <td>0.9934</td>\n",
       "      <td>0.9927</td>\n",
       "      <td>1.00648</td>\n",
       "      <td>1.01525</td>\n",
       "      <td>1.032047</td>\n",
       "      <td>1.055562</td>\n",
       "      <td>1.003957</td>\n",
       "      <td>1.010387</td>\n",
       "      <td>1.030824</td>\n",
       "      <td>...</td>\n",
       "      <td>0.756075</td>\n",
       "      <td>0.001590</td>\n",
       "      <td>-0.9136</td>\n",
       "      <td>0.9305</td>\n",
       "      <td>0.5818</td>\n",
       "      <td>366.0</td>\n",
       "      <td>1.8441</td>\n",
       "      <td>0.191144</td>\n",
       "      <td>0.436603</td>\n",
       "      <td>0.674925</td>\n",
       "    </tr>\n",
       "  </tbody>\n",
       "</table>\n",
       "<p>3367 rows × 611 columns</p>\n",
       "</div>"
      ],
      "text/plain": [
       "            date  eur_usd_rate  previous_eur_pricing  \\\n",
       "0     2009-06-08        1.3866                1.4177   \n",
       "1     2009-06-09        1.3959                1.3866   \n",
       "2     2009-06-10        1.4102                1.3959   \n",
       "3     2009-06-11        1.3969                1.4102   \n",
       "4     2009-06-12        1.4004                1.3969   \n",
       "...          ...           ...                   ...   \n",
       "3362  2022-08-18        1.0178                1.0164   \n",
       "3363  2022-08-19        1.0054                1.0178   \n",
       "3364  2022-08-22        1.0001                1.0054   \n",
       "3365  2022-08-23        0.9927                1.0001   \n",
       "3366  2022-08-24        0.9934                0.9927   \n",
       "\n",
       "      5_days_rolling_mean_pricing  10_days_rolling_mean_pricing  \\\n",
       "0                         1.41874                       1.40710   \n",
       "1                         1.41166                       1.40566   \n",
       "2                         1.40608                       1.40617   \n",
       "3                         1.40398                       1.40818   \n",
       "4                         1.40146                       1.40931   \n",
       "...                           ...                           ...   \n",
       "3362                      1.02226                       1.02212   \n",
       "3363                      1.01906                       1.02209   \n",
       "3364                      1.01444                       1.02030   \n",
       "3365                      1.01056                       1.01832   \n",
       "3366                      1.00648                       1.01525   \n",
       "\n",
       "      60_days_rolling_mean_pricing  120_days_rolling_mean_pricing  \\\n",
       "0                         1.344202                       1.329956   \n",
       "1                         1.346002                       1.330394   \n",
       "2                         1.347963                       1.330768   \n",
       "3                         1.349958                       1.331112   \n",
       "4                         1.351503                       1.331037   \n",
       "...                            ...                            ...   \n",
       "3362                      1.036607                       1.058989   \n",
       "3363                      1.035742                       1.058169   \n",
       "3364                      1.034628                       1.057292   \n",
       "3365                      1.033357                       1.056397   \n",
       "3366                      1.032047                       1.055562   \n",
       "\n",
       "      5_days_exp_rolling_mean_pricing  10_days_exp_rolling_mean_pricing  \\\n",
       "0                            1.414169                          1.405729   \n",
       "1                            1.404979                          1.402251   \n",
       "2                            1.401953                          1.401096   \n",
       "3                            1.404702                          1.402752   \n",
       "4                            1.402101                          1.401688   \n",
       "...                               ...                               ...   \n",
       "3362                         1.019290                          1.020685   \n",
       "3363                         1.018794                          1.020160   \n",
       "3364                         1.014329                          1.017477   \n",
       "3365                         1.009586                          1.014317   \n",
       "3366                         1.003957                          1.010387   \n",
       "\n",
       "      60_days_exp_rolling_mean_pricing  ...  \\\n",
       "0                             1.352455  ...   \n",
       "1                             1.353575  ...   \n",
       "2                             1.354963  ...   \n",
       "3                             1.356774  ...   \n",
       "4                             1.358089  ...   \n",
       "...                                ...  ...   \n",
       "3362                          1.034698  ...   \n",
       "3363                          1.034144  ...   \n",
       "3364                          1.033201  ...   \n",
       "3365                          1.032116  ...   \n",
       "3366                          1.030824  ...   \n",
       "\n",
       "      quantile_0.95_sent_usd_previous_15_days  mean_sent_usd_previous_15_days  \\\n",
       "0                                    0.245880                        0.091067   \n",
       "1                                    0.480525                        0.185367   \n",
       "2                                    0.223290                       -0.051267   \n",
       "3                                    0.447560                       -0.101237   \n",
       "4                                    0.701780                        0.361800   \n",
       "...                                       ...                             ...   \n",
       "3362                                 0.681800                       -0.019531   \n",
       "3363                                 0.730185                       -0.025299   \n",
       "3364                                 0.726750                       -0.034770   \n",
       "3365                                 0.700300                       -0.062026   \n",
       "3366                                 0.756075                        0.001590   \n",
       "\n",
       "      min_sent_usd_previous_15_days  max_sent_usd_previous_15_days  \\\n",
       "0                           -0.0000                         0.2732   \n",
       "1                           -0.0000                         0.4939   \n",
       "2                           -0.4019                         0.2481   \n",
       "3                           -0.8622                         0.7814   \n",
       "4                           -0.0516                         0.7351   \n",
       "...                             ...                            ...   \n",
       "3362                        -0.9097                         0.9337   \n",
       "3363                        -0.9628                         0.9118   \n",
       "3364                        -0.9309                         0.9267   \n",
       "3365                        -0.9134                         0.9690   \n",
       "3366                        -0.9136                         0.9305   \n",
       "\n",
       "      sum_sent_usd_previous_15_days  count_sent_usd_previous_15_days  \\\n",
       "0                            0.2732                              3.0   \n",
       "1                            1.1122                              6.0   \n",
       "2                           -0.1538                              3.0   \n",
       "3                           -4.9606                             49.0   \n",
       "4                            1.0854                              3.0   \n",
       "...                             ...                              ...   \n",
       "3362                       -10.4688                            536.0   \n",
       "3363                        -9.5631                            378.0   \n",
       "3364                        -5.9457                            171.0   \n",
       "3365                       -28.6558                            462.0   \n",
       "3366                         0.5818                            366.0   \n",
       "\n",
       "      range_sent_usd_previous_15_days  var_sent_usd_previous_15_days  \\\n",
       "0                              0.2732                       0.024879   \n",
       "1                              0.4939                       0.052675   \n",
       "2                              0.6500                       0.107596   \n",
       "3                              1.6436                       0.140303   \n",
       "4                              0.7867                       0.155930   \n",
       "...                               ...                            ...   \n",
       "3362                           1.8434                       0.187248   \n",
       "3363                           1.8746                       0.192509   \n",
       "3364                           1.8576                       0.192045   \n",
       "3365                           1.8824                       0.197261   \n",
       "3366                           1.8441                       0.191144   \n",
       "\n",
       "      std_sent_usd_previous_15_days  iqr_sent_usd_previous_15_days  \n",
       "0                          0.128788                       0.136600  \n",
       "1                          0.209513                       0.374775  \n",
       "2                          0.267826                       0.325000  \n",
       "3                          0.370729                       0.509800  \n",
       "4                          0.322418                       0.393350  \n",
       "...                             ...                            ...  \n",
       "3362                       0.432318                       0.636000  \n",
       "3363                       0.438177                       0.677350  \n",
       "3364                       0.436946                       0.626700  \n",
       "3365                       0.443659                       0.681550  \n",
       "3366                       0.436603                       0.674925  \n",
       "\n",
       "[3367 rows x 611 columns]"
      ]
     },
     "execution_count": 5,
     "metadata": {},
     "output_type": "execute_result"
    }
   ],
   "source": [
    "from functools import reduce\n",
    "\n",
    "#merge them using reduce\n",
    "df_merged = reduce(lambda left, right: pd.merge(left, right, on=['date'], how='inner'), [eur_pricing, twitter_sentiment_eur, twitter_sentiment_usd])\n",
    "    #leave only those rows having date in the datasets of currency value and EUR/USD sentiment\n",
    "    #https://stackoverflow.com/questions/44327999/python-pandas-merge-multiple-dataframes\n",
    "df_merged\n",
    "    #note that here the previous eur pricing can be different than the eur pricing of the previous row\n",
    "    #because when merging we lose days without tweet sentiment, so there is no longer continuous days"
   ]
  },
  {
   "cell_type": "markdown",
   "id": "1bd56140",
   "metadata": {},
   "source": [
    "Subset the data selecting only predictors, including EUR pricing, EUR and USD sentiment:"
   ]
  },
  {
   "cell_type": "code",
   "execution_count": 6,
   "id": "66608c0e",
   "metadata": {
    "scrolled": true
   },
   "outputs": [
    {
     "data": {
      "text/html": [
       "<div>\n",
       "<style scoped>\n",
       "    .dataframe tbody tr th:only-of-type {\n",
       "        vertical-align: middle;\n",
       "    }\n",
       "\n",
       "    .dataframe tbody tr th {\n",
       "        vertical-align: top;\n",
       "    }\n",
       "\n",
       "    .dataframe thead th {\n",
       "        text-align: right;\n",
       "    }\n",
       "</style>\n",
       "<table border=\"1\" class=\"dataframe\">\n",
       "  <thead>\n",
       "    <tr style=\"text-align: right;\">\n",
       "      <th></th>\n",
       "      <th>previous_eur_pricing</th>\n",
       "      <th>5_days_rolling_mean_pricing</th>\n",
       "      <th>10_days_rolling_mean_pricing</th>\n",
       "      <th>60_days_rolling_mean_pricing</th>\n",
       "      <th>120_days_rolling_mean_pricing</th>\n",
       "      <th>5_days_exp_rolling_mean_pricing</th>\n",
       "      <th>10_days_exp_rolling_mean_pricing</th>\n",
       "      <th>60_days_exp_rolling_mean_pricing</th>\n",
       "      <th>120_days_exp_rolling_mean_pricing</th>\n",
       "      <th>quantile_0.05_sent_eur_previous_1_days</th>\n",
       "      <th>...</th>\n",
       "      <th>quantile_0.95_sent_usd_previous_15_days</th>\n",
       "      <th>mean_sent_usd_previous_15_days</th>\n",
       "      <th>min_sent_usd_previous_15_days</th>\n",
       "      <th>max_sent_usd_previous_15_days</th>\n",
       "      <th>sum_sent_usd_previous_15_days</th>\n",
       "      <th>count_sent_usd_previous_15_days</th>\n",
       "      <th>range_sent_usd_previous_15_days</th>\n",
       "      <th>var_sent_usd_previous_15_days</th>\n",
       "      <th>std_sent_usd_previous_15_days</th>\n",
       "      <th>iqr_sent_usd_previous_15_days</th>\n",
       "    </tr>\n",
       "  </thead>\n",
       "  <tbody>\n",
       "    <tr>\n",
       "      <th>0</th>\n",
       "      <td>1.4177</td>\n",
       "      <td>1.41874</td>\n",
       "      <td>1.40710</td>\n",
       "      <td>1.344202</td>\n",
       "      <td>1.329956</td>\n",
       "      <td>1.414169</td>\n",
       "      <td>1.405729</td>\n",
       "      <td>1.352455</td>\n",
       "      <td>1.344919</td>\n",
       "      <td>-0.593980</td>\n",
       "      <td>...</td>\n",
       "      <td>0.245880</td>\n",
       "      <td>0.091067</td>\n",
       "      <td>-0.0000</td>\n",
       "      <td>0.2732</td>\n",
       "      <td>0.2732</td>\n",
       "      <td>3.0</td>\n",
       "      <td>0.2732</td>\n",
       "      <td>0.024879</td>\n",
       "      <td>0.128788</td>\n",
       "      <td>0.136600</td>\n",
       "    </tr>\n",
       "    <tr>\n",
       "      <th>1</th>\n",
       "      <td>1.3866</td>\n",
       "      <td>1.41166</td>\n",
       "      <td>1.40566</td>\n",
       "      <td>1.346002</td>\n",
       "      <td>1.330394</td>\n",
       "      <td>1.404979</td>\n",
       "      <td>1.402251</td>\n",
       "      <td>1.353575</td>\n",
       "      <td>1.345608</td>\n",
       "      <td>-0.868900</td>\n",
       "      <td>...</td>\n",
       "      <td>0.480525</td>\n",
       "      <td>0.185367</td>\n",
       "      <td>-0.0000</td>\n",
       "      <td>0.4939</td>\n",
       "      <td>1.1122</td>\n",
       "      <td>6.0</td>\n",
       "      <td>0.4939</td>\n",
       "      <td>0.052675</td>\n",
       "      <td>0.209513</td>\n",
       "      <td>0.374775</td>\n",
       "    </tr>\n",
       "    <tr>\n",
       "      <th>2</th>\n",
       "      <td>1.3959</td>\n",
       "      <td>1.40608</td>\n",
       "      <td>1.40617</td>\n",
       "      <td>1.347963</td>\n",
       "      <td>1.330768</td>\n",
       "      <td>1.401953</td>\n",
       "      <td>1.401096</td>\n",
       "      <td>1.354963</td>\n",
       "      <td>1.346439</td>\n",
       "      <td>-0.664245</td>\n",
       "      <td>...</td>\n",
       "      <td>0.223290</td>\n",
       "      <td>-0.051267</td>\n",
       "      <td>-0.4019</td>\n",
       "      <td>0.2481</td>\n",
       "      <td>-0.1538</td>\n",
       "      <td>3.0</td>\n",
       "      <td>0.6500</td>\n",
       "      <td>0.107596</td>\n",
       "      <td>0.267826</td>\n",
       "      <td>0.325000</td>\n",
       "    </tr>\n",
       "    <tr>\n",
       "      <th>3</th>\n",
       "      <td>1.4102</td>\n",
       "      <td>1.40398</td>\n",
       "      <td>1.40818</td>\n",
       "      <td>1.349958</td>\n",
       "      <td>1.331112</td>\n",
       "      <td>1.404702</td>\n",
       "      <td>1.402752</td>\n",
       "      <td>1.356774</td>\n",
       "      <td>1.347493</td>\n",
       "      <td>-0.860135</td>\n",
       "      <td>...</td>\n",
       "      <td>0.447560</td>\n",
       "      <td>-0.101237</td>\n",
       "      <td>-0.8622</td>\n",
       "      <td>0.7814</td>\n",
       "      <td>-4.9606</td>\n",
       "      <td>49.0</td>\n",
       "      <td>1.6436</td>\n",
       "      <td>0.140303</td>\n",
       "      <td>0.370729</td>\n",
       "      <td>0.509800</td>\n",
       "    </tr>\n",
       "    <tr>\n",
       "      <th>4</th>\n",
       "      <td>1.3969</td>\n",
       "      <td>1.40146</td>\n",
       "      <td>1.40931</td>\n",
       "      <td>1.351503</td>\n",
       "      <td>1.331037</td>\n",
       "      <td>1.402101</td>\n",
       "      <td>1.401688</td>\n",
       "      <td>1.358089</td>\n",
       "      <td>1.348310</td>\n",
       "      <td>-0.930000</td>\n",
       "      <td>...</td>\n",
       "      <td>0.701780</td>\n",
       "      <td>0.361800</td>\n",
       "      <td>-0.0516</td>\n",
       "      <td>0.7351</td>\n",
       "      <td>1.0854</td>\n",
       "      <td>3.0</td>\n",
       "      <td>0.7867</td>\n",
       "      <td>0.155930</td>\n",
       "      <td>0.322418</td>\n",
       "      <td>0.393350</td>\n",
       "    </tr>\n",
       "    <tr>\n",
       "      <th>...</th>\n",
       "      <td>...</td>\n",
       "      <td>...</td>\n",
       "      <td>...</td>\n",
       "      <td>...</td>\n",
       "      <td>...</td>\n",
       "      <td>...</td>\n",
       "      <td>...</td>\n",
       "      <td>...</td>\n",
       "      <td>...</td>\n",
       "      <td>...</td>\n",
       "      <td>...</td>\n",
       "      <td>...</td>\n",
       "      <td>...</td>\n",
       "      <td>...</td>\n",
       "      <td>...</td>\n",
       "      <td>...</td>\n",
       "      <td>...</td>\n",
       "      <td>...</td>\n",
       "      <td>...</td>\n",
       "      <td>...</td>\n",
       "      <td>...</td>\n",
       "    </tr>\n",
       "    <tr>\n",
       "      <th>3362</th>\n",
       "      <td>1.0164</td>\n",
       "      <td>1.02226</td>\n",
       "      <td>1.02212</td>\n",
       "      <td>1.036607</td>\n",
       "      <td>1.058989</td>\n",
       "      <td>1.019290</td>\n",
       "      <td>1.020685</td>\n",
       "      <td>1.034698</td>\n",
       "      <td>1.057130</td>\n",
       "      <td>-0.831600</td>\n",
       "      <td>...</td>\n",
       "      <td>0.681800</td>\n",
       "      <td>-0.019531</td>\n",
       "      <td>-0.9097</td>\n",
       "      <td>0.9337</td>\n",
       "      <td>-10.4688</td>\n",
       "      <td>536.0</td>\n",
       "      <td>1.8434</td>\n",
       "      <td>0.187248</td>\n",
       "      <td>0.432318</td>\n",
       "      <td>0.636000</td>\n",
       "    </tr>\n",
       "    <tr>\n",
       "      <th>3363</th>\n",
       "      <td>1.0178</td>\n",
       "      <td>1.01906</td>\n",
       "      <td>1.02209</td>\n",
       "      <td>1.035742</td>\n",
       "      <td>1.058169</td>\n",
       "      <td>1.018794</td>\n",
       "      <td>1.020160</td>\n",
       "      <td>1.034144</td>\n",
       "      <td>1.056479</td>\n",
       "      <td>-0.798310</td>\n",
       "      <td>...</td>\n",
       "      <td>0.730185</td>\n",
       "      <td>-0.025299</td>\n",
       "      <td>-0.9628</td>\n",
       "      <td>0.9118</td>\n",
       "      <td>-9.5631</td>\n",
       "      <td>378.0</td>\n",
       "      <td>1.8746</td>\n",
       "      <td>0.192509</td>\n",
       "      <td>0.438177</td>\n",
       "      <td>0.677350</td>\n",
       "    </tr>\n",
       "    <tr>\n",
       "      <th>3364</th>\n",
       "      <td>1.0054</td>\n",
       "      <td>1.01444</td>\n",
       "      <td>1.02030</td>\n",
       "      <td>1.034628</td>\n",
       "      <td>1.057292</td>\n",
       "      <td>1.014329</td>\n",
       "      <td>1.017477</td>\n",
       "      <td>1.033201</td>\n",
       "      <td>1.055635</td>\n",
       "      <td>-0.848100</td>\n",
       "      <td>...</td>\n",
       "      <td>0.726750</td>\n",
       "      <td>-0.034770</td>\n",
       "      <td>-0.9309</td>\n",
       "      <td>0.9267</td>\n",
       "      <td>-5.9457</td>\n",
       "      <td>171.0</td>\n",
       "      <td>1.8576</td>\n",
       "      <td>0.192045</td>\n",
       "      <td>0.436946</td>\n",
       "      <td>0.626700</td>\n",
       "    </tr>\n",
       "    <tr>\n",
       "      <th>3365</th>\n",
       "      <td>1.0001</td>\n",
       "      <td>1.01056</td>\n",
       "      <td>1.01832</td>\n",
       "      <td>1.033357</td>\n",
       "      <td>1.056397</td>\n",
       "      <td>1.009586</td>\n",
       "      <td>1.014317</td>\n",
       "      <td>1.032116</td>\n",
       "      <td>1.054717</td>\n",
       "      <td>-0.825720</td>\n",
       "      <td>...</td>\n",
       "      <td>0.700300</td>\n",
       "      <td>-0.062026</td>\n",
       "      <td>-0.9134</td>\n",
       "      <td>0.9690</td>\n",
       "      <td>-28.6558</td>\n",
       "      <td>462.0</td>\n",
       "      <td>1.8824</td>\n",
       "      <td>0.197261</td>\n",
       "      <td>0.443659</td>\n",
       "      <td>0.681550</td>\n",
       "    </tr>\n",
       "    <tr>\n",
       "      <th>3366</th>\n",
       "      <td>0.9927</td>\n",
       "      <td>1.00648</td>\n",
       "      <td>1.01525</td>\n",
       "      <td>1.032047</td>\n",
       "      <td>1.055562</td>\n",
       "      <td>1.003957</td>\n",
       "      <td>1.010387</td>\n",
       "      <td>1.030824</td>\n",
       "      <td>1.053692</td>\n",
       "      <td>-0.822545</td>\n",
       "      <td>...</td>\n",
       "      <td>0.756075</td>\n",
       "      <td>0.001590</td>\n",
       "      <td>-0.9136</td>\n",
       "      <td>0.9305</td>\n",
       "      <td>0.5818</td>\n",
       "      <td>366.0</td>\n",
       "      <td>1.8441</td>\n",
       "      <td>0.191144</td>\n",
       "      <td>0.436603</td>\n",
       "      <td>0.674925</td>\n",
       "    </tr>\n",
       "  </tbody>\n",
       "</table>\n",
       "<p>3367 rows × 609 columns</p>\n",
       "</div>"
      ],
      "text/plain": [
       "      previous_eur_pricing  5_days_rolling_mean_pricing  \\\n",
       "0                   1.4177                      1.41874   \n",
       "1                   1.3866                      1.41166   \n",
       "2                   1.3959                      1.40608   \n",
       "3                   1.4102                      1.40398   \n",
       "4                   1.3969                      1.40146   \n",
       "...                    ...                          ...   \n",
       "3362                1.0164                      1.02226   \n",
       "3363                1.0178                      1.01906   \n",
       "3364                1.0054                      1.01444   \n",
       "3365                1.0001                      1.01056   \n",
       "3366                0.9927                      1.00648   \n",
       "\n",
       "      10_days_rolling_mean_pricing  60_days_rolling_mean_pricing  \\\n",
       "0                          1.40710                      1.344202   \n",
       "1                          1.40566                      1.346002   \n",
       "2                          1.40617                      1.347963   \n",
       "3                          1.40818                      1.349958   \n",
       "4                          1.40931                      1.351503   \n",
       "...                            ...                           ...   \n",
       "3362                       1.02212                      1.036607   \n",
       "3363                       1.02209                      1.035742   \n",
       "3364                       1.02030                      1.034628   \n",
       "3365                       1.01832                      1.033357   \n",
       "3366                       1.01525                      1.032047   \n",
       "\n",
       "      120_days_rolling_mean_pricing  5_days_exp_rolling_mean_pricing  \\\n",
       "0                          1.329956                         1.414169   \n",
       "1                          1.330394                         1.404979   \n",
       "2                          1.330768                         1.401953   \n",
       "3                          1.331112                         1.404702   \n",
       "4                          1.331037                         1.402101   \n",
       "...                             ...                              ...   \n",
       "3362                       1.058989                         1.019290   \n",
       "3363                       1.058169                         1.018794   \n",
       "3364                       1.057292                         1.014329   \n",
       "3365                       1.056397                         1.009586   \n",
       "3366                       1.055562                         1.003957   \n",
       "\n",
       "      10_days_exp_rolling_mean_pricing  60_days_exp_rolling_mean_pricing  \\\n",
       "0                             1.405729                          1.352455   \n",
       "1                             1.402251                          1.353575   \n",
       "2                             1.401096                          1.354963   \n",
       "3                             1.402752                          1.356774   \n",
       "4                             1.401688                          1.358089   \n",
       "...                                ...                               ...   \n",
       "3362                          1.020685                          1.034698   \n",
       "3363                          1.020160                          1.034144   \n",
       "3364                          1.017477                          1.033201   \n",
       "3365                          1.014317                          1.032116   \n",
       "3366                          1.010387                          1.030824   \n",
       "\n",
       "      120_days_exp_rolling_mean_pricing  \\\n",
       "0                              1.344919   \n",
       "1                              1.345608   \n",
       "2                              1.346439   \n",
       "3                              1.347493   \n",
       "4                              1.348310   \n",
       "...                                 ...   \n",
       "3362                           1.057130   \n",
       "3363                           1.056479   \n",
       "3364                           1.055635   \n",
       "3365                           1.054717   \n",
       "3366                           1.053692   \n",
       "\n",
       "      quantile_0.05_sent_eur_previous_1_days  ...  \\\n",
       "0                                  -0.593980  ...   \n",
       "1                                  -0.868900  ...   \n",
       "2                                  -0.664245  ...   \n",
       "3                                  -0.860135  ...   \n",
       "4                                  -0.930000  ...   \n",
       "...                                      ...  ...   \n",
       "3362                               -0.831600  ...   \n",
       "3363                               -0.798310  ...   \n",
       "3364                               -0.848100  ...   \n",
       "3365                               -0.825720  ...   \n",
       "3366                               -0.822545  ...   \n",
       "\n",
       "      quantile_0.95_sent_usd_previous_15_days  mean_sent_usd_previous_15_days  \\\n",
       "0                                    0.245880                        0.091067   \n",
       "1                                    0.480525                        0.185367   \n",
       "2                                    0.223290                       -0.051267   \n",
       "3                                    0.447560                       -0.101237   \n",
       "4                                    0.701780                        0.361800   \n",
       "...                                       ...                             ...   \n",
       "3362                                 0.681800                       -0.019531   \n",
       "3363                                 0.730185                       -0.025299   \n",
       "3364                                 0.726750                       -0.034770   \n",
       "3365                                 0.700300                       -0.062026   \n",
       "3366                                 0.756075                        0.001590   \n",
       "\n",
       "      min_sent_usd_previous_15_days  max_sent_usd_previous_15_days  \\\n",
       "0                           -0.0000                         0.2732   \n",
       "1                           -0.0000                         0.4939   \n",
       "2                           -0.4019                         0.2481   \n",
       "3                           -0.8622                         0.7814   \n",
       "4                           -0.0516                         0.7351   \n",
       "...                             ...                            ...   \n",
       "3362                        -0.9097                         0.9337   \n",
       "3363                        -0.9628                         0.9118   \n",
       "3364                        -0.9309                         0.9267   \n",
       "3365                        -0.9134                         0.9690   \n",
       "3366                        -0.9136                         0.9305   \n",
       "\n",
       "      sum_sent_usd_previous_15_days  count_sent_usd_previous_15_days  \\\n",
       "0                            0.2732                              3.0   \n",
       "1                            1.1122                              6.0   \n",
       "2                           -0.1538                              3.0   \n",
       "3                           -4.9606                             49.0   \n",
       "4                            1.0854                              3.0   \n",
       "...                             ...                              ...   \n",
       "3362                       -10.4688                            536.0   \n",
       "3363                        -9.5631                            378.0   \n",
       "3364                        -5.9457                            171.0   \n",
       "3365                       -28.6558                            462.0   \n",
       "3366                         0.5818                            366.0   \n",
       "\n",
       "      range_sent_usd_previous_15_days  var_sent_usd_previous_15_days  \\\n",
       "0                              0.2732                       0.024879   \n",
       "1                              0.4939                       0.052675   \n",
       "2                              0.6500                       0.107596   \n",
       "3                              1.6436                       0.140303   \n",
       "4                              0.7867                       0.155930   \n",
       "...                               ...                            ...   \n",
       "3362                           1.8434                       0.187248   \n",
       "3363                           1.8746                       0.192509   \n",
       "3364                           1.8576                       0.192045   \n",
       "3365                           1.8824                       0.197261   \n",
       "3366                           1.8441                       0.191144   \n",
       "\n",
       "      std_sent_usd_previous_15_days  iqr_sent_usd_previous_15_days  \n",
       "0                          0.128788                       0.136600  \n",
       "1                          0.209513                       0.374775  \n",
       "2                          0.267826                       0.325000  \n",
       "3                          0.370729                       0.509800  \n",
       "4                          0.322418                       0.393350  \n",
       "...                             ...                            ...  \n",
       "3362                       0.432318                       0.636000  \n",
       "3363                       0.438177                       0.677350  \n",
       "3364                       0.436946                       0.626700  \n",
       "3365                       0.443659                       0.681550  \n",
       "3366                       0.436603                       0.674925  \n",
       "\n",
       "[3367 rows x 609 columns]"
      ]
     },
     "execution_count": 6,
     "metadata": {},
     "output_type": "execute_result"
    }
   ],
   "source": [
    "predictors = df_merged[[column for column in df_merged.columns if \"sent_eur_previous\" in column or \"sent_usd_previous\" in column or \"previous_eur_pricing\" in column or \"rolling_mean\" in column]]\n",
    "predictors"
   ]
  },
  {
   "cell_type": "markdown",
   "id": "c418c304",
   "metadata": {},
   "source": [
    "Select only those predictors related to EUR pricing:"
   ]
  },
  {
   "cell_type": "code",
   "execution_count": 7,
   "id": "1af60c63",
   "metadata": {
    "scrolled": false
   },
   "outputs": [
    {
     "data": {
      "text/html": [
       "<div>\n",
       "<style scoped>\n",
       "    .dataframe tbody tr th:only-of-type {\n",
       "        vertical-align: middle;\n",
       "    }\n",
       "\n",
       "    .dataframe tbody tr th {\n",
       "        vertical-align: top;\n",
       "    }\n",
       "\n",
       "    .dataframe thead th {\n",
       "        text-align: right;\n",
       "    }\n",
       "</style>\n",
       "<table border=\"1\" class=\"dataframe\">\n",
       "  <thead>\n",
       "    <tr style=\"text-align: right;\">\n",
       "      <th></th>\n",
       "      <th>previous_eur_pricing</th>\n",
       "      <th>5_days_rolling_mean_pricing</th>\n",
       "      <th>10_days_rolling_mean_pricing</th>\n",
       "      <th>60_days_rolling_mean_pricing</th>\n",
       "      <th>120_days_rolling_mean_pricing</th>\n",
       "      <th>5_days_exp_rolling_mean_pricing</th>\n",
       "      <th>10_days_exp_rolling_mean_pricing</th>\n",
       "      <th>60_days_exp_rolling_mean_pricing</th>\n",
       "      <th>120_days_exp_rolling_mean_pricing</th>\n",
       "    </tr>\n",
       "  </thead>\n",
       "  <tbody>\n",
       "    <tr>\n",
       "      <th>0</th>\n",
       "      <td>1.4177</td>\n",
       "      <td>1.41874</td>\n",
       "      <td>1.40710</td>\n",
       "      <td>1.344202</td>\n",
       "      <td>1.329956</td>\n",
       "      <td>1.414169</td>\n",
       "      <td>1.405729</td>\n",
       "      <td>1.352455</td>\n",
       "      <td>1.344919</td>\n",
       "    </tr>\n",
       "    <tr>\n",
       "      <th>1</th>\n",
       "      <td>1.3866</td>\n",
       "      <td>1.41166</td>\n",
       "      <td>1.40566</td>\n",
       "      <td>1.346002</td>\n",
       "      <td>1.330394</td>\n",
       "      <td>1.404979</td>\n",
       "      <td>1.402251</td>\n",
       "      <td>1.353575</td>\n",
       "      <td>1.345608</td>\n",
       "    </tr>\n",
       "    <tr>\n",
       "      <th>2</th>\n",
       "      <td>1.3959</td>\n",
       "      <td>1.40608</td>\n",
       "      <td>1.40617</td>\n",
       "      <td>1.347963</td>\n",
       "      <td>1.330768</td>\n",
       "      <td>1.401953</td>\n",
       "      <td>1.401096</td>\n",
       "      <td>1.354963</td>\n",
       "      <td>1.346439</td>\n",
       "    </tr>\n",
       "    <tr>\n",
       "      <th>3</th>\n",
       "      <td>1.4102</td>\n",
       "      <td>1.40398</td>\n",
       "      <td>1.40818</td>\n",
       "      <td>1.349958</td>\n",
       "      <td>1.331112</td>\n",
       "      <td>1.404702</td>\n",
       "      <td>1.402752</td>\n",
       "      <td>1.356774</td>\n",
       "      <td>1.347493</td>\n",
       "    </tr>\n",
       "    <tr>\n",
       "      <th>4</th>\n",
       "      <td>1.3969</td>\n",
       "      <td>1.40146</td>\n",
       "      <td>1.40931</td>\n",
       "      <td>1.351503</td>\n",
       "      <td>1.331037</td>\n",
       "      <td>1.402101</td>\n",
       "      <td>1.401688</td>\n",
       "      <td>1.358089</td>\n",
       "      <td>1.348310</td>\n",
       "    </tr>\n",
       "    <tr>\n",
       "      <th>...</th>\n",
       "      <td>...</td>\n",
       "      <td>...</td>\n",
       "      <td>...</td>\n",
       "      <td>...</td>\n",
       "      <td>...</td>\n",
       "      <td>...</td>\n",
       "      <td>...</td>\n",
       "      <td>...</td>\n",
       "      <td>...</td>\n",
       "    </tr>\n",
       "    <tr>\n",
       "      <th>3362</th>\n",
       "      <td>1.0164</td>\n",
       "      <td>1.02226</td>\n",
       "      <td>1.02212</td>\n",
       "      <td>1.036607</td>\n",
       "      <td>1.058989</td>\n",
       "      <td>1.019290</td>\n",
       "      <td>1.020685</td>\n",
       "      <td>1.034698</td>\n",
       "      <td>1.057130</td>\n",
       "    </tr>\n",
       "    <tr>\n",
       "      <th>3363</th>\n",
       "      <td>1.0178</td>\n",
       "      <td>1.01906</td>\n",
       "      <td>1.02209</td>\n",
       "      <td>1.035742</td>\n",
       "      <td>1.058169</td>\n",
       "      <td>1.018794</td>\n",
       "      <td>1.020160</td>\n",
       "      <td>1.034144</td>\n",
       "      <td>1.056479</td>\n",
       "    </tr>\n",
       "    <tr>\n",
       "      <th>3364</th>\n",
       "      <td>1.0054</td>\n",
       "      <td>1.01444</td>\n",
       "      <td>1.02030</td>\n",
       "      <td>1.034628</td>\n",
       "      <td>1.057292</td>\n",
       "      <td>1.014329</td>\n",
       "      <td>1.017477</td>\n",
       "      <td>1.033201</td>\n",
       "      <td>1.055635</td>\n",
       "    </tr>\n",
       "    <tr>\n",
       "      <th>3365</th>\n",
       "      <td>1.0001</td>\n",
       "      <td>1.01056</td>\n",
       "      <td>1.01832</td>\n",
       "      <td>1.033357</td>\n",
       "      <td>1.056397</td>\n",
       "      <td>1.009586</td>\n",
       "      <td>1.014317</td>\n",
       "      <td>1.032116</td>\n",
       "      <td>1.054717</td>\n",
       "    </tr>\n",
       "    <tr>\n",
       "      <th>3366</th>\n",
       "      <td>0.9927</td>\n",
       "      <td>1.00648</td>\n",
       "      <td>1.01525</td>\n",
       "      <td>1.032047</td>\n",
       "      <td>1.055562</td>\n",
       "      <td>1.003957</td>\n",
       "      <td>1.010387</td>\n",
       "      <td>1.030824</td>\n",
       "      <td>1.053692</td>\n",
       "    </tr>\n",
       "  </tbody>\n",
       "</table>\n",
       "<p>3367 rows × 9 columns</p>\n",
       "</div>"
      ],
      "text/plain": [
       "      previous_eur_pricing  5_days_rolling_mean_pricing  \\\n",
       "0                   1.4177                      1.41874   \n",
       "1                   1.3866                      1.41166   \n",
       "2                   1.3959                      1.40608   \n",
       "3                   1.4102                      1.40398   \n",
       "4                   1.3969                      1.40146   \n",
       "...                    ...                          ...   \n",
       "3362                1.0164                      1.02226   \n",
       "3363                1.0178                      1.01906   \n",
       "3364                1.0054                      1.01444   \n",
       "3365                1.0001                      1.01056   \n",
       "3366                0.9927                      1.00648   \n",
       "\n",
       "      10_days_rolling_mean_pricing  60_days_rolling_mean_pricing  \\\n",
       "0                          1.40710                      1.344202   \n",
       "1                          1.40566                      1.346002   \n",
       "2                          1.40617                      1.347963   \n",
       "3                          1.40818                      1.349958   \n",
       "4                          1.40931                      1.351503   \n",
       "...                            ...                           ...   \n",
       "3362                       1.02212                      1.036607   \n",
       "3363                       1.02209                      1.035742   \n",
       "3364                       1.02030                      1.034628   \n",
       "3365                       1.01832                      1.033357   \n",
       "3366                       1.01525                      1.032047   \n",
       "\n",
       "      120_days_rolling_mean_pricing  5_days_exp_rolling_mean_pricing  \\\n",
       "0                          1.329956                         1.414169   \n",
       "1                          1.330394                         1.404979   \n",
       "2                          1.330768                         1.401953   \n",
       "3                          1.331112                         1.404702   \n",
       "4                          1.331037                         1.402101   \n",
       "...                             ...                              ...   \n",
       "3362                       1.058989                         1.019290   \n",
       "3363                       1.058169                         1.018794   \n",
       "3364                       1.057292                         1.014329   \n",
       "3365                       1.056397                         1.009586   \n",
       "3366                       1.055562                         1.003957   \n",
       "\n",
       "      10_days_exp_rolling_mean_pricing  60_days_exp_rolling_mean_pricing  \\\n",
       "0                             1.405729                          1.352455   \n",
       "1                             1.402251                          1.353575   \n",
       "2                             1.401096                          1.354963   \n",
       "3                             1.402752                          1.356774   \n",
       "4                             1.401688                          1.358089   \n",
       "...                                ...                               ...   \n",
       "3362                          1.020685                          1.034698   \n",
       "3363                          1.020160                          1.034144   \n",
       "3364                          1.017477                          1.033201   \n",
       "3365                          1.014317                          1.032116   \n",
       "3366                          1.010387                          1.030824   \n",
       "\n",
       "      120_days_exp_rolling_mean_pricing  \n",
       "0                              1.344919  \n",
       "1                              1.345608  \n",
       "2                              1.346439  \n",
       "3                              1.347493  \n",
       "4                              1.348310  \n",
       "...                                 ...  \n",
       "3362                           1.057130  \n",
       "3363                           1.056479  \n",
       "3364                           1.055635  \n",
       "3365                           1.054717  \n",
       "3366                           1.053692  \n",
       "\n",
       "[3367 rows x 9 columns]"
      ]
     },
     "execution_count": 7,
     "metadata": {},
     "output_type": "execute_result"
    }
   ],
   "source": [
    "predictors_eur_pricing = predictors[[column for column in predictors.columns if \"rolling_mean_\" in column or \"previous_eur_pricing\" in column]]\n",
    "predictors_eur_pricing"
   ]
  },
  {
   "cell_type": "markdown",
   "id": "5973442a",
   "metadata": {},
   "source": [
    "Select predictors related to Twitter sentiment:"
   ]
  },
  {
   "cell_type": "code",
   "execution_count": 8,
   "id": "cc53cc78",
   "metadata": {
    "scrolled": true
   },
   "outputs": [
    {
     "data": {
      "text/html": [
       "<div>\n",
       "<style scoped>\n",
       "    .dataframe tbody tr th:only-of-type {\n",
       "        vertical-align: middle;\n",
       "    }\n",
       "\n",
       "    .dataframe tbody tr th {\n",
       "        vertical-align: top;\n",
       "    }\n",
       "\n",
       "    .dataframe thead th {\n",
       "        text-align: right;\n",
       "    }\n",
       "</style>\n",
       "<table border=\"1\" class=\"dataframe\">\n",
       "  <thead>\n",
       "    <tr style=\"text-align: right;\">\n",
       "      <th></th>\n",
       "      <th>quantile_0.05_sent_eur_previous_1_days</th>\n",
       "      <th>quantile_0.1_sent_eur_previous_1_days</th>\n",
       "      <th>quantile_0.2_sent_eur_previous_1_days</th>\n",
       "      <th>quantile_0.3_sent_eur_previous_1_days</th>\n",
       "      <th>quantile_0.4_sent_eur_previous_1_days</th>\n",
       "      <th>quantile_0.5_sent_eur_previous_1_days</th>\n",
       "      <th>quantile_0.6_sent_eur_previous_1_days</th>\n",
       "      <th>quantile_0.7_sent_eur_previous_1_days</th>\n",
       "      <th>quantile_0.8_sent_eur_previous_1_days</th>\n",
       "      <th>quantile_0.9_sent_eur_previous_1_days</th>\n",
       "      <th>...</th>\n",
       "      <th>quantile_0.95_sent_usd_previous_15_days</th>\n",
       "      <th>mean_sent_usd_previous_15_days</th>\n",
       "      <th>min_sent_usd_previous_15_days</th>\n",
       "      <th>max_sent_usd_previous_15_days</th>\n",
       "      <th>sum_sent_usd_previous_15_days</th>\n",
       "      <th>count_sent_usd_previous_15_days</th>\n",
       "      <th>range_sent_usd_previous_15_days</th>\n",
       "      <th>var_sent_usd_previous_15_days</th>\n",
       "      <th>std_sent_usd_previous_15_days</th>\n",
       "      <th>iqr_sent_usd_previous_15_days</th>\n",
       "    </tr>\n",
       "  </thead>\n",
       "  <tbody>\n",
       "    <tr>\n",
       "      <th>0</th>\n",
       "      <td>-0.593980</td>\n",
       "      <td>-0.45286</td>\n",
       "      <td>-0.42150</td>\n",
       "      <td>-0.37929</td>\n",
       "      <td>-0.14448</td>\n",
       "      <td>0.0</td>\n",
       "      <td>0.01032</td>\n",
       "      <td>0.13863</td>\n",
       "      <td>0.40190</td>\n",
       "      <td>0.42964</td>\n",
       "      <td>...</td>\n",
       "      <td>0.245880</td>\n",
       "      <td>0.091067</td>\n",
       "      <td>-0.0000</td>\n",
       "      <td>0.2732</td>\n",
       "      <td>0.2732</td>\n",
       "      <td>3.0</td>\n",
       "      <td>0.2732</td>\n",
       "      <td>0.024879</td>\n",
       "      <td>0.128788</td>\n",
       "      <td>0.136600</td>\n",
       "    </tr>\n",
       "    <tr>\n",
       "      <th>1</th>\n",
       "      <td>-0.868900</td>\n",
       "      <td>-0.86890</td>\n",
       "      <td>-0.48648</td>\n",
       "      <td>0.00000</td>\n",
       "      <td>0.00000</td>\n",
       "      <td>0.0</td>\n",
       "      <td>0.00000</td>\n",
       "      <td>0.00000</td>\n",
       "      <td>0.02054</td>\n",
       "      <td>0.51673</td>\n",
       "      <td>...</td>\n",
       "      <td>0.480525</td>\n",
       "      <td>0.185367</td>\n",
       "      <td>-0.0000</td>\n",
       "      <td>0.4939</td>\n",
       "      <td>1.1122</td>\n",
       "      <td>6.0</td>\n",
       "      <td>0.4939</td>\n",
       "      <td>0.052675</td>\n",
       "      <td>0.209513</td>\n",
       "      <td>0.374775</td>\n",
       "    </tr>\n",
       "    <tr>\n",
       "      <th>2</th>\n",
       "      <td>-0.664245</td>\n",
       "      <td>-0.42874</td>\n",
       "      <td>0.00000</td>\n",
       "      <td>0.00000</td>\n",
       "      <td>0.00000</td>\n",
       "      <td>0.0</td>\n",
       "      <td>0.00000</td>\n",
       "      <td>0.00000</td>\n",
       "      <td>0.00000</td>\n",
       "      <td>0.00000</td>\n",
       "      <td>...</td>\n",
       "      <td>0.223290</td>\n",
       "      <td>-0.051267</td>\n",
       "      <td>-0.4019</td>\n",
       "      <td>0.2481</td>\n",
       "      <td>-0.1538</td>\n",
       "      <td>3.0</td>\n",
       "      <td>0.6500</td>\n",
       "      <td>0.107596</td>\n",
       "      <td>0.267826</td>\n",
       "      <td>0.325000</td>\n",
       "    </tr>\n",
       "    <tr>\n",
       "      <th>3</th>\n",
       "      <td>-0.860135</td>\n",
       "      <td>-0.73678</td>\n",
       "      <td>-0.47670</td>\n",
       "      <td>-0.40959</td>\n",
       "      <td>-0.28688</td>\n",
       "      <td>0.0</td>\n",
       "      <td>0.00000</td>\n",
       "      <td>0.00000</td>\n",
       "      <td>0.00000</td>\n",
       "      <td>0.39768</td>\n",
       "      <td>...</td>\n",
       "      <td>0.447560</td>\n",
       "      <td>-0.101237</td>\n",
       "      <td>-0.8622</td>\n",
       "      <td>0.7814</td>\n",
       "      <td>-4.9606</td>\n",
       "      <td>49.0</td>\n",
       "      <td>1.6436</td>\n",
       "      <td>0.140303</td>\n",
       "      <td>0.370729</td>\n",
       "      <td>0.509800</td>\n",
       "    </tr>\n",
       "    <tr>\n",
       "      <th>4</th>\n",
       "      <td>-0.930000</td>\n",
       "      <td>-0.92862</td>\n",
       "      <td>-0.83328</td>\n",
       "      <td>-0.50286</td>\n",
       "      <td>-0.05160</td>\n",
       "      <td>0.0</td>\n",
       "      <td>0.10270</td>\n",
       "      <td>0.22630</td>\n",
       "      <td>0.51306</td>\n",
       "      <td>0.64860</td>\n",
       "      <td>...</td>\n",
       "      <td>0.701780</td>\n",
       "      <td>0.361800</td>\n",
       "      <td>-0.0516</td>\n",
       "      <td>0.7351</td>\n",
       "      <td>1.0854</td>\n",
       "      <td>3.0</td>\n",
       "      <td>0.7867</td>\n",
       "      <td>0.155930</td>\n",
       "      <td>0.322418</td>\n",
       "      <td>0.393350</td>\n",
       "    </tr>\n",
       "    <tr>\n",
       "      <th>...</th>\n",
       "      <td>...</td>\n",
       "      <td>...</td>\n",
       "      <td>...</td>\n",
       "      <td>...</td>\n",
       "      <td>...</td>\n",
       "      <td>...</td>\n",
       "      <td>...</td>\n",
       "      <td>...</td>\n",
       "      <td>...</td>\n",
       "      <td>...</td>\n",
       "      <td>...</td>\n",
       "      <td>...</td>\n",
       "      <td>...</td>\n",
       "      <td>...</td>\n",
       "      <td>...</td>\n",
       "      <td>...</td>\n",
       "      <td>...</td>\n",
       "      <td>...</td>\n",
       "      <td>...</td>\n",
       "      <td>...</td>\n",
       "      <td>...</td>\n",
       "    </tr>\n",
       "    <tr>\n",
       "      <th>3362</th>\n",
       "      <td>-0.831600</td>\n",
       "      <td>-0.70970</td>\n",
       "      <td>-0.54230</td>\n",
       "      <td>-0.27390</td>\n",
       "      <td>0.00000</td>\n",
       "      <td>0.0</td>\n",
       "      <td>0.17790</td>\n",
       "      <td>0.17790</td>\n",
       "      <td>0.42010</td>\n",
       "      <td>0.63770</td>\n",
       "      <td>...</td>\n",
       "      <td>0.681800</td>\n",
       "      <td>-0.019531</td>\n",
       "      <td>-0.9097</td>\n",
       "      <td>0.9337</td>\n",
       "      <td>-10.4688</td>\n",
       "      <td>536.0</td>\n",
       "      <td>1.8434</td>\n",
       "      <td>0.187248</td>\n",
       "      <td>0.432318</td>\n",
       "      <td>0.636000</td>\n",
       "    </tr>\n",
       "    <tr>\n",
       "      <th>3363</th>\n",
       "      <td>-0.798310</td>\n",
       "      <td>-0.67050</td>\n",
       "      <td>-0.45636</td>\n",
       "      <td>-0.27320</td>\n",
       "      <td>0.00000</td>\n",
       "      <td>0.0</td>\n",
       "      <td>0.17790</td>\n",
       "      <td>0.26918</td>\n",
       "      <td>0.44040</td>\n",
       "      <td>0.64852</td>\n",
       "      <td>...</td>\n",
       "      <td>0.730185</td>\n",
       "      <td>-0.025299</td>\n",
       "      <td>-0.9628</td>\n",
       "      <td>0.9118</td>\n",
       "      <td>-9.5631</td>\n",
       "      <td>378.0</td>\n",
       "      <td>1.8746</td>\n",
       "      <td>0.192509</td>\n",
       "      <td>0.438177</td>\n",
       "      <td>0.677350</td>\n",
       "    </tr>\n",
       "    <tr>\n",
       "      <th>3364</th>\n",
       "      <td>-0.848100</td>\n",
       "      <td>-0.79559</td>\n",
       "      <td>-0.62490</td>\n",
       "      <td>-0.44865</td>\n",
       "      <td>-0.23486</td>\n",
       "      <td>0.0</td>\n",
       "      <td>0.03332</td>\n",
       "      <td>0.31820</td>\n",
       "      <td>0.46238</td>\n",
       "      <td>0.73583</td>\n",
       "      <td>...</td>\n",
       "      <td>0.726750</td>\n",
       "      <td>-0.034770</td>\n",
       "      <td>-0.9309</td>\n",
       "      <td>0.9267</td>\n",
       "      <td>-5.9457</td>\n",
       "      <td>171.0</td>\n",
       "      <td>1.8576</td>\n",
       "      <td>0.192045</td>\n",
       "      <td>0.436946</td>\n",
       "      <td>0.626700</td>\n",
       "    </tr>\n",
       "    <tr>\n",
       "      <th>3365</th>\n",
       "      <td>-0.825720</td>\n",
       "      <td>-0.70858</td>\n",
       "      <td>-0.55438</td>\n",
       "      <td>-0.36120</td>\n",
       "      <td>-0.12800</td>\n",
       "      <td>0.0</td>\n",
       "      <td>0.03186</td>\n",
       "      <td>0.29456</td>\n",
       "      <td>0.44040</td>\n",
       "      <td>0.66402</td>\n",
       "      <td>...</td>\n",
       "      <td>0.700300</td>\n",
       "      <td>-0.062026</td>\n",
       "      <td>-0.9134</td>\n",
       "      <td>0.9690</td>\n",
       "      <td>-28.6558</td>\n",
       "      <td>462.0</td>\n",
       "      <td>1.8824</td>\n",
       "      <td>0.197261</td>\n",
       "      <td>0.443659</td>\n",
       "      <td>0.681550</td>\n",
       "    </tr>\n",
       "    <tr>\n",
       "      <th>3366</th>\n",
       "      <td>-0.822545</td>\n",
       "      <td>-0.72929</td>\n",
       "      <td>-0.57190</td>\n",
       "      <td>-0.37921</td>\n",
       "      <td>-0.07720</td>\n",
       "      <td>0.0</td>\n",
       "      <td>0.14698</td>\n",
       "      <td>0.40190</td>\n",
       "      <td>0.51060</td>\n",
       "      <td>0.68243</td>\n",
       "      <td>...</td>\n",
       "      <td>0.756075</td>\n",
       "      <td>0.001590</td>\n",
       "      <td>-0.9136</td>\n",
       "      <td>0.9305</td>\n",
       "      <td>0.5818</td>\n",
       "      <td>366.0</td>\n",
       "      <td>1.8441</td>\n",
       "      <td>0.191144</td>\n",
       "      <td>0.436603</td>\n",
       "      <td>0.674925</td>\n",
       "    </tr>\n",
       "  </tbody>\n",
       "</table>\n",
       "<p>3367 rows × 600 columns</p>\n",
       "</div>"
      ],
      "text/plain": [
       "      quantile_0.05_sent_eur_previous_1_days  \\\n",
       "0                                  -0.593980   \n",
       "1                                  -0.868900   \n",
       "2                                  -0.664245   \n",
       "3                                  -0.860135   \n",
       "4                                  -0.930000   \n",
       "...                                      ...   \n",
       "3362                               -0.831600   \n",
       "3363                               -0.798310   \n",
       "3364                               -0.848100   \n",
       "3365                               -0.825720   \n",
       "3366                               -0.822545   \n",
       "\n",
       "      quantile_0.1_sent_eur_previous_1_days  \\\n",
       "0                                  -0.45286   \n",
       "1                                  -0.86890   \n",
       "2                                  -0.42874   \n",
       "3                                  -0.73678   \n",
       "4                                  -0.92862   \n",
       "...                                     ...   \n",
       "3362                               -0.70970   \n",
       "3363                               -0.67050   \n",
       "3364                               -0.79559   \n",
       "3365                               -0.70858   \n",
       "3366                               -0.72929   \n",
       "\n",
       "      quantile_0.2_sent_eur_previous_1_days  \\\n",
       "0                                  -0.42150   \n",
       "1                                  -0.48648   \n",
       "2                                   0.00000   \n",
       "3                                  -0.47670   \n",
       "4                                  -0.83328   \n",
       "...                                     ...   \n",
       "3362                               -0.54230   \n",
       "3363                               -0.45636   \n",
       "3364                               -0.62490   \n",
       "3365                               -0.55438   \n",
       "3366                               -0.57190   \n",
       "\n",
       "      quantile_0.3_sent_eur_previous_1_days  \\\n",
       "0                                  -0.37929   \n",
       "1                                   0.00000   \n",
       "2                                   0.00000   \n",
       "3                                  -0.40959   \n",
       "4                                  -0.50286   \n",
       "...                                     ...   \n",
       "3362                               -0.27390   \n",
       "3363                               -0.27320   \n",
       "3364                               -0.44865   \n",
       "3365                               -0.36120   \n",
       "3366                               -0.37921   \n",
       "\n",
       "      quantile_0.4_sent_eur_previous_1_days  \\\n",
       "0                                  -0.14448   \n",
       "1                                   0.00000   \n",
       "2                                   0.00000   \n",
       "3                                  -0.28688   \n",
       "4                                  -0.05160   \n",
       "...                                     ...   \n",
       "3362                                0.00000   \n",
       "3363                                0.00000   \n",
       "3364                               -0.23486   \n",
       "3365                               -0.12800   \n",
       "3366                               -0.07720   \n",
       "\n",
       "      quantile_0.5_sent_eur_previous_1_days  \\\n",
       "0                                       0.0   \n",
       "1                                       0.0   \n",
       "2                                       0.0   \n",
       "3                                       0.0   \n",
       "4                                       0.0   \n",
       "...                                     ...   \n",
       "3362                                    0.0   \n",
       "3363                                    0.0   \n",
       "3364                                    0.0   \n",
       "3365                                    0.0   \n",
       "3366                                    0.0   \n",
       "\n",
       "      quantile_0.6_sent_eur_previous_1_days  \\\n",
       "0                                   0.01032   \n",
       "1                                   0.00000   \n",
       "2                                   0.00000   \n",
       "3                                   0.00000   \n",
       "4                                   0.10270   \n",
       "...                                     ...   \n",
       "3362                                0.17790   \n",
       "3363                                0.17790   \n",
       "3364                                0.03332   \n",
       "3365                                0.03186   \n",
       "3366                                0.14698   \n",
       "\n",
       "      quantile_0.7_sent_eur_previous_1_days  \\\n",
       "0                                   0.13863   \n",
       "1                                   0.00000   \n",
       "2                                   0.00000   \n",
       "3                                   0.00000   \n",
       "4                                   0.22630   \n",
       "...                                     ...   \n",
       "3362                                0.17790   \n",
       "3363                                0.26918   \n",
       "3364                                0.31820   \n",
       "3365                                0.29456   \n",
       "3366                                0.40190   \n",
       "\n",
       "      quantile_0.8_sent_eur_previous_1_days  \\\n",
       "0                                   0.40190   \n",
       "1                                   0.02054   \n",
       "2                                   0.00000   \n",
       "3                                   0.00000   \n",
       "4                                   0.51306   \n",
       "...                                     ...   \n",
       "3362                                0.42010   \n",
       "3363                                0.44040   \n",
       "3364                                0.46238   \n",
       "3365                                0.44040   \n",
       "3366                                0.51060   \n",
       "\n",
       "      quantile_0.9_sent_eur_previous_1_days  ...  \\\n",
       "0                                   0.42964  ...   \n",
       "1                                   0.51673  ...   \n",
       "2                                   0.00000  ...   \n",
       "3                                   0.39768  ...   \n",
       "4                                   0.64860  ...   \n",
       "...                                     ...  ...   \n",
       "3362                                0.63770  ...   \n",
       "3363                                0.64852  ...   \n",
       "3364                                0.73583  ...   \n",
       "3365                                0.66402  ...   \n",
       "3366                                0.68243  ...   \n",
       "\n",
       "      quantile_0.95_sent_usd_previous_15_days  mean_sent_usd_previous_15_days  \\\n",
       "0                                    0.245880                        0.091067   \n",
       "1                                    0.480525                        0.185367   \n",
       "2                                    0.223290                       -0.051267   \n",
       "3                                    0.447560                       -0.101237   \n",
       "4                                    0.701780                        0.361800   \n",
       "...                                       ...                             ...   \n",
       "3362                                 0.681800                       -0.019531   \n",
       "3363                                 0.730185                       -0.025299   \n",
       "3364                                 0.726750                       -0.034770   \n",
       "3365                                 0.700300                       -0.062026   \n",
       "3366                                 0.756075                        0.001590   \n",
       "\n",
       "      min_sent_usd_previous_15_days  max_sent_usd_previous_15_days  \\\n",
       "0                           -0.0000                         0.2732   \n",
       "1                           -0.0000                         0.4939   \n",
       "2                           -0.4019                         0.2481   \n",
       "3                           -0.8622                         0.7814   \n",
       "4                           -0.0516                         0.7351   \n",
       "...                             ...                            ...   \n",
       "3362                        -0.9097                         0.9337   \n",
       "3363                        -0.9628                         0.9118   \n",
       "3364                        -0.9309                         0.9267   \n",
       "3365                        -0.9134                         0.9690   \n",
       "3366                        -0.9136                         0.9305   \n",
       "\n",
       "      sum_sent_usd_previous_15_days  count_sent_usd_previous_15_days  \\\n",
       "0                            0.2732                              3.0   \n",
       "1                            1.1122                              6.0   \n",
       "2                           -0.1538                              3.0   \n",
       "3                           -4.9606                             49.0   \n",
       "4                            1.0854                              3.0   \n",
       "...                             ...                              ...   \n",
       "3362                       -10.4688                            536.0   \n",
       "3363                        -9.5631                            378.0   \n",
       "3364                        -5.9457                            171.0   \n",
       "3365                       -28.6558                            462.0   \n",
       "3366                         0.5818                            366.0   \n",
       "\n",
       "      range_sent_usd_previous_15_days  var_sent_usd_previous_15_days  \\\n",
       "0                              0.2732                       0.024879   \n",
       "1                              0.4939                       0.052675   \n",
       "2                              0.6500                       0.107596   \n",
       "3                              1.6436                       0.140303   \n",
       "4                              0.7867                       0.155930   \n",
       "...                               ...                            ...   \n",
       "3362                           1.8434                       0.187248   \n",
       "3363                           1.8746                       0.192509   \n",
       "3364                           1.8576                       0.192045   \n",
       "3365                           1.8824                       0.197261   \n",
       "3366                           1.8441                       0.191144   \n",
       "\n",
       "      std_sent_usd_previous_15_days  iqr_sent_usd_previous_15_days  \n",
       "0                          0.128788                       0.136600  \n",
       "1                          0.209513                       0.374775  \n",
       "2                          0.267826                       0.325000  \n",
       "3                          0.370729                       0.509800  \n",
       "4                          0.322418                       0.393350  \n",
       "...                             ...                            ...  \n",
       "3362                       0.432318                       0.636000  \n",
       "3363                       0.438177                       0.677350  \n",
       "3364                       0.436946                       0.626700  \n",
       "3365                       0.443659                       0.681550  \n",
       "3366                       0.436603                       0.674925  \n",
       "\n",
       "[3367 rows x 600 columns]"
      ]
     },
     "execution_count": 8,
     "metadata": {},
     "output_type": "execute_result"
    }
   ],
   "source": [
    "predictors_twitter = predictors[[column for column in predictors.columns if \"previous_eur_pricing\" not in column and \"rolling_mean\" not in column]]\n",
    "predictors_twitter"
   ]
  },
  {
   "cell_type": "markdown",
   "id": "a9f0b922",
   "metadata": {},
   "source": [
    "Convert the response variable, which is the EUR/USD exchange rate, and the predictors to numpy arrays:"
   ]
  },
  {
   "cell_type": "code",
   "execution_count": 9,
   "id": "5c69e552",
   "metadata": {
    "scrolled": true
   },
   "outputs": [],
   "source": [
    "y = df_merged[\"eur_usd_rate\"].values\n",
    "X = predictors.values #all predictors\n",
    "X_eur_pricing = predictors_eur_pricing.values #eur pricing predictors\n",
    "X_twitter = predictors_twitter.values #twitter sentiment predictors"
   ]
  },
  {
   "cell_type": "code",
   "execution_count": 10,
   "id": "3ee85a4b",
   "metadata": {
    "scrolled": true
   },
   "outputs": [
    {
     "name": "stdout",
     "output_type": "stream",
     "text": [
      "(3367,)\n",
      "(3367, 609)\n",
      "(3367, 9)\n",
      "(3367, 600)\n"
     ]
    }
   ],
   "source": [
    "print(y.shape)\n",
    "print(X.shape)\n",
    "print(X_eur_pricing.shape)\n",
    "print(X_twitter.shape)"
   ]
  },
  {
   "cell_type": "code",
   "execution_count": 11,
   "id": "8e8fec71",
   "metadata": {},
   "outputs": [
    {
     "data": {
      "text/plain": [
       "'columns in X are a combination of X_eur_pricing and X_twitter? True'"
      ]
     },
     "execution_count": 11,
     "metadata": {},
     "output_type": "execute_result"
    }
   ],
   "source": [
    "f\"columns in X are a combination of X_eur_pricing and X_twitter? {X.shape[1] == X_eur_pricing.shape[1] + X_twitter.shape[1]}\""
   ]
  },
  {
   "cell_type": "markdown",
   "id": "93380651",
   "metadata": {},
   "source": [
    "## Compare regression models with default parameters"
   ]
  },
  {
   "cell_type": "markdown",
   "id": "bd4de339",
   "metadata": {},
   "source": [
    "Comparison of mulitple models recommended for regression problems with less than 100K observations ([scikit learn flowchart](https://scikit-learn.org/stable/tutorial/machine_learning_map/index.html)). In each case, three models will be fitted, a full model with all predictors, a model with only EUR pricing predictors and a model with only Twitter sentiment predictors."
   ]
  },
  {
   "cell_type": "markdown",
   "id": "5bfb7d92",
   "metadata": {},
   "source": [
    "First, calculate the predictive power (R<sup>2</sup>) models using Cross Validation. In particular, using ShuffleSplit in order to create random splits for training and test sets. These splits will be used in `cross_val_score` to calculate the R<sup>2</sup> in each test set."
   ]
  },
  {
   "cell_type": "code",
   "execution_count": 12,
   "id": "31f90798",
   "metadata": {},
   "outputs": [],
   "source": [
    "from sklearn.model_selection import ShuffleSplit\n",
    "shuffle_split = ShuffleSplit(n_splits=5, test_size=0.3, random_state=1)"
   ]
  },
  {
   "cell_type": "markdown",
   "id": "0f42819e",
   "metadata": {},
   "source": [
    "### Regression models for few important features"
   ]
  },
  {
   "cell_type": "markdown",
   "id": "12b2c918",
   "metadata": {},
   "source": [
    "Given the lack of previous knowledge about whether one or multiple Twitter predictors should be relevant in the prediction, models with better performance in both scenarios will be tested. This section will show those recommended for cases with just a few important features:"
   ]
  },
  {
   "cell_type": "markdown",
   "id": "8df0ef6b",
   "metadata": {},
   "source": [
    "#### Lasso"
   ]
  },
  {
   "cell_type": "code",
   "execution_count": 13,
   "id": "4c573657",
   "metadata": {},
   "outputs": [
    {
     "name": "stdout",
     "output_type": "stream",
     "text": [
      "R2 for the full model:\n"
     ]
    },
    {
     "data": {
      "text/plain": [
       "0.39566469945020427"
      ]
     },
     "execution_count": 13,
     "metadata": {},
     "output_type": "execute_result"
    }
   ],
   "source": [
    "from sklearn.linear_model import Lasso\n",
    "from sklearn.model_selection import cross_val_score\n",
    "print(\"R2 for the full model:\")\n",
    "np.mean(cross_val_score(estimator=Lasso(), \n",
    "                        X=X, \n",
    "                        y=y, \n",
    "                        cv=shuffle_split, \n",
    "                        scoring=\"r2\",\n",
    "                        n_jobs=5))"
   ]
  },
  {
   "cell_type": "code",
   "execution_count": 14,
   "id": "ae2b1031",
   "metadata": {},
   "outputs": [
    {
     "name": "stdout",
     "output_type": "stream",
     "text": [
      "R2 for the EUR-only model:\n"
     ]
    },
    {
     "data": {
      "text/plain": [
       "-0.0007626642910206094"
      ]
     },
     "execution_count": 14,
     "metadata": {},
     "output_type": "execute_result"
    }
   ],
   "source": [
    "print(\"R2 for the EUR-only model:\")\n",
    "np.mean(cross_val_score(estimator=Lasso(), \n",
    "                        X=X_eur_pricing, \n",
    "                        y=y, \n",
    "                        cv=shuffle_split, \n",
    "                        scoring=\"r2\",\n",
    "                        n_jobs=5))"
   ]
  },
  {
   "cell_type": "code",
   "execution_count": 15,
   "id": "6a929659",
   "metadata": {},
   "outputs": [
    {
     "name": "stdout",
     "output_type": "stream",
     "text": [
      "R2 for the Twitter-only model:\n"
     ]
    },
    {
     "data": {
      "text/plain": [
       "0.39566469945020427"
      ]
     },
     "execution_count": 15,
     "metadata": {},
     "output_type": "execute_result"
    }
   ],
   "source": [
    "print(\"R2 for the Twitter-only model:\")\n",
    "np.mean(cross_val_score(estimator=Lasso(), \n",
    "                        X=X_twitter, \n",
    "                        y=y, \n",
    "                        cv=shuffle_split, \n",
    "                        scoring=\"r2\",\n",
    "                        n_jobs=5))"
   ]
  },
  {
   "cell_type": "markdown",
   "id": "ab0fec10",
   "metadata": {},
   "source": [
    "#### Elastic net"
   ]
  },
  {
   "cell_type": "code",
   "execution_count": 16,
   "id": "da0b66c5",
   "metadata": {},
   "outputs": [
    {
     "name": "stdout",
     "output_type": "stream",
     "text": [
      "R2 for the full model:\n"
     ]
    },
    {
     "data": {
      "text/plain": [
       "0.4339773097125318"
      ]
     },
     "execution_count": 16,
     "metadata": {},
     "output_type": "execute_result"
    }
   ],
   "source": [
    "from sklearn.linear_model import ElasticNet\n",
    "print(\"R2 for the full model:\")\n",
    "np.mean(cross_val_score(estimator=ElasticNet(), \n",
    "                        X=X, \n",
    "                        y=y, \n",
    "                        cv=shuffle_split, \n",
    "                        scoring=\"r2\",\n",
    "                        n_jobs=5))"
   ]
  },
  {
   "cell_type": "code",
   "execution_count": 17,
   "id": "4de239c8",
   "metadata": {},
   "outputs": [
    {
     "name": "stdout",
     "output_type": "stream",
     "text": [
      "R2 for the EUR-only model:\n"
     ]
    },
    {
     "data": {
      "text/plain": [
       "-0.0007626642910206094"
      ]
     },
     "execution_count": 17,
     "metadata": {},
     "output_type": "execute_result"
    }
   ],
   "source": [
    "print(\"R2 for the EUR-only model:\")\n",
    "np.mean(cross_val_score(estimator=ElasticNet(), \n",
    "                        X=X_eur_pricing, \n",
    "                        y=y, \n",
    "                        cv=shuffle_split, \n",
    "                        scoring=\"r2\",\n",
    "                        n_jobs=5))"
   ]
  },
  {
   "cell_type": "code",
   "execution_count": 18,
   "id": "26d9d48f",
   "metadata": {
    "scrolled": true
   },
   "outputs": [
    {
     "name": "stdout",
     "output_type": "stream",
     "text": [
      "R2 for the Twitter-only model:\n"
     ]
    },
    {
     "data": {
      "text/plain": [
       "0.4339773097125318"
      ]
     },
     "execution_count": 18,
     "metadata": {},
     "output_type": "execute_result"
    }
   ],
   "source": [
    "print(\"R2 for the Twitter-only model:\")\n",
    "np.mean(cross_val_score(estimator=ElasticNet(), \n",
    "                        X=X_twitter, \n",
    "                        y=y, \n",
    "                        cv=shuffle_split, \n",
    "                        scoring=\"r2\",\n",
    "                        n_jobs=5))"
   ]
  },
  {
   "cell_type": "markdown",
   "id": "f8475a52",
   "metadata": {},
   "source": [
    "### Multiple important features"
   ]
  },
  {
   "cell_type": "markdown",
   "id": "ec738361",
   "metadata": {},
   "source": [
    "#### Ridge"
   ]
  },
  {
   "cell_type": "code",
   "execution_count": 19,
   "id": "911fe7e0",
   "metadata": {},
   "outputs": [
    {
     "name": "stdout",
     "output_type": "stream",
     "text": [
      "R2 for the full model:\n"
     ]
    },
    {
     "data": {
      "text/plain": [
       "0.9927989059836312"
      ]
     },
     "execution_count": 19,
     "metadata": {},
     "output_type": "execute_result"
    }
   ],
   "source": [
    "from sklearn.linear_model import Ridge\n",
    "print(\"R2 for the full model:\")\n",
    "np.mean(cross_val_score(estimator=Ridge(), \n",
    "                        X=X, \n",
    "                        y=y, \n",
    "                        cv=shuffle_split, \n",
    "                        scoring=\"r2\",\n",
    "                        n_jobs=5))"
   ]
  },
  {
   "cell_type": "code",
   "execution_count": 20,
   "id": "0f697496",
   "metadata": {},
   "outputs": [
    {
     "name": "stdout",
     "output_type": "stream",
     "text": [
      "R2 for the EUR-only model:\n"
     ]
    },
    {
     "data": {
      "text/plain": [
       "0.994532862029738"
      ]
     },
     "execution_count": 20,
     "metadata": {},
     "output_type": "execute_result"
    }
   ],
   "source": [
    "print(\"R2 for the EUR-only model:\")\n",
    "np.mean(cross_val_score(estimator=Ridge(), \n",
    "                        X=X_eur_pricing, \n",
    "                        y=y, \n",
    "                        cv=shuffle_split, \n",
    "                        scoring=\"r2\",\n",
    "                        n_jobs=5))"
   ]
  },
  {
   "cell_type": "code",
   "execution_count": 21,
   "id": "c0f72dd7",
   "metadata": {
    "scrolled": true
   },
   "outputs": [
    {
     "name": "stdout",
     "output_type": "stream",
     "text": [
      "R2 for the Twitter-only model:\n"
     ]
    },
    {
     "data": {
      "text/plain": [
       "0.658829653121915"
      ]
     },
     "execution_count": 21,
     "metadata": {},
     "output_type": "execute_result"
    }
   ],
   "source": [
    "print(\"R2 for the Twitter-only model:\")\n",
    "np.mean(cross_val_score(estimator=Ridge(), \n",
    "                        X=X_twitter, \n",
    "                        y=y, \n",
    "                        cv=shuffle_split, \n",
    "                        scoring=\"r2\",\n",
    "                        n_jobs=5))"
   ]
  },
  {
   "cell_type": "markdown",
   "id": "c5d22a0c",
   "metadata": {},
   "source": [
    "#### Supporting Vector Machines linear"
   ]
  },
  {
   "cell_type": "code",
   "execution_count": null,
   "id": "943dcc51",
   "metadata": {},
   "outputs": [
    {
     "name": "stdout",
     "output_type": "stream",
     "text": [
      "R2 for the full model:\n"
     ]
    }
   ],
   "source": [
    "from sklearn.svm import SVR\n",
    "print(\"R2 for the full model:\")\n",
    "np.mean(cross_val_score(estimator=SVR(kernel=\"linear\"), \n",
    "                        X=X, \n",
    "                        y=y, \n",
    "                        cv=shuffle_split, \n",
    "                        scoring=\"r2\",\n",
    "                        n_jobs=5))"
   ]
  },
  {
   "cell_type": "code",
   "execution_count": null,
   "id": "07431e42",
   "metadata": {},
   "outputs": [],
   "source": [
    "print(\"R2 for the EUR-only model:\")\n",
    "np.mean(cross_val_score(estimator=SVR(kernel=\"linear\"), \n",
    "                        X=X_eur_pricing, \n",
    "                        y=y, \n",
    "                        cv=shuffle_split, \n",
    "                        scoring=\"r2\",\n",
    "                        n_jobs=5))"
   ]
  },
  {
   "cell_type": "code",
   "execution_count": null,
   "id": "86a1fa83",
   "metadata": {
    "scrolled": true
   },
   "outputs": [],
   "source": [
    "print(\"R2 for the Twitter-only model:\")\n",
    "np.mean(cross_val_score(estimator=SVR(kernel=\"linear\"), \n",
    "                        X=X_twitter, \n",
    "                        y=y, \n",
    "                        cv=shuffle_split, \n",
    "                        scoring=\"r2\",\n",
    "                        n_jobs=5))"
   ]
  },
  {
   "cell_type": "markdown",
   "id": "dfdda17c",
   "metadata": {},
   "source": [
    "#### Supporting Vector Machines non-linear"
   ]
  },
  {
   "cell_type": "code",
   "execution_count": 22,
   "id": "e5e27ac2",
   "metadata": {},
   "outputs": [
    {
     "name": "stdout",
     "output_type": "stream",
     "text": [
      "R2 for the full model:\n"
     ]
    },
    {
     "data": {
      "text/plain": [
       "0.5682845612266301"
      ]
     },
     "execution_count": 22,
     "metadata": {},
     "output_type": "execute_result"
    }
   ],
   "source": [
    "from sklearn.svm import SVR\n",
    "print(\"R2 for the full model:\")\n",
    "np.mean(cross_val_score(estimator=SVR(kernel=\"rbf\"), \n",
    "                        X=X, \n",
    "                        y=y, \n",
    "                        cv=shuffle_split, \n",
    "                        scoring=\"r2\",\n",
    "                        n_jobs=5))"
   ]
  },
  {
   "cell_type": "code",
   "execution_count": 23,
   "id": "0e0bca48",
   "metadata": {},
   "outputs": [
    {
     "name": "stdout",
     "output_type": "stream",
     "text": [
      "R2 for the EUR-only model:\n"
     ]
    },
    {
     "data": {
      "text/plain": [
       "0.8859508822048323"
      ]
     },
     "execution_count": 23,
     "metadata": {},
     "output_type": "execute_result"
    }
   ],
   "source": [
    "print(\"R2 for the EUR-only model:\")\n",
    "np.mean(cross_val_score(estimator=SVR(kernel=\"rbf\"), \n",
    "                        X=X_eur_pricing, \n",
    "                        y=y, \n",
    "                        cv=shuffle_split, \n",
    "                        scoring=\"r2\",\n",
    "                        n_jobs=5))"
   ]
  },
  {
   "cell_type": "code",
   "execution_count": 24,
   "id": "fa0d4e37",
   "metadata": {
    "scrolled": true
   },
   "outputs": [
    {
     "name": "stdout",
     "output_type": "stream",
     "text": [
      "R2 for the Twitter-only model:\n"
     ]
    },
    {
     "data": {
      "text/plain": [
       "0.5682845791597761"
      ]
     },
     "execution_count": 24,
     "metadata": {},
     "output_type": "execute_result"
    }
   ],
   "source": [
    "print(\"R2 for the Twitter-only model:\")\n",
    "np.mean(cross_val_score(estimator=SVR(kernel=\"rbf\"), \n",
    "                        X=X_twitter, \n",
    "                        y=y, \n",
    "                        cv=shuffle_split, \n",
    "                        scoring=\"r2\",\n",
    "                        n_jobs=5))"
   ]
  },
  {
   "cell_type": "markdown",
   "id": "5ccce78b",
   "metadata": {},
   "source": [
    "#### Ensemble regressors"
   ]
  },
  {
   "cell_type": "markdown",
   "id": "4163c464",
   "metadata": {},
   "source": [
    "##### Random Forest"
   ]
  },
  {
   "cell_type": "code",
   "execution_count": 25,
   "id": "b2acf2e6",
   "metadata": {},
   "outputs": [
    {
     "name": "stdout",
     "output_type": "stream",
     "text": [
      "R2 for the full model:\n"
     ]
    },
    {
     "data": {
      "text/plain": [
       "0.9965666025378589"
      ]
     },
     "execution_count": 25,
     "metadata": {},
     "output_type": "execute_result"
    }
   ],
   "source": [
    "from sklearn.ensemble import RandomForestRegressor\n",
    "print(\"R2 for the full model:\")\n",
    "np.mean(cross_val_score(estimator=RandomForestRegressor(random_state=1), \n",
    "                        X=X, \n",
    "                        y=y, \n",
    "                        cv=shuffle_split, \n",
    "                        scoring=\"r2\",\n",
    "                        n_jobs=5))"
   ]
  },
  {
   "cell_type": "code",
   "execution_count": 26,
   "id": "5f75fb50",
   "metadata": {},
   "outputs": [
    {
     "name": "stdout",
     "output_type": "stream",
     "text": [
      "R2 for the EUR-only model:\n"
     ]
    },
    {
     "data": {
      "text/plain": [
       "0.9964007207530393"
      ]
     },
     "execution_count": 26,
     "metadata": {},
     "output_type": "execute_result"
    }
   ],
   "source": [
    "print(\"R2 for the EUR-only model:\")\n",
    "np.mean(cross_val_score(estimator=RandomForestRegressor(random_state=1),\n",
    "                        X=X_eur_pricing, \n",
    "                        y=y, \n",
    "                        cv=shuffle_split, \n",
    "                        scoring=\"r2\",\n",
    "                        n_jobs=5))"
   ]
  },
  {
   "cell_type": "code",
   "execution_count": 27,
   "id": "ff9696b8",
   "metadata": {
    "scrolled": true
   },
   "outputs": [
    {
     "name": "stdout",
     "output_type": "stream",
     "text": [
      "R2 for the Twitter-only model:\n"
     ]
    },
    {
     "data": {
      "text/plain": [
       "0.8153337261409161"
      ]
     },
     "execution_count": 27,
     "metadata": {},
     "output_type": "execute_result"
    }
   ],
   "source": [
    "print(\"R2 for the Twitter-only model:\")\n",
    "np.mean(cross_val_score(estimator=RandomForestRegressor(random_state=1),\n",
    "                        X=X_twitter, \n",
    "                        y=y, \n",
    "                        cv=shuffle_split, \n",
    "                        scoring=\"r2\",\n",
    "                        n_jobs=5))"
   ]
  },
  {
   "cell_type": "markdown",
   "id": "e7c582e5",
   "metadata": {},
   "source": [
    "##### Extra Trees Regressor"
   ]
  },
  {
   "cell_type": "code",
   "execution_count": 28,
   "id": "224b49a4",
   "metadata": {},
   "outputs": [
    {
     "name": "stdout",
     "output_type": "stream",
     "text": [
      "R2 for the full model:\n"
     ]
    },
    {
     "data": {
      "text/plain": [
       "0.9966581052766154"
      ]
     },
     "execution_count": 28,
     "metadata": {},
     "output_type": "execute_result"
    }
   ],
   "source": [
    "from sklearn.ensemble import ExtraTreesRegressor\n",
    "print(\"R2 for the full model:\")\n",
    "np.mean(cross_val_score(estimator=ExtraTreesRegressor(random_state=1), \n",
    "                        X=X, \n",
    "                        y=y,\n",
    "                        cv=shuffle_split, \n",
    "                        scoring=\"r2\",\n",
    "                        n_jobs=5))"
   ]
  },
  {
   "cell_type": "code",
   "execution_count": 29,
   "id": "c425255c",
   "metadata": {},
   "outputs": [
    {
     "name": "stdout",
     "output_type": "stream",
     "text": [
      "R2 for the EUR-only model:\n"
     ]
    },
    {
     "data": {
      "text/plain": [
       "0.9964122024670665"
      ]
     },
     "execution_count": 29,
     "metadata": {},
     "output_type": "execute_result"
    }
   ],
   "source": [
    "print(\"R2 for the EUR-only model:\")\n",
    "np.mean(cross_val_score(estimator=ExtraTreesRegressor(random_state=1),\n",
    "                        X=X_eur_pricing, \n",
    "                        y=y, \n",
    "                        cv=shuffle_split, \n",
    "                        scoring=\"r2\",\n",
    "                        n_jobs=5))"
   ]
  },
  {
   "cell_type": "code",
   "execution_count": 30,
   "id": "99f5d1be",
   "metadata": {
    "scrolled": true
   },
   "outputs": [
    {
     "name": "stdout",
     "output_type": "stream",
     "text": [
      "R2 for the Twitter-only model:\n"
     ]
    },
    {
     "data": {
      "text/plain": [
       "0.8302671551647759"
      ]
     },
     "execution_count": 30,
     "metadata": {},
     "output_type": "execute_result"
    }
   ],
   "source": [
    "print(\"R2 for the Twitter-only model:\")\n",
    "np.mean(cross_val_score(estimator=ExtraTreesRegressor(random_state=1),\n",
    "                        X=X_twitter, \n",
    "                        y=y, \n",
    "                        cv=shuffle_split, \n",
    "                        scoring=\"r2\",\n",
    "                        n_jobs=5))"
   ]
  },
  {
   "cell_type": "markdown",
   "id": "f34c0d6d",
   "metadata": {},
   "source": [
    "##### Gradient Boost"
   ]
  },
  {
   "cell_type": "code",
   "execution_count": 31,
   "id": "0e4b2438",
   "metadata": {},
   "outputs": [
    {
     "name": "stdout",
     "output_type": "stream",
     "text": [
      "R2 for the full model:\n"
     ]
    },
    {
     "data": {
      "text/plain": [
       "0.9965579999438605"
      ]
     },
     "execution_count": 31,
     "metadata": {},
     "output_type": "execute_result"
    }
   ],
   "source": [
    "from sklearn.ensemble import GradientBoostingRegressor\n",
    "print(\"R2 for the full model:\")\n",
    "np.mean(cross_val_score(estimator=GradientBoostingRegressor(random_state=1), \n",
    "                        X=X, \n",
    "                        y=y, \n",
    "                        cv=shuffle_split, \n",
    "                        scoring=\"r2\",\n",
    "                        n_jobs=5))"
   ]
  },
  {
   "cell_type": "code",
   "execution_count": 32,
   "id": "70e32ec3",
   "metadata": {},
   "outputs": [
    {
     "name": "stdout",
     "output_type": "stream",
     "text": [
      "R2 for the EUR-only model:\n"
     ]
    },
    {
     "data": {
      "text/plain": [
       "0.996630021114149"
      ]
     },
     "execution_count": 32,
     "metadata": {},
     "output_type": "execute_result"
    }
   ],
   "source": [
    "print(\"R2 for the EUR-only model:\")\n",
    "np.mean(cross_val_score(estimator=GradientBoostingRegressor(random_state=1),\n",
    "                        X=X_eur_pricing, \n",
    "                        y=y, \n",
    "                        cv=shuffle_split, \n",
    "                        scoring=\"r2\",\n",
    "                        n_jobs=5))"
   ]
  },
  {
   "cell_type": "code",
   "execution_count": 33,
   "id": "2479db8d",
   "metadata": {
    "scrolled": false
   },
   "outputs": [
    {
     "name": "stdout",
     "output_type": "stream",
     "text": [
      "R2 for the Twitter-only model:\n"
     ]
    },
    {
     "data": {
      "text/plain": [
       "0.802182601552715"
      ]
     },
     "execution_count": 33,
     "metadata": {},
     "output_type": "execute_result"
    }
   ],
   "source": [
    "print(\"R2 for the Twitter-only model:\")\n",
    "np.mean(cross_val_score(estimator=GradientBoostingRegressor(random_state=1),\n",
    "                        X=X_twitter, \n",
    "                        y=y, \n",
    "                        cv=shuffle_split, \n",
    "                        scoring=\"r2\",\n",
    "                        n_jobs=5))"
   ]
  },
  {
   "cell_type": "markdown",
   "id": "437f8556",
   "metadata": {},
   "source": [
    "##### Voting regressor"
   ]
  },
  {
   "cell_type": "markdown",
   "id": "6a7421a0",
   "metadata": {},
   "source": [
    "Define first the models that will be included in the votting regressor:"
   ]
  },
  {
   "cell_type": "code",
   "execution_count": 34,
   "id": "0b454476",
   "metadata": {},
   "outputs": [],
   "source": [
    "from sklearn.ensemble import VotingRegressor\n",
    "reg1 = GradientBoostingRegressor(random_state=1)\n",
    "reg2 = ExtraTreesRegressor(random_state=1)\n",
    "reg3 = Ridge()"
   ]
  },
  {
   "cell_type": "code",
   "execution_count": 35,
   "id": "c886a9e3",
   "metadata": {},
   "outputs": [
    {
     "name": "stdout",
     "output_type": "stream",
     "text": [
      "R2 for the full model:\n"
     ]
    },
    {
     "data": {
      "text/plain": [
       "0.9961732282481621"
      ]
     },
     "execution_count": 35,
     "metadata": {},
     "output_type": "execute_result"
    }
   ],
   "source": [
    "print(\"R2 for the full model:\")\n",
    "np.mean(cross_val_score(estimator=VotingRegressor(estimators=[('gb', reg1), ('et', reg2), ('rdg', reg3)]), \n",
    "                        X=X, \n",
    "                        y=y, \n",
    "                        cv=shuffle_split, \n",
    "                        scoring=\"r2\",\n",
    "                        n_jobs=5))"
   ]
  },
  {
   "cell_type": "code",
   "execution_count": 36,
   "id": "671b26ed",
   "metadata": {},
   "outputs": [
    {
     "name": "stdout",
     "output_type": "stream",
     "text": [
      "R2 for the EUR-only model:\n"
     ]
    },
    {
     "data": {
      "text/plain": [
       "0.9964867610793011"
      ]
     },
     "execution_count": 36,
     "metadata": {},
     "output_type": "execute_result"
    }
   ],
   "source": [
    "print(\"R2 for the EUR-only model:\")\n",
    "np.mean(cross_val_score(estimator=VotingRegressor(estimators=[('gb', reg1), ('et', reg2), ('rdg', reg3)]),\n",
    "                        X=X_eur_pricing, \n",
    "                        y=y, \n",
    "                        cv=shuffle_split, \n",
    "                        scoring=\"r2\",\n",
    "                        n_jobs=5))"
   ]
  },
  {
   "cell_type": "code",
   "execution_count": 37,
   "id": "526aa746",
   "metadata": {
    "scrolled": true
   },
   "outputs": [
    {
     "name": "stdout",
     "output_type": "stream",
     "text": [
      "R2 for the Twitter-only model:\n"
     ]
    },
    {
     "data": {
      "text/plain": [
       "0.8044995635266016"
      ]
     },
     "execution_count": 37,
     "metadata": {},
     "output_type": "execute_result"
    }
   ],
   "source": [
    "print(\"R2 for the Twitter-only model:\")\n",
    "np.mean(cross_val_score(estimator=VotingRegressor(estimators=[('gb', reg1), ('et', reg2), ('rdg', reg3)]),\n",
    "                        X=X_twitter, \n",
    "                        y=y, \n",
    "                        cv=shuffle_split, \n",
    "                        scoring=\"r2\",\n",
    "                        n_jobs=5))"
   ]
  },
  {
   "cell_type": "markdown",
   "id": "8bc9f41b",
   "metadata": {},
   "source": [
    "The higest R<sup>2</sup> was found for the full model in Extra Trees, so we will use this model in next steps."
   ]
  },
  {
   "cell_type": "markdown",
   "id": "f67af3a0",
   "metadata": {},
   "source": [
    "## Extra Trees Regressor"
   ]
  },
  {
   "cell_type": "markdown",
   "id": "7e41464c",
   "metadata": {},
   "source": [
    "### Grid search"
   ]
  },
  {
   "cell_type": "markdown",
   "id": "f38c4597",
   "metadata": {},
   "source": [
    "Perform a random grid search for the three different models in order to optimize the hyperparameters in each one."
   ]
  },
  {
   "cell_type": "code",
   "execution_count": 38,
   "id": "716e0e89",
   "metadata": {},
   "outputs": [],
   "source": [
    "full_model_grid_search = ExtraTreesRegressor(random_state=1)\n",
    "eur_model_grid_search = ExtraTreesRegressor(random_state=1)\n",
    "twitter_model_grid_search = ExtraTreesRegressor(random_state=1)"
   ]
  },
  {
   "cell_type": "markdown",
   "id": "7505ddb1",
   "metadata": {},
   "source": [
    "Prepare a dict with the parameters:"
   ]
  },
  {
   "cell_type": "code",
   "execution_count": 39,
   "id": "c883475b",
   "metadata": {},
   "outputs": [],
   "source": [
    "#Number of trees in random forest\n",
    "n_estimators = [100, 1000, 2000, 3000, 4000, 5000]\n",
    "\n",
    "#Minimum number of samples required to split a node\n",
    "min_samples_split = [2, 5, 10, 50, 70, 100]\n",
    "\n",
    "#Minimum number of samples required at each leaf node\n",
    "min_samples_leaf = [1, 2, 10, 40, 80, 100, 200, 300, 400]\n",
    "\n",
    "#Number of features to consider at every split\n",
    "max_features = ['auto', 'sqrt', 'log']\n",
    "\n",
    "#Maximum number of levels in tree\n",
    "max_depth = [10, 100, 200, 300, 400, 500]\n",
    "max_depth.append(None)\n",
    "\n",
    "#Method of selecting samples for training each tree\n",
    "bootstrap = [True, False]\n",
    "\n",
    "#make a dict with the parameters and values to be explored\n",
    "params = {'n_estimators': n_estimators,\n",
    "               'max_features': max_features,\n",
    "               'max_depth': max_depth,\n",
    "               'min_samples_split': min_samples_split,\n",
    "               'min_samples_leaf': min_samples_leaf,\n",
    "               'bootstrap': bootstrap}"
   ]
  },
  {
   "cell_type": "markdown",
   "id": "1b88579a",
   "metadata": {},
   "source": [
    "Prepare the random search for each of the three models:"
   ]
  },
  {
   "cell_type": "code",
   "execution_count": 40,
   "id": "13a60bd1",
   "metadata": {},
   "outputs": [],
   "source": [
    "from sklearn.model_selection import RandomizedSearchCV\n",
    "\n",
    "search_full_model = RandomizedSearchCV(estimator=full_model_grid_search, \n",
    "                                       param_distributions=params,\n",
    "                                       n_iter=100,\n",
    "                                       cv=shuffle_split, \n",
    "                                       verbose=2,\n",
    "                                       n_jobs=-2, \n",
    "                                       scoring=\"r2\")\n",
    "search_eur_model = RandomizedSearchCV(estimator=eur_model_grid_search, \n",
    "                                       param_distributions=params,\n",
    "                                       n_iter=100,\n",
    "                                       cv=shuffle_split, \n",
    "                                       verbose=2,\n",
    "                                       n_jobs=-2, \n",
    "                                       scoring=\"r2\")\n",
    "search_twitter_model = RandomizedSearchCV(estimator=twitter_model_grid_search, \n",
    "                                       param_distributions=params,\n",
    "                                       n_iter=100,\n",
    "                                       cv=shuffle_split, \n",
    "                                       verbose=2,\n",
    "                                       n_jobs=-2, \n",
    "                                       scoring=\"r2\")"
   ]
  },
  {
   "cell_type": "markdown",
   "id": "3b0948ca",
   "metadata": {},
   "source": [
    "Run the search:"
   ]
  },
  {
   "cell_type": "code",
   "execution_count": 41,
   "id": "91d23cdb",
   "metadata": {
    "scrolled": true
   },
   "outputs": [
    {
     "name": "stdout",
     "output_type": "stream",
     "text": [
      "Fitting 5 folds for each of 100 candidates, totalling 500 fits\n"
     ]
    },
    {
     "name": "stderr",
     "output_type": "stream",
     "text": [
      "/home/dftortosa/.local/lib/python3.6/site-packages/sklearn/model_selection/_search.py:925: UserWarning: One or more of the test scores are non-finite: [       nan 0.97021743 0.92696612 0.99491733 0.93092767 0.99491219\n",
      " 0.84380417 0.72709733        nan 0.86948122 0.92879301 0.9235525\n",
      " 0.99491377 0.99025893        nan        nan        nan        nan\n",
      " 0.9752406  0.95769454 0.91056541        nan 0.78636665 0.99468361\n",
      " 0.99326835        nan        nan        nan 0.99648382        nan\n",
      "        nan 0.75873454 0.91077496 0.68755576 0.83122565        nan\n",
      "        nan 0.68755576 0.97969581 0.48590191 0.97332329 0.98575866\n",
      " 0.9431909  0.99654172 0.99620795 0.99326389 0.93359722 0.9326563\n",
      " 0.99618094 0.97010608 0.99491733 0.58070973 0.72885213 0.76578605\n",
      " 0.99031818 0.99179758 0.98592952 0.99654594 0.52634741 0.91737731\n",
      "        nan 0.99621023        nan        nan        nan        nan\n",
      " 0.99621033 0.95773732 0.99605013 0.9431909  0.9602117         nan\n",
      " 0.93726784 0.99179866 0.46595139 0.95032427 0.83122565 0.91746353\n",
      " 0.99664726        nan        nan        nan 0.48590191 0.9596296\n",
      " 0.78636665 0.76790047        nan 0.99491211 0.91104507 0.68755576\n",
      " 0.99668225 0.96026579 0.86948122        nan        nan 0.97962499\n",
      "        nan 0.48590191 0.63882867        nan]\n",
      "  category=UserWarning\n"
     ]
    },
    {
     "name": "stdout",
     "output_type": "stream",
     "text": [
      "Fitting 5 folds for each of 100 candidates, totalling 500 fits\n"
     ]
    },
    {
     "name": "stderr",
     "output_type": "stream",
     "text": [
      "/home/dftortosa/.local/lib/python3.6/site-packages/sklearn/model_selection/_search.py:925: UserWarning: One or more of the test scores are non-finite: [0.99648472 0.95583072 0.9898092  0.96331772 0.98545118 0.84915612\n",
      "        nan 0.99492662 0.90904288 0.99273512        nan        nan\n",
      " 0.98113706 0.97167411 0.99667003        nan 0.96242255 0.99620984\n",
      "        nan 0.8786028         nan 0.95306888 0.99619486 0.98958205\n",
      " 0.99629649 0.99565524 0.98495089 0.99633607 0.99276185 0.9911372\n",
      " 0.99667983        nan        nan        nan        nan 0.9911372\n",
      " 0.95860982 0.84754561        nan        nan 0.98003638 0.9966799\n",
      " 0.98549761 0.97149201        nan 0.88164115        nan 0.98533114\n",
      " 0.99648305        nan 0.8786028  0.90648457 0.98113706 0.98820047\n",
      " 0.99415739 0.99220542 0.9582896  0.91039914        nan 0.98958205\n",
      "        nan        nan 0.93668925 0.97873704 0.93791371 0.97191367\n",
      " 0.98980984 0.99655974 0.98517421        nan 0.9957048  0.99661034\n",
      " 0.93803458 0.93791371 0.90599209        nan 0.86592768 0.78776525\n",
      " 0.90599209 0.9965736  0.99604667        nan        nan 0.789473\n",
      "        nan        nan 0.98976833 0.8786028         nan 0.90599209\n",
      " 0.9786063  0.99668293 0.99389031 0.99468983 0.91100739        nan\n",
      "        nan        nan        nan 0.98115917]\n",
      "  category=UserWarning\n"
     ]
    },
    {
     "name": "stdout",
     "output_type": "stream",
     "text": [
      "Fitting 5 folds for each of 100 candidates, totalling 500 fits\n"
     ]
    },
    {
     "name": "stderr",
     "output_type": "stream",
     "text": [
      "/home/dftortosa/.local/lib/python3.6/site-packages/sklearn/model_selection/_search.py:925: UserWarning: One or more of the test scores are non-finite: [0.75669226 0.79265537 0.17586946 0.81359742 0.72831315 0.75511177\n",
      "        nan 0.39222329 0.65667608        nan 0.71294133 0.72093978\n",
      "        nan 0.73195521 0.38629555 0.77309893 0.47666538 0.67956708\n",
      "        nan 0.67907715 0.74277774 0.18138706        nan 0.65667608\n",
      " 0.53361951 0.47789252 0.24111593 0.62548334 0.18136709        nan\n",
      " 0.38868419        nan        nan 0.67021759 0.76511707        nan\n",
      " 0.75693828 0.67996615        nan        nan 0.74803082        nan\n",
      " 0.76555161 0.69585681 0.75241339 0.46717205        nan 0.67943752\n",
      " 0.75655524 0.50611226 0.72442317        nan        nan        nan\n",
      " 0.69709094        nan 0.26330444 0.77358208        nan 0.18136709\n",
      " 0.67940689        nan        nan 0.5614325  0.47782883 0.62586934\n",
      "        nan        nan 0.47789252 0.60945162 0.38770912        nan\n",
      " 0.46666742 0.57233977 0.69641324        nan 0.44294466 0.5721713\n",
      "        nan 0.55862202 0.75446045        nan        nan 0.72091165\n",
      " 0.24075535        nan        nan 0.71216869 0.24200242        nan\n",
      " 0.55945545 0.46803043        nan        nan 0.83177577 0.4660998\n",
      "        nan 0.31972044 0.26631014 0.65560845]\n",
      "  category=UserWarning\n"
     ]
    },
    {
     "data": {
      "text/plain": [
       "RandomizedSearchCV(cv=ShuffleSplit(n_splits=5, random_state=1, test_size=0.3, train_size=None),\n",
       "                   estimator=ExtraTreesRegressor(random_state=1), n_iter=100,\n",
       "                   n_jobs=-2,\n",
       "                   param_distributions={'bootstrap': [True, False],\n",
       "                                        'max_depth': [10, 100, 200, 300, 400,\n",
       "                                                      500, None],\n",
       "                                        'max_features': ['auto', 'sqrt', 'log'],\n",
       "                                        'min_samples_leaf': [1, 2, 10, 40, 80,\n",
       "                                                             100, 200, 300,\n",
       "                                                             400],\n",
       "                                        'min_samples_split': [2, 5, 10, 50, 70,\n",
       "                                                              100],\n",
       "                                        'n_estimators': [100, 1000, 2000, 3000,\n",
       "                                                         4000]},\n",
       "                   scoring='r2', verbose=2)"
      ]
     },
     "execution_count": 41,
     "metadata": {},
     "output_type": "execute_result"
    }
   ],
   "source": [
    "#make the search for out data\n",
    "search_full_model.fit(X, y)\n",
    "search_eur_model.fit(X_eur_pricing, y)\n",
    "search_twitter_model.fit(X_twitter, y)"
   ]
  },
  {
   "cell_type": "markdown",
   "id": "c8fca66d",
   "metadata": {},
   "source": [
    "See the best parameters for each model:"
   ]
  },
  {
   "cell_type": "code",
   "execution_count": 42,
   "id": "757e43fc",
   "metadata": {},
   "outputs": [
    {
     "name": "stdout",
     "output_type": "stream",
     "text": [
      "Best score full model (CV score=0.997):\n",
      "Best score eur pricing model (CV score=0.997):\n",
      "Best score twitter model (CV score=0.832):\n"
     ]
    }
   ],
   "source": [
    "#print the best score with 3 decimals\n",
    "print(\"Best score full model (CV score=%0.3f):\" % search_full_model.best_score_)\n",
    "print(\"Best score eur pricing model (CV score=%0.3f):\" % search_eur_model.best_score_)\n",
    "print(\"Best score twitter model (CV score=%0.3f):\" % search_twitter_model.best_score_)"
   ]
  },
  {
   "cell_type": "code",
   "execution_count": 43,
   "id": "7240b003",
   "metadata": {},
   "outputs": [
    {
     "name": "stdout",
     "output_type": "stream",
     "text": [
      "Best parameters full model\n",
      "{'n_estimators': 2000, 'min_samples_split': 10, 'min_samples_leaf': 2, 'max_features': 'auto', 'max_depth': 200, 'bootstrap': False}\n",
      "Best parameters EUR-only model\n",
      "{'n_estimators': 4000, 'min_samples_split': 5, 'min_samples_leaf': 2, 'max_features': 'auto', 'max_depth': 400, 'bootstrap': True}\n",
      "Best parameters Twitter-only model\n",
      "{'n_estimators': 1000, 'min_samples_split': 5, 'min_samples_leaf': 2, 'max_features': 'auto', 'max_depth': 200, 'bootstrap': False}\n"
     ]
    }
   ],
   "source": [
    "#print the best value of the hyperparameter\n",
    "print(\"Best parameters full model\")\n",
    "print(search_full_model.best_params_)\n",
    "print(\"Best parameters EUR-only model\")\n",
    "print(search_eur_model.best_params_)\n",
    "print(\"Best parameters Twitter-only model\")\n",
    "print(search_twitter_model.best_params_)"
   ]
  },
  {
   "cell_type": "code",
   "execution_count": null,
   "id": "db73105c",
   "metadata": {
    "scrolled": true
   },
   "outputs": [],
   "source": [
    "#search_full_model.cv_results_\n",
    "#search_eur_model.cv_results_\n",
    "#search_twitter_model.cv_results_"
   ]
  },
  {
   "cell_type": "markdown",
   "id": "e1f6d899",
   "metadata": {},
   "source": [
    "### Optimized models"
   ]
  },
  {
   "cell_type": "markdown",
   "id": "dc4c29bc",
   "metadata": {},
   "source": [
    "Run the models with the optimized parameters:"
   ]
  },
  {
   "cell_type": "code",
   "execution_count": 78,
   "id": "d3c45313",
   "metadata": {},
   "outputs": [],
   "source": [
    "full_model = ExtraTreesRegressor(n_estimators=2000, \n",
    "                                   min_samples_split=10, \n",
    "                                   min_samples_leaf=2, \n",
    "                                   max_features=\"auto\",\n",
    "                                   max_depth=200,\n",
    "                                   bootstrap=False, \n",
    "                                   random_state=1)\n",
    "eur_model = ExtraTreesRegressor(n_estimators=4000, \n",
    "                                   min_samples_split=5, \n",
    "                                   min_samples_leaf=2, \n",
    "                                   max_features=\"auto\",\n",
    "                                   max_depth=400,\n",
    "                                   bootstrap=True, \n",
    "                                   random_state=1)\n",
    "twitter_model = ExtraTreesRegressor(n_estimators=1000, \n",
    "                                   min_samples_split=5, \n",
    "                                   min_samples_leaf=2, \n",
    "                                   max_features=\"auto\",\n",
    "                                   max_depth=200,\n",
    "                                   bootstrap=False, \n",
    "                                   random_state=1)"
   ]
  },
  {
   "cell_type": "markdown",
   "id": "e4ae721c",
   "metadata": {},
   "source": [
    "Use for that a set of shuffled train-test sets diferent to one used in the previous optimization:"
   ]
  },
  {
   "cell_type": "code",
   "execution_count": 79,
   "id": "128e13c4",
   "metadata": {},
   "outputs": [],
   "source": [
    "final_shuffle_split = ShuffleSplit(n_splits=5, test_size=0.3, random_state=2)"
   ]
  },
  {
   "cell_type": "markdown",
   "id": "d183e524",
   "metadata": {},
   "source": [
    "Repeate cross validation:"
   ]
  },
  {
   "cell_type": "code",
   "execution_count": 80,
   "id": "e37ceba3",
   "metadata": {},
   "outputs": [
    {
     "name": "stdout",
     "output_type": "stream",
     "text": [
      "R2 for the full model:\n"
     ]
    },
    {
     "data": {
      "text/plain": [
       "0.996617459484542"
      ]
     },
     "execution_count": 80,
     "metadata": {},
     "output_type": "execute_result"
    }
   ],
   "source": [
    "print(\"R2 for the full model:\")\n",
    "np.mean(cross_val_score(estimator=full_model, \n",
    "                        X=X, \n",
    "                        y=y, \n",
    "                        cv=shuffle_split, \n",
    "                        scoring=\"r2\",\n",
    "                        n_jobs=5))"
   ]
  },
  {
   "cell_type": "code",
   "execution_count": 81,
   "id": "ce3dc4f9",
   "metadata": {},
   "outputs": [
    {
     "name": "stdout",
     "output_type": "stream",
     "text": [
      "R2 for the EUR-only model:\n"
     ]
    },
    {
     "data": {
      "text/plain": [
       "0.9965954920417733"
      ]
     },
     "execution_count": 81,
     "metadata": {},
     "output_type": "execute_result"
    }
   ],
   "source": [
    "print(\"R2 for the EUR-only model:\")\n",
    "np.mean(cross_val_score(estimator=eur_model, \n",
    "                        X=X_eur_pricing, \n",
    "                        y=y, \n",
    "                        cv=shuffle_split, \n",
    "                        scoring=\"r2\",\n",
    "                        n_jobs=5))"
   ]
  },
  {
   "cell_type": "code",
   "execution_count": 77,
   "id": "5da6929f",
   "metadata": {
    "scrolled": true
   },
   "outputs": [
    {
     "name": "stdout",
     "output_type": "stream",
     "text": [
      "R2 for the Twitter-only model:\n"
     ]
    },
    {
     "data": {
      "text/plain": [
       "0.8317757732736188"
      ]
     },
     "execution_count": 77,
     "metadata": {},
     "output_type": "execute_result"
    }
   ],
   "source": [
    "print(\"R2 for the Twitter-only model:\")\n",
    "np.mean(cross_val_score(estimator=twitter_model, \n",
    "                        X=X_twitter, \n",
    "                        y=y, \n",
    "                        cv=shuffle_split, \n",
    "                        scoring=\"r2\",\n",
    "                        n_jobs=5))"
   ]
  },
  {
   "cell_type": "markdown",
   "id": "ee296ee5",
   "metadata": {},
   "source": [
    "Now fit and predict in the whole dataset:"
   ]
  },
  {
   "cell_type": "code",
   "execution_count": 82,
   "id": "0a6b891a",
   "metadata": {
    "scrolled": true
   },
   "outputs": [
    {
     "data": {
      "text/plain": [
       "ExtraTreesRegressor(max_depth=200, min_samples_leaf=2, min_samples_split=5,\n",
       "                    n_estimators=1000, random_state=1)"
      ]
     },
     "execution_count": 82,
     "metadata": {},
     "output_type": "execute_result"
    }
   ],
   "source": [
    "full_model.fit(X=X, y=y)\n",
    "eur_model.fit(X=X_eur_pricing, y=y)\n",
    "twitter_model.fit(X=X_twitter, y=y)"
   ]
  },
  {
   "cell_type": "code",
   "execution_count": 90,
   "id": "26ef1fee",
   "metadata": {},
   "outputs": [],
   "source": [
    "full_model_pred = full_model.predict(X=X)\n",
    "eur_model_pred = eur_model.predict(X=X_eur_pricing)\n",
    "twitter_model_pred = twitter_model.predict(X=X_twitter)"
   ]
  },
  {
   "cell_type": "markdown",
   "id": "bf91d133",
   "metadata": {},
   "source": [
    "See predictors importance:"
   ]
  },
  {
   "cell_type": "code",
   "execution_count": 92,
   "id": "193cb9d7",
   "metadata": {
    "scrolled": true
   },
   "outputs": [
    {
     "data": {
      "text/plain": [
       "<AxesSubplot:>"
      ]
     },
     "execution_count": 92,
     "metadata": {},
     "output_type": "execute_result"
    },
    {
     "data": {
      "image/png": "[encoded data removed]",
      "text/plain": [
       "<Figure size 432x288 with 1 Axes>"
      ]
     },
     "metadata": {
      "needs_background": "light"
     },
     "output_type": "display_data"
    }
   ],
   "source": [
    "#full model\n",
    "pd.Series(full_model.feature_importances_, index=predictors.columns).nlargest(10).plot(kind='barh')"
   ]
  },
  {
   "cell_type": "code",
   "execution_count": 93,
   "id": "f4cd025b",
   "metadata": {
    "scrolled": false
   },
   "outputs": [
    {
     "data": {
      "text/plain": [
       "<AxesSubplot:>"
      ]
     },
     "execution_count": 93,
     "metadata": {},
     "output_type": "execute_result"
    },
    {
     "data": {
      "image/png": "[encoded data removed]",
      "text/plain": [
       "<Figure size 432x288 with 1 Axes>"
      ]
     },
     "metadata": {
      "needs_background": "light"
     },
     "output_type": "display_data"
    }
   ],
   "source": [
    "#eur pricing model only\n",
    "pd.Series(eur_model.feature_importances_, index=predictors_eur_pricing.columns).nlargest(10).plot(kind='barh')"
   ]
  },
  {
   "cell_type": "code",
   "execution_count": 86,
   "id": "fbc34fd9",
   "metadata": {
    "scrolled": false
   },
   "outputs": [
    {
     "data": {
      "text/plain": [
       "<AxesSubplot:>"
      ]
     },
     "execution_count": 86,
     "metadata": {},
     "output_type": "execute_result"
    },
    {
     "data": {
      "image/png": "[encoded data removed]",
      "text/plain": [
       "<Figure size 432x288 with 1 Axes>"
      ]
     },
     "metadata": {
      "needs_background": "light"
     },
     "output_type": "display_data"
    }
   ],
   "source": [
    "#twitter predictors only\n",
    "pd.Series(twitter_model.feature_importances_, index=predictors_twitter.columns).nlargest(10).plot(kind='barh')"
   ]
  },
  {
   "cell_type": "code",
   "execution_count": 87,
   "id": "f4c2d13b",
   "metadata": {
    "scrolled": false
   },
   "outputs": [
    {
     "data": {
      "image/png": "[encoded data removed]",
      "text/plain": [
       "<Figure size 1080x288 with 3 Axes>"
      ]
     },
     "metadata": {
      "needs_background": "light"
     },
     "output_type": "display_data"
    }
   ],
   "source": [
    "import matplotlib.pyplot as plt\n",
    "from sklearn import metrics \n",
    "\n",
    "#open a plot with two panels\n",
    "fig, (ax1, ax2, ax3) = plt.subplots(1,3, figsize=(15,4))\n",
    "\n",
    "#plot scatter against date and eur pricing\n",
    "ax1.scatter(x=full_model_pred, y=y, s=0.5)\n",
    "ax2.scatter(x=eur_model_pred, y=y, s=0.5)\n",
    "ax3.scatter(x=twitter_model_pred, y=y, s=0.5)\n",
    "\n",
    "#set titles and axes labels\n",
    "ax1.title.set_text(\"Full model\")\n",
    "ax1.set_ylabel(\"Observed EUR/USD exchange\")\n",
    "ax1.set_xlabel(\"Predicted EUR/USD exchange\")\n",
    "ax2.title.set_text(\"EUR-only model\")\n",
    "ax2.set_xlabel(\"Predicted EUR/USD exchange\")\n",
    "ax3.title.set_text(\"Twitter-only model\")\n",
    "ax3.set_xlabel(\"Predicted EUR/USD exchange\")\n",
    "\n",
    "\n",
    "#add R2\n",
    "ax1.text(0.40, 0.8, 'R2 (whole dataset) = ' + str(np.round(metrics.r2_score(y, full_model_pred), 6)), horizontalalignment='center', verticalalignment='center', transform=ax1.transAxes)\n",
    "ax2.text(1.61, 0.8, 'R2 (whole dataset) = ' + str(np.round(metrics.r2_score(y, eur_model_pred), 6)), horizontalalignment='center', verticalalignment='center', transform=ax1.transAxes)\n",
    "ax3.text(2.75, 0.8, 'R2 (whole dataset) = ' + str(np.round(metrics.r2_score(y, twitter_model_pred), 6)), horizontalalignment='center', verticalalignment='center', transform=ax1.transAxes)\n",
    "\n",
    "#close\n",
    "plt.show()"
   ]
  },
  {
   "cell_type": "markdown",
   "id": "5a8661b9",
   "metadata": {},
   "source": [
    "The full model works best, followed by the Twitter-only model and the EUR-only model, but note that this considers the whole dataset and no CV was perfomed in order to get these R<sup>2</sup> values."
   ]
  },
  {
   "cell_type": "markdown",
   "id": "57a786bc",
   "metadata": {},
   "source": [
    "## Simplest model"
   ]
  },
  {
   "cell_type": "markdown",
   "id": "2e4ce6e3",
   "metadata": {},
   "source": [
    "Model considering the EUR pricing (EUR/USD exchange rate) of the previous day as the value of the current day: "
   ]
  },
  {
   "cell_type": "code",
   "execution_count": 88,
   "id": "6ab36705",
   "metadata": {
    "scrolled": true
   },
   "outputs": [
    {
     "data": {
      "text/plain": [
       "0.9968533411678203"
      ]
     },
     "execution_count": 88,
     "metadata": {},
     "output_type": "execute_result"
    }
   ],
   "source": [
    "metrics.r2_score(y, df_merged[\"previous_eur_pricing\"].values)"
   ]
  },
  {
   "cell_type": "code",
   "execution_count": 89,
   "id": "8379ed86",
   "metadata": {
    "scrolled": false
   },
   "outputs": [
    {
     "data": {
      "text/plain": [
       "<matplotlib.collections.PathCollection at 0x7f692908fb70>"
      ]
     },
     "execution_count": 89,
     "metadata": {},
     "output_type": "execute_result"
    },
    {
     "data": {
      "image/png": "[encoded data removed]",
      "text/plain": [
       "<Figure size 1080x288 with 1 Axes>"
      ]
     },
     "metadata": {
      "needs_background": "light"
     },
     "output_type": "display_data"
    }
   ],
   "source": [
    "#open a plot with two panels\n",
    "fig, ax1 = plt.subplots(1,1, figsize=(15,4))\n",
    "\n",
    "#plot scatter against date and eur pricing\n",
    "ax1.scatter(x=df_merged[\"previous_eur_pricing\"], y=y, s=0.5)"
   ]
  },
  {
   "cell_type": "markdown",
   "id": "0aecaee6",
   "metadata": {},
   "source": [
    "The price of Euro seems to be very stable, it can change from 1.2 to 1.1 but with small steps. This explains why the simplest model with just the previous EUR pricing without any modeling approach gets the highest R<sup>2</sup>.\n",
    "\n",
    "Extra Tree Regression models surpass this, being the full model the one with the highest predcitive power. However, when using CV to calculate R<sup>2</sup>, predictive power is a little bit lower in the full model compared to the simplest model, although this full model is still above the EUR-only and Twitter-only model. Despite this, it is relevant the fact that models including Twitter information work better in general than the EUR-only model.\n",
    "\n",
    "Therefore, it could be relevant the consideration of expectations around a fiat currencies using Twitter, and it could be more relevant if the currency is less stable than the Euro. Note that here I considered Twitter sentiment of the previous 15 days, so it may be the case that rapid changes in the expectations around a less estable currency could be detected in twitter anticipating changes in the value of the currency."
   ]
  }
 ],
 "metadata": {
  "kernelspec": {
   "display_name": "Python 3",
   "language": "python",
   "name": "python3"
  },
  "language_info": {
   "codemirror_mode": {
    "name": "ipython",
    "version": 3
   },
   "file_extension": ".py",
   "mimetype": "text/x-python",
   "name": "python",
   "nbconvert_exporter": "python",
   "pygments_lexer": "ipython3",
   "version": "3.6.9"
  }
 },
 "nbformat": 4,
 "nbformat_minor": 5
}
