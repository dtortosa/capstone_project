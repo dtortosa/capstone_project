{
 "cells": [
  {
   "cell_type": "markdown",
   "id": "69e78f48",
   "metadata": {},
   "source": [
    "# Scrapping Twitter data"
   ]
  },
  {
   "cell_type": "markdown",
   "id": "fcc86030",
   "metadata": {},
   "source": [
    "I will use Twitter to collect the expectations of the economic agents about the Euro, which can influence the demand of this currency and hence its value. \n",
    "\n",
    "In order to get tweets from Twitter, I will use SNScrape:\n",
    "\n",
    "- Installation command: `pip3.8 install --upgrade git+https://github.com/JustAnotherArchivist/snscrape@master`\n",
    "\n",
    "- snscrape info:\n",
    "    - https://github.com/JustAnotherArchivist/snscrape\n",
    "\t- https://pypi.org/project/snscrape/\n",
    "\n",
    "- tutorials:\n",
    "\t- https://medium.com/dataseries/how-to-scrape-millions-of-tweets-using-snscrape-195ee3594721\n",
    "    - https://betterprogramming.pub/how-to-scrape-tweets-with-snscrape-90124ed006af\n"
   ]
  },
  {
   "cell_type": "markdown",
   "id": "55a4631b",
   "metadata": {},
   "source": [
    "Set the working directory:"
   ]
  },
  {
   "cell_type": "code",
   "execution_count": 1,
   "id": "6650b6a2",
   "metadata": {},
   "outputs": [
    {
     "data": {
      "text/plain": [
       "'/media/dftortosa/Windows/Users/dftor/Documents/diego_docs/industry/data_incubator/capstone_project/data/json_files'"
      ]
     },
     "execution_count": 1,
     "metadata": {},
     "output_type": "execute_result"
    }
   ],
   "source": [
    "import os\n",
    "\n",
    "os.chdir(\"/media/dftortosa/Windows/Users/dftor/Documents/diego_docs/industry/data_incubator/capstone_project/data/json_files\")\n",
    "os.getcwd()"
   ]
  },
  {
   "cell_type": "markdown",
   "id": "43c611b4",
   "metadata": {},
   "source": [
    "Download tweets about the European Central Bank"
   ]
  },
  {
   "cell_type": "code",
   "execution_count": null,
   "id": "141b606f",
   "metadata": {},
   "outputs": [],
   "source": [
    "%%bash\n",
    "snscrape --jsonl --progress --since 1999-1-1 twitter-search \"european central bank until:2022-08-25\" > search_euro_bank_twitter_1999_1_1.json\n",
    "snscrape --jsonl --progress --since 1999-1-1 twitter-hashtag \"ecb until:2022-08-25\" > hashtag_euro_bank_twitter_1999_1_1.json\n",
    "    #[GLOBAL-OPTIONS]\n",
    "            #--jsonl: get the output as JSON\n",
    "            #--progress: show progress on stderr\n",
    "            #--max-results: return only the first N results\n",
    "            #--since DATETIME: Only return newer than DATETIME\n",
    "        #SCRAPER NAME\n",
    "            #twitter-search\n",
    "            #twitter-hashtag\n",
    "            #reddit-search\n",
    "            #etc...\n",
    "        #[SCRAPER-OPTIONS]\n",
    "            #Note that --since is an optional argument you can use, but until: is an operator used inside the twitter-search query. This seems to give me more consistent results than putting both arguments inside the query.\n",
    "                #https://betterprogramming.pub/how-to-scrape-tweets-with-snscrape-90124ed006af"
   ]
  },
  {
   "cell_type": "markdown",
   "id": "df768c89",
   "metadata": {},
   "source": [
    "Get tweets about the European debts crisis and the economy of the European Union in general:"
   ]
  },
  {
   "cell_type": "code",
   "execution_count": null,
   "id": "b47c13fd",
   "metadata": {},
   "outputs": [],
   "source": [
    "snscrape --jsonl --progress --since 1999-1-1 twitter-search \"EU debt crisis until:2022-08-25\" > search_eu_debt_crisis_twitter_1999_1_1.json\n",
    "snscrape --jsonl --progress --since 1999-1-1 twitter-search \"european union economy until:2022-08-25\" > search_european_union_economy_twitter_1999_1_1.json"
   ]
  },
  {
   "cell_type": "markdown",
   "id": "73c961ed",
   "metadata": {},
   "source": [
    "Download tweets about the economy of European Union countries using the Euro as currency:"
   ]
  },
  {
   "cell_type": "code",
   "execution_count": null,
   "id": "4bf01f17",
   "metadata": {},
   "outputs": [],
   "source": [
    "%%bash\n",
    "snscrape --jsonl --progress --since 1999-1-1 twitter-search \"Iceland economy until:2022-08-25\" > search_iceland_economy_twitter_1999_1_1.json\n",
    "snscrape --jsonl --progress --since 1999-1-1 twitter-search \"Portugal economy until:2022-08-25\" > search_portugal_economy_twitter_1999_1_1.json\n",
    "snscrape --jsonl --progress --since 1999-1-1 twitter-search \"Italy economy until:2022-08-25\" > search_italy_economy_twitter_1999_1_1.json\n",
    "snscrape --jsonl --progress --since 1999-1-1 twitter-search \"Ireland economy until:2022-08-25\" > search_ireland_economy_twitter_1999_1_1.json\n",
    "snscrape --jsonl --progress --since 1999-1-1 twitter-search \"Greece economy until:2022-08-25\" > search_greece_economy_twitter_1999_1_1.json\n",
    "snscrape --jsonl --progress --since 1999-1-1 twitter-search \"Spain economy until:2022-08-25\" > search_spain_economy_twitter_1999_1_1.json\n",
    "snscrape --jsonl --progress --since 1999-1-1 twitter-search \"Cyprus economy until:2022-08-25\" > search_cyprus_economy_twitter_1999_1_1.json\n",
    "snscrape --jsonl --progress --since 1999-1-1 twitter-search \"Slovenia economy until:2022-08-25\" > search_slovenia_economy_twitter_1999_1_1.json\n",
    "snscrape --jsonl --progress --since 1999-1-1 twitter-search \"France economy until:2022-08-25\" > search_france_economy_twitter_1999_1_1.json\n",
    "snscrape --jsonl --progress --since 1999-1-1 twitter-search \"Belgium economy until:2022-08-25\" > search_belgium_economy_twitter_1999_1_1.json\n",
    "snscrape --jsonl --progress --since 1999-1-1 twitter-search \"Croatia economy until:2022-08-25\" > search_croatia_economy_twitter_1999_1_1.json\n",
    "snscrape --jsonl --progress --since 1999-1-1 twitter-search \"Germany economy until:2022-08-25\" > search_germany_economy_twitter_1999_1_1.json\n",
    "snscrape --jsonl --progress --since 1999-1-1 twitter-search \"Netherlands economy until:2022-08-25\" > search_netherlands_economy_twitter_1999_1_1.json\n",
    "snscrape --jsonl --progress --since 1999-1-1 twitter-search \"Poland economy until:2022-08-25\" > search_poland_economy_twitter_1999_1_1.json\n",
    "snscrape --jsonl --progress --since 1999-1-1 twitter-search \"Sweden economy until:2022-08-25\" > search_sweden_economy_twitter_1999_1_1.json\n",
    "snscrape --jsonl --progress --since 1999-1-1 twitter-search \"Austria economy until:2022-08-25\" > search_austria_economy_twitter_1999_1_1.json\n",
    "snscrape --jsonl --progress --since 1999-1-1 twitter-search \"Luxembourg economy until:2022-08-25\" > search_luxembourg_economy_twitter_1999_1_1.json\n",
    "snscrape --jsonl --progress --since 1999-1-1 twitter-search \"Slovakia economy until:2022-08-25\" > search_slovakia_economy_twitter_1999_1_1.json\n",
    "snscrape --jsonl --progress --since 1999-1-1 twitter-search \"Malta economy until:2022-08-25\" > search_malta_economy_twitter_1999_1_1.json\n",
    "snscrape --jsonl --progress --since 1999-1-1 twitter-search \"Estonia economy until:2022-08-25\" > search_estonia_economy_twitter_1999_1_1.json\n",
    "snscrape --jsonl --progress --since 1999-1-1 twitter-search \"Latvia economy until:2022-08-25\" > search_latvia_economy_twitter_1999_1_1.json\n",
    "snscrape --jsonl --progress --since 1999-1-1 twitter-search \"Lithuania economy until:2022-08-25\" > search_lithuania_economy_twitter_1999_1_1.json"
   ]
  },
  {
   "cell_type": "markdown",
   "id": "c48b7316",
   "metadata": {},
   "source": [
    "Download tweets about the presidents of the ECB during their mandate (searches for tweets about Draghi and Lagarde do not work, so I looked for hashtags instead):"
   ]
  },
  {
   "cell_type": "code",
   "execution_count": null,
   "id": "8fba4fa7",
   "metadata": {},
   "outputs": [],
   "source": [
    "%%bash\n",
    "snscrape --jsonl --progress --since 2003-11-1 twitter-search \"Jean-Claude Trichet until:2011-10-31\" > search_trichet_twitter.json\n",
    "snscrape --jsonl --progress --since 2011-06-24 twitter-hashtag \"Draghi until:2019-10-31\" > hashtag_draghi_twitter.json\n",
    "snscrape --jsonl --progress --since 2019-09-17 twitter-hashtag \"Lagarde until:2022-08-25\" > hashtag_lagarde_twitter.json"
   ]
  },
  {
   "cell_type": "markdown",
   "id": "cdcd26ba",
   "metadata": {},
   "source": [
    "Get tweets about US Federal reserve (FED). This search only worked with hashtag:"
   ]
  },
  {
   "cell_type": "code",
   "execution_count": null,
   "id": "5a594b07",
   "metadata": {},
   "outputs": [],
   "source": [
    "%%bash\n",
    "snscrape --jsonl --progress --since 1999-1-1 twitter-hashtag \"fed until:2022-08-25\" > hashtag_fed_twitter_1999_1_1.json"
   ]
  }
 ],
 "metadata": {
  "kernelspec": {
   "display_name": "Python 3",
   "language": "python",
   "name": "python3"
  },
  "language_info": {
   "codemirror_mode": {
    "name": "ipython",
    "version": 3
   },
   "file_extension": ".py",
   "mimetype": "text/x-python",
   "name": "python",
   "nbconvert_exporter": "python",
   "pygments_lexer": "ipython3",
   "version": "3.6.9"
  }
 },
 "nbformat": 4,
 "nbformat_minor": 5
}
